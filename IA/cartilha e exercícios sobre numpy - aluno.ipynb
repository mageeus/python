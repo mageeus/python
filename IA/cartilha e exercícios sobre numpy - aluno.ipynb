{
 "cells": [
  {
   "cell_type": "code",
   "execution_count": 2,
   "metadata": {},
   "outputs": [
    {
     "name": "stdout",
     "output_type": "stream",
     "text": [
      "Requirement already satisfied: numpy in c:\\users\\suporte\\anaconda3\\lib\\site-packages (1.24.3)\n",
      "Note: you may need to restart the kernel to use updated packages.\n",
      "1.24.3\n"
     ]
    }
   ],
   "source": [
    "'''\n",
    "Comandos básicos\n",
    "'''\n",
    "#instalação do numpy\n",
    "%pip install numpy\n",
    "\n",
    "#imporação\n",
    "import numpy as np\n",
    "\n",
    "#exibir a função\n",
    "print(np.__version__)"
   ]
  },
  {
   "cell_type": "code",
   "execution_count": 3,
   "metadata": {},
   "outputs": [
    {
     "name": "stdout",
     "output_type": "stream",
     "text": [
      "[1 2 3]\n"
     ]
    }
   ],
   "source": [
    "'''\n",
    "Crie um array numpy com três números\n",
    "'''\n",
    "\n",
    "var = np.array([1,2,3])\n",
    "print(var)"
   ]
  },
  {
   "cell_type": "code",
   "execution_count": 5,
   "metadata": {},
   "outputs": [
    {
     "name": "stdout",
     "output_type": "stream",
     "text": [
      "sou uma instancia numpy\n"
     ]
    }
   ],
   "source": [
    "'''\n",
    "Mostre que o array é uma instância do numpy\n",
    "'''\n",
    "if isinstance(var, np.ndarray):\n",
    "    print (\"sou uma instancia numpy\")\n",
    "else:\n",
    "    print (\"não sou uma instancia numpy\")"
   ]
  },
  {
   "cell_type": "code",
   "execution_count": 20,
   "metadata": {},
   "outputs": [
    {
     "name": "stdout",
     "output_type": "stream",
     "text": [
      "[0. 0. 0. 0. 0. 0. 0. 0. 0. 0. 0. 0. 0. 0. 0.]\n"
     ]
    }
   ],
   "source": [
    "'''\n",
    "Crie um array do tipo numpy contendo 15 elementos de valor zero:\n",
    "'''\n",
    "\n",
    "var = np.zeros(15)\n",
    "\n",
    "print(var)"
   ]
  },
  {
   "cell_type": "code",
   "execution_count": 19,
   "metadata": {},
   "outputs": [
    {
     "name": "stdout",
     "output_type": "stream",
     "text": [
      "[[0 0 0 0]\n",
      " [0 0 0 0]\n",
      " [0 0 0 0]\n",
      " [0 0 0 0]]\n"
     ]
    }
   ],
   "source": [
    "'''\n",
    "Crie uma array Numpy de formato 4x4 preenchida com elementos de valor inicial zero. Tais elementos devem ser de tipo inteiro.\n",
    "'''\n",
    "array = np.zeros(shape=(4,4), dtype=\"int\")\n",
    "print(array)"
   ]
  },
  {
   "cell_type": "code",
   "execution_count": 23,
   "metadata": {},
   "outputs": [
    {
     "name": "stdout",
     "output_type": "stream",
     "text": [
      "[5. 5. 5. 5. 5. 5. 5. 5. 5. 5.]\n"
     ]
    }
   ],
   "source": [
    "'''\n",
    "Crie um array numpy composta de 10 elementos, todos de valor 5\n",
    "'''\n",
    "\n",
    "array = np.ones(10) * 5\n",
    "\n",
    "print(array)"
   ]
  },
  {
   "cell_type": "code",
   "execution_count": 26,
   "metadata": {},
   "outputs": [
    {
     "name": "stdout",
     "output_type": "stream",
     "text": [
      "[10 11 12 13 14 15 16 17 18 19 20 21 22 23 24 25 26 27 28 29 30 31 32 33\n",
      " 34 35 36 37 38 39 40]\n"
     ]
    }
   ],
   "source": [
    "#Crie um array numpy composta de números inteiros, dentro do intervalo de 10 a 40:\n",
    "\n",
    "array = np.arange(10,41)\n",
    "\n",
    "print(array)"
   ]
  },
  {
   "cell_type": "code",
   "execution_count": 32,
   "metadata": {},
   "outputs": [
    {
     "name": "stdout",
     "output_type": "stream",
     "text": [
      "[10 12 14 16 18 20 22 24 26 28 30 32 34 36 38 40 42 44 46 48 50]\n"
     ]
    }
   ],
   "source": [
    "#Crie um array numpy composta de elementos de valores pares, dentro do intervalo de 10 a 50\n",
    "\n",
    "array = np.arange(10,51,2)\n",
    "\n",
    "print(array)"
   ]
  },
  {
   "cell_type": "code",
   "execution_count": 38,
   "metadata": {},
   "outputs": [
    {
     "name": "stdout",
     "output_type": "stream",
     "text": [
      "[[0 1 2]\n",
      " [3 4 5]\n",
      " [6 7 8]]\n",
      "[[0 1 2]\n",
      " [3 4 5]\n",
      " [6 7 8]]\n"
     ]
    }
   ],
   "source": [
    "#crie um array numpy de formato 3x3 composta de valores inteiros entre 0 e 8\n",
    "array = np.arange(9)\n",
    "array = array.reshape(3, 3)\n",
    "print(array)\n",
    "#ou \n",
    "array = np.arange(9).reshape(3,3)\n",
    "print(array)\n"
   ]
  },
  {
   "cell_type": "code",
   "execution_count": 41,
   "metadata": {},
   "outputs": [
    {
     "name": "stdout",
     "output_type": "stream",
     "text": [
      "[[128. 128. 128. 128. 128. 128. 128. 128. 128. 128.]\n",
      " [128. 128. 128. 128. 128. 128. 128. 128. 128. 128.]\n",
      " [128. 128. 128. 128. 128. 128. 128. 128. 128. 128.]\n",
      " [128. 128. 128. 128. 128. 128. 128. 128. 128. 128.]\n",
      " [128. 128. 128. 128. 128. 128. 128. 128. 128. 128.]\n",
      " [128. 128. 128. 128. 128. 128. 128. 128. 128. 128.]\n",
      " [128. 128. 128. 128. 128. 128. 128. 128. 128. 128.]\n",
      " [128. 128. 128. 128. 128. 128. 128. 128. 128. 128.]\n",
      " [128. 128. 128. 128. 128. 128. 128. 128. 128. 128.]\n",
      " [128. 128. 128. 128. 128. 128. 128. 128. 128. 128.]]\n"
     ]
    }
   ],
   "source": [
    "#crie um array numpy de formato 10x10, preenchida com o valor 128, sendo cada elemento do tipo float:\n",
    "#array = (np.zeros(100) + 128).reshape(10,10)\n",
    "#print(array)\n",
    "\n",
    "array = np.full(shape=(10,10), fill_value=128, dtype=\"float\")\n",
    "print(array)"
   ]
  },
  {
   "cell_type": "code",
   "execution_count": 179,
   "metadata": {},
   "outputs": [
    {
     "name": "stdout",
     "output_type": "stream",
     "text": [
      "[0.09762428]\n"
     ]
    }
   ],
   "source": [
    "#crie um array numpy composta por apenas um elemento numérico aleatório de valor entre 0 e 1\n",
    "\n",
    "array = np.random.rand(1)\n",
    "\n",
    "print(array)"
   ]
  },
  {
   "cell_type": "code",
   "execution_count": 192,
   "metadata": {},
   "outputs": [
    {
     "name": "stdout",
     "output_type": "stream",
     "text": [
      "[-0.24212323  0.80816485 -0.35884275 -0.32548306 -2.64240835  0.97560638\n",
      " -1.58286273 -0.69345081  0.52250582 -0.0055642   1.40050635 -0.4600096\n",
      "  1.84330206  0.94559357  0.14814626 -0.52433911 -0.69234825  0.65527493\n",
      "  0.4950392   1.76777271  0.93346006 -1.11551626  1.12615702 -0.54099362\n",
      " -1.84530258]\n"
     ]
    }
   ],
   "source": [
    "#crie um array numpy composta por apenas 25 elementos numéricos aleatório de valores naturais\n",
    "\n",
    "array = np.random.randn(25)\n",
    "\n",
    "print(array)"
   ]
  },
  {
   "cell_type": "code",
   "execution_count": 200,
   "metadata": {},
   "outputs": [
    {
     "name": "stdout",
     "output_type": "stream",
     "text": [
      "[21 49  2  6 58 61 79 34 58 65 97 79 35 36 35 79 88 61 90 42 20 27 75 91\n",
      " 98 82]\n",
      "[[21 49  2  6 58 61 79 34 58 65 97 79 35]\n",
      " [36 35 79 88 61 90 42 20 27 75 91 98 82]]\n"
     ]
    }
   ],
   "source": [
    "# agora com 26 inteiros, e dimenção de 2x5\n",
    "\n",
    "array = np.random.randint(1,100, size=26)\n",
    "print(array)\n",
    "print(array.reshape(2,13))"
   ]
  },
  {
   "cell_type": "code",
   "execution_count": 228,
   "metadata": {},
   "outputs": [
    {
     "name": "stdout",
     "output_type": "stream",
     "text": [
      "[[20 21 22 23 24]\n",
      " [25 26 27 28 29]\n",
      " [30 31 32 33 34]\n",
      " [35 36 37 38 39]\n",
      " [40 41 42 43 44]]\n",
      "\n",
      "[[31 32 33 34]\n",
      " [36 37 38 39]\n",
      " [41 42 43 44]]\n"
     ]
    }
   ],
   "source": [
    "#dada uma matriz inicial de formato 5 x 5, composta de elementos numéricos\n",
    "#sequenciais entre 20 e 45, gere um novo array numpy contendo elementos \n",
    "#a partir da terceira linha e segunda coluna da matriz de origem\n",
    "\n",
    "array = np.arange(20,45).reshape(5,5)\n",
    "print(array)\n",
    "\n",
    "print(\"\")\n",
    "\n",
    "array2 = array[2:, 1:]\n",
    "print(array2)"
   ]
  }
 ],
 "metadata": {
  "kernelspec": {
   "display_name": "Python 3 (ipykernel)",
   "language": "python",
   "name": "python3"
  },
  "language_info": {
   "codemirror_mode": {
    "name": "ipython",
    "version": 3
   },
   "file_extension": ".py",
   "mimetype": "text/x-python",
   "name": "python",
   "nbconvert_exporter": "python",
   "pygments_lexer": "ipython3",
   "version": "3.11.3"
  },
  "orig_nbformat": 4
 },
 "nbformat": 4,
 "nbformat_minor": 2
}
