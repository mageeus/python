{
 "cells": [
  {
   "cell_type": "code",
   "execution_count": 4,
   "id": "88f9938b",
   "metadata": {},
   "outputs": [
    {
     "name": "stdout",
     "output_type": "stream",
     "text": [
      "Previsão de preço para uma casa de 2000 metros quadrados: R$317783.81\n"
     ]
    }
   ],
   "source": [
    "import numpy as np\n",
    "from sklearn.linear_model import LinearRegression\n",
    "\n",
    "# Dados de exemplo: área das casas e seus preços\n",
    "areas = np.array([1400, 1600, 1700, 1875, 1100, 1550, 2350, 2450, 1425, 1700])\n",
    "precos = np.array([245000, 312000, 279000, 308000, 199000, 219000, 405000, 324000, 319000, 255000])\n",
    "\n",
    "# Criando o modelo de regressão linear\n",
    "modelo = LinearRegression()\n",
    "\n",
    "# Treinando o modelo com os dados\n",
    "modelo.fit(areas.reshape(-1, 1), precos)\n",
    "#print(areas.reshape(-1, 1))\n",
    "\n",
    "'''\n",
    "\n",
    "Essa linha de código realiza o treinamento do modelo de Regressão Linear com os dados fornecidos. \n",
    "Vou explicar em detalhes o que cada parte dessa linha faz:\n",
    "\n",
    "modelo.fit(: Indica que estamos chamando o método fit do objeto modelo, \n",
    "que é uma instância da classe LinearRegression. \n",
    "O método fit é usado para treinar o modelo com os dados de entrada e os valores alvo.\n",
    "\n",
    "O método fit(ajustar) é usado em vários modelos de IA. Você pode se lembrar da expressão fitness, \n",
    "pois esse é o objetivo, treinar.\n",
    "\n",
    "areas.reshape(-1, 1): Aqui, areas é um array numpy que contém os valores das áreas das casas.\n",
    "No entanto, a regressão linear espera uma matriz bidimensional como entrada, \n",
    "onde cada linha representa um exemplo e cada coluna representa uma característica. \n",
    "Como estamos lidando apenas com uma característica (a área), \n",
    "usamos o método reshape para transformar o array areas em uma matriz de coluna, ou seja, \n",
    "com uma coluna e várias linhas. O -1 em reshape(-1, 1) \n",
    "indica que o número de linhas será determinado automaticamente para se ajustar aos dados.\n",
    "\n",
    "precos: É o array numpy que contém os valores alvo, ou seja, \n",
    "os preços correspondentes às áreas das casas. Esses são os valores que o modelo tentará prever.\n",
    "\n",
    "O resultado dessa linha é que o modelo de Regressão Linear \n",
    "está treinado com os dados de entrada (áreas) e os valores alvo (preços).\n",
    "O modelo aprende a relação entre as áreas e os preços durante esse processo de treinamento, \n",
    "de modo que, quando fornecemos uma nova área para previsão, \n",
    "ele pode estimar o preço correspondente com base no padrão aprendido nos dados de treinamento.\n",
    "\n",
    "'''\n",
    "\n",
    "\n",
    "# Fazendo uma previsão com o modelo treinado\n",
    "area_nova = np.array([[2000]])  # Área da nova casa para previsão\n",
    "previsao = modelo.predict(area_nova)\n",
    "'''\n",
    "previsao: É a variável onde armazenaremos a previsão de preço para a nova casa.\n",
    "modelo.predict(: Indica que estamos usando o método predict do objeto modelo para realizar a previsão.\n",
    "area_nova: É o array numpy que contém a área da nova casa que desejamos fazer a previsão. \n",
    "Neste caso, area_nova é uma matriz bidimensional com uma linha e uma coluna, onde a área da nova casa é armazenada.\n",
    "'''\n",
    "print(f\"Previsão de preço para uma casa de {area_nova[0][0]} metros quadrados: R${previsao[0]:.2f}\")\n",
    "\n",
    "# try:\n",
    "#     area_nova = np.array([[int(input('Informe a área em metros quadrados: '))]])  # Área da nova casa para previsão\n",
    "#     previsao = modelo.predict(area_nova)\n",
    "# except:\n",
    "#     pass\n",
    "# else:\n",
    "#     print(f\"Previsão de preço para uma casa de {area_nova[0][0]} metros quadrados: R${previsao[0]:.2f}\")"
   ]
  }
 ],
 "metadata": {
  "kernelspec": {
   "display_name": "Python 3 (ipykernel)",
   "language": "python",
   "name": "python3"
  },
  "language_info": {
   "codemirror_mode": {
    "name": "ipython",
    "version": 3
   },
   "file_extension": ".py",
   "mimetype": "text/x-python",
   "name": "python",
   "nbconvert_exporter": "python",
   "pygments_lexer": "ipython3",
   "version": "3.11.3"
  }
 },
 "nbformat": 4,
 "nbformat_minor": 5
}
