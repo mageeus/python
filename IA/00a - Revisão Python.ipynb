{
 "cells": [
  {
   "attachments": {},
   "cell_type": "markdown",
   "metadata": {},
   "source": [
    "# Revisão de Python"
   ]
  },
  {
   "attachments": {},
   "cell_type": "markdown",
   "metadata": {},
   "source": [
    "1.\tImprima o resultado de 1 + 1"
   ]
  },
  {
   "cell_type": "code",
   "execution_count": 1,
   "metadata": {},
   "outputs": [
    {
     "name": "stdout",
     "output_type": "stream",
     "text": [
      "2\n"
     ]
    }
   ],
   "source": [
    "print(1+1);"
   ]
  },
  {
   "attachments": {},
   "cell_type": "markdown",
   "metadata": {},
   "source": [
    "2.\tRegistre o valor de  1 + 1 em uma variável  e imprima com a frase “ O total é de: “"
   ]
  },
  {
   "cell_type": "code",
   "execution_count": 2,
   "metadata": {},
   "outputs": [
    {
     "name": "stdout",
     "output_type": "stream",
     "text": [
      "o total é de: 2\n"
     ]
    }
   ],
   "source": [
    "var = 1+1;\n",
    "print(f\"o total é de: {var}\");"
   ]
  },
  {
   "attachments": {},
   "cell_type": "markdown",
   "metadata": {},
   "source": [
    "3.\tSolicite a entrada de um número e imprima se é um número par ou impar\n",
    "\n",
    "4.\tAdicione o código anterior num bloco try/except/else"
   ]
  },
  {
   "cell_type": "code",
   "execution_count": 2,
   "metadata": {},
   "outputs": [],
   "source": [
    "\n",
    "\n",
    "#velocidade 1\n",
    "\n",
    "\n",
    "\n",
    "#velocidade 2\n",
    "\n",
    "    \n",
    "#velocidade 3    \n",
    "    \n"
   ]
  },
  {
   "attachments": {},
   "cell_type": "markdown",
   "metadata": {},
   "source": [
    "5.\tListe o nome das frutas de uma lista usando um loop for e exiba sei índice"
   ]
  },
  {
   "cell_type": "code",
   "execution_count": 2,
   "metadata": {},
   "outputs": [
    {
     "name": "stdout",
     "output_type": "stream",
     "text": [
      "a fruta maca tem seu indice 0\n",
      "a fruta banana tem seu indice 1\n",
      "a fruta melancia tem seu indice 2\n"
     ]
    }
   ],
   "source": [
    "frutas = [\"maca\", \"banana\", \"melancia\"]\n",
    "\n",
    "for i, fruta in enumerate(frutas):\n",
    "    print(f\"a fruta {fruta} tem seu indice {i}\")"
   ]
  },
  {
   "attachments": {},
   "cell_type": "markdown",
   "metadata": {},
   "source": [
    "6.\tConcatene duas strings"
   ]
  },
  {
   "cell_type": "code",
   "execution_count": null,
   "metadata": {},
   "outputs": [],
   "source": []
  },
  {
   "attachments": {},
   "cell_type": "markdown",
   "metadata": {},
   "source": [
    "7.\tUse o operador in e verifique se o caractere @ está incluindo no endereço de e-mail"
   ]
  },
  {
   "cell_type": "code",
   "execution_count": null,
   "metadata": {},
   "outputs": [],
   "source": []
  },
  {
   "cell_type": "raw",
   "metadata": {},
   "source": [
    "8. Considere a seguinte lista:\n",
    "\n",
    "legenda: dia, produto, cor, característica, unidades, valor\n",
    "\n",
    "vendas = [\n",
    "    ('20/06/2023', 'iphone x', 'azul', '128gb', 350, 4000),\n",
    "    ('20/06/2023', 'iphone x', 'prata', '128gb', 1500, 4000),\n",
    "    ('20/06/2023', 'ipad', 'prata', '256gb', 127, 6000),\n",
    "    ('20/06/2023', 'ipad', 'prata', '128gb', 981, 5000),\n",
    "    ('21/06/2023', 'iphone x', 'azul', '128gb', 397, 4000),\n",
    "    ('21/06/2023', 'iphone x', 'prata', '128gb', 1017, 4000),\n",
    "    ('21/06/2023', 'ipad', 'prata', '256gb', 50, 6000),\n",
    "    ('21/06/2023', 'ipad', 'prata', '128gb', 4000, 5000),\n",
    "]\n",
    "\n",
    "- Qual foi o faturamento de IPhone no dia 20/06/2023?\n",
    "- Qual foi o produto mais vendido (em unidades) no dia 21/06/2023?"
   ]
  },
  {
   "cell_type": "code",
   "execution_count": 3,
   "metadata": {},
   "outputs": [],
   "source": [
    "vendas = [\n",
    "    ('20/06/2023', 'iphone x', 'azul', '128gb', 350, 4000),\n",
    "    ('20/06/2023', 'iphone x', 'prata', '128gb', 1500, 4000),\n",
    "    ('20/06/2023', 'ipad', 'prata', '256gb', 127, 6000),\n",
    "    ('20/06/2023', 'ipad', 'prata', '128gb', 981, 5000),\n",
    "    ('21/06/2023', 'iphone x', 'azul', '128gb', 397, 4000),\n",
    "    ('21/06/2023', 'iphone x', 'prata', '128gb', 1017, 4000),\n",
    "    ('21/06/2023', 'ipad', 'prata', '256gb', 50, 6000),\n",
    "    ('21/06/2023', 'ipad', 'prata', '128gb', 4000, 5000),\n",
    "]\n",
    "\n"
   ]
  },
  {
   "cell_type": "raw",
   "metadata": {},
   "source": [
    "9. Crie uma classe de calculos que receba um operador e dois valores.\n",
    "    Crie um método para receber os elementos chamado set_valores.\n",
    "    Esse método deve chamar o método calcule que baseado no operador vai somar, subtrair, multiplicar e dividir.\n",
    "    O contrutor da classe deve zerar os operadores e registrar como operador padrão o sinal +.\n",
    "    Crie uma classe derivada da classe de cálculos chamada CalculosCientificos e acesse o contrutor da classe pai.\n",
    "    Crie um objeto da classe CalculosCientificos.\n",
    "    Use a classe depurador para mostrar os atributos.\n",
    "    Faça alguns cálculos para mostrar o funcionamento da classe."
   ]
  },
  {
   "cell_type": "code",
   "execution_count": 4,
   "metadata": {},
   "outputs": [],
   "source": [
    "def calculos(operador, valor1, valor2):\n",
    "    def __init__(operador, valor1, valor2):\n",
    "        operador = '+';\n",
    "        valor1 = 0;\n",
    "        valor2 = 0;\n",
    "    \n",
    "\n",
    "\n",
    "\n",
    "import inspect\n",
    "\n",
    "\n",
    "    \n",
    "class Depurador:\n",
    "    @staticmethod\n",
    "    def lista_atributos(objeto):\n",
    "        \n",
    "        atributos = dir(objeto)\n",
    "        \n",
    "        for atributo in atributos:\n",
    "            valor = getattr(objeto, atributo)\n",
    "            print(f\"{atributo}: {valor}\")\n",
    "        \n",
    "\n"
   ]
  }
 ],
 "metadata": {
  "kernelspec": {
   "display_name": "Python 3 (ipykernel)",
   "language": "python",
   "name": "python3"
  },
  "language_info": {
   "codemirror_mode": {
    "name": "ipython",
    "version": 3
   },
   "file_extension": ".py",
   "mimetype": "text/x-python",
   "name": "python",
   "nbconvert_exporter": "python",
   "pygments_lexer": "ipython3",
   "version": "3.11.2"
  }
 },
 "nbformat": 4,
 "nbformat_minor": 2
}
