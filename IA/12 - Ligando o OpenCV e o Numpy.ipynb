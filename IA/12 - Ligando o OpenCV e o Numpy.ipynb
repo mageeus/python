{
 "cells": [
  {
   "cell_type": "code",
   "execution_count": 4,
   "metadata": {},
   "outputs": [
    {
     "name": "stdout",
     "output_type": "stream",
     "text": [
      "[[[ 58 124 144]\n",
      "  [ 56 122 142]\n",
      "  [ 54 119 139]\n",
      "  ...\n",
      "  [ 26 122 154]\n",
      "  [ 27 122 155]\n",
      "  [ 32 126 159]]\n",
      "\n",
      " [[ 59 125 146]\n",
      "  [ 57 123 144]\n",
      "  [ 54 119 140]\n",
      "  ...\n",
      "  [ 30 125 157]\n",
      "  [ 32 126 159]\n",
      "  [ 37 131 163]]\n",
      "\n",
      " [[ 62 128 149]\n",
      "  [ 60 126 147]\n",
      "  [ 56 122 143]\n",
      "  ...\n",
      "  [ 34 128 161]\n",
      "  [ 37 131 164]\n",
      "  [ 43 136 169]]\n",
      "\n",
      " ...\n",
      "\n",
      " [[ 71 243 248]\n",
      "  [ 72 242 248]\n",
      "  [ 73 242 248]\n",
      "  ...\n",
      "  [ 30  54  66]\n",
      "  [ 30  53  66]\n",
      "  [ 31  52  66]]\n",
      "\n",
      " [[ 70 243 248]\n",
      "  [ 70 243 247]\n",
      "  [ 71 242 247]\n",
      "  ...\n",
      "  [ 29  54  66]\n",
      "  [ 28  51  64]\n",
      "  [ 27  50  63]]\n",
      "\n",
      " [[ 67 243 246]\n",
      "  [ 68 242 245]\n",
      "  [ 68 241 245]\n",
      "  ...\n",
      "  [ 29  53  64]\n",
      "  [ 28  51  62]\n",
      "  [ 28  49  61]]]\n",
      "A imagem é colorida.\n"
     ]
    }
   ],
   "source": [
    "import cv2\n",
    "import numpy as np\n",
    "\n",
    "# Carregue a imagem usando o OpenCV\n",
    "#imagem = cv2.imread('prentobranco.jpg')\n",
    "imagem = cv2.imread('colorido.png')\n",
    "\n",
    "print(imagem)\n",
    "\n",
    "# Verifique se a imagem foi carregada com sucesso\n",
    "if imagem is not None:\n",
    "    # Converta a imagem para escala de cinza\n",
    "    imagem_gray = cv2.cvtColor(imagem, cv2.COLOR_BGR2GRAY)\n",
    "    \n",
    "    # Calcule a escala de cinza média dos pixels\n",
    "    media_escala_de_cinza = np.mean(imagem_gray)\n",
    "    #print(media_escala_de_cinza)    \n",
    "    \n",
    "    # Defina um limite para determinar se a imagem é em preto e branco\n",
    "    limite_escala_de_cinza = 70  # Ajuste esse valor conforme necessário\n",
    "    \n",
    "    if media_escala_de_cinza < limite_escala_de_cinza:\n",
    "        print(\"A imagem é em preto e branco.\")\n",
    "    else:\n",
    "        print(\"A imagem é colorida.\")\n",
    "    \n",
    "    # Exiba a imagem (opcional)\n",
    "    cv2.imshow('Imagem', imagem)\n",
    "    cv2.waitKey(0)\n",
    "    cv2.destroyAllWindows()\n",
    "else:\n",
    "    print(\"Não foi possível carregar a imagem.\")\n"
   ]
  },
  {
   "cell_type": "code",
   "execution_count": 7,
   "metadata": {},
   "outputs": [
    {
     "name": "stdout",
     "output_type": "stream",
     "text": [
      "[[0 0 0]\n",
      " [0 0 0]\n",
      " [0 0 0]]\n",
      "[[[0 0 0]\n",
      "  [0 0 0]\n",
      "  [0 0 0]]\n",
      "\n",
      " [[0 0 0]\n",
      "  [0 0 0]\n",
      "  [0 0 0]]\n",
      "\n",
      " [[0 0 0]\n",
      "  [0 0 0]\n",
      "  [0 0 0]]]\n"
     ]
    }
   ],
   "source": [
    "import numpy as np\n",
    "import cv2\n",
    "\n",
    "img = np.zeros((3, 3), dtype=np.uint8)\n",
    "\n",
    "print(img)\n",
    "\n",
    "\n",
    "img = cv2.cvtColor(img, cv2.COLOR_GRAY2BGR)\n",
    "\n",
    "print(img)\n",
    "\n",
    "window_name = 'Minha Janela'\n",
    "\n",
    "\n",
    "cv2.imshow(window_name, img)\n",
    "cv2.imwrite('file.jpg', img)\n",
    "\n",
    "cv2.waitKey(0)\n",
    "cv2.destroyAllWindows()"
   ]
  },
  {
   "cell_type": "code",
   "execution_count": 2,
   "metadata": {},
   "outputs": [],
   "source": [
    "import cv2\n",
    "import numpy\n",
    "import os\n",
    "# Make an array of 120,000 random bytes.\n",
    "randomByteArray = bytearray(os.urandom(120000))\n",
    "flatNumpyArray = numpy.array(randomByteArray)\n",
    "# Convert the array to make a 400x300 grayscale image.\n",
    "grayImage = flatNumpyArray.reshape(300, 400)\n",
    "cv2.imwrite('RandomGray.png', grayImage)\n",
    "# Convert the array to make a 400x100 color image.\n",
    "bgrImage = flatNumpyArray.reshape(100, 400, 3)\n",
    "cv2.imwrite('RandomColor.png', bgrImage)\n",
    "img = cv2.imread('RandomColor.png')\n",
    "cv2.imshow('RandomColor.png',img)\n"
   ]
  },
  {
   "cell_type": "code",
   "execution_count": 1,
   "metadata": {},
   "outputs": [
    {
     "ename": "NameError",
     "evalue": "name 'cv2' is not defined",
     "output_type": "error",
     "traceback": [
      "\u001b[1;31m---------------------------------------------------------------------------\u001b[0m",
      "\u001b[1;31mNameError\u001b[0m                                 Traceback (most recent call last)",
      "\u001b[1;32md:\\OneDrive\\PythonCode\\IA\\6º Período\\12 - Ligando o OpenCV e o Numpy.ipynb Cell 4\u001b[0m line \u001b[0;36m1\n\u001b[1;32m----> <a href='vscode-notebook-cell:/d%3A/OneDrive/PythonCode/IA/6%C2%BA%20Per%C3%ADodo/12%20-%20Ligando%20o%20OpenCV%20e%20o%20Numpy.ipynb#W3sZmlsZQ%3D%3D?line=0'>1</a>\u001b[0m cv2\u001b[39m.\u001b[39mdestroyAllWindows()\n",
      "\u001b[1;31mNameError\u001b[0m: name 'cv2' is not defined"
     ]
    }
   ],
   "source": [
    "cv2.destroyAllWindows()"
   ]
  }
 ],
 "metadata": {
  "kernelspec": {
   "display_name": "exemplo1",
   "language": "python",
   "name": "python3"
  },
  "language_info": {
   "codemirror_mode": {
    "name": "ipython",
    "version": 3
   },
   "file_extension": ".py",
   "mimetype": "text/x-python",
   "name": "python",
   "nbconvert_exporter": "python",
   "pygments_lexer": "ipython3",
   "version": "3.10.9"
  },
  "orig_nbformat": 4
 },
 "nbformat": 4,
 "nbformat_minor": 2
}
