{
 "cells": [
  {
   "cell_type": "code",
   "execution_count": 2,
   "metadata": {},
   "outputs": [],
   "source": [
    "import cv2\n",
    "\n",
    "# Carregar uma imagem do disco\n",
    "imagem = cv2.imread('pessoas2.jpeg')\n",
    "\n",
    "# Verificar se a imagem foi carregada corretamente\n",
    "if imagem is None:\n",
    "    print('Erro ao carregar a imagem.')\n",
    "else:\n",
    "    # Exibir a imagem original\n",
    "    cv2.imshow('Imagem Original', imagem)\n",
    "    \n",
    "    # Converter a imagem para tons de cinza\n",
    "    imagem_cinza = cv2.cvtColor(imagem, cv2.COLOR_BGR2GRAY)\n",
    "    cv2.imshow('Imagem em Tons de Cinza', imagem_cinza)\n",
    "    \n",
    "    # Aplicar um filtro de borramento (blur)\n",
    "    imagem_borrada = cv2.GaussianBlur(imagem, (15, 15), 0)\n",
    "    cv2.imshow('Imagem Borraada', imagem_borrada)\n",
    "    \n",
    "    # Detectar bordas na imagem usando o detector de Canny\n",
    "    bordas = cv2.Canny(imagem_cinza, 100, 200)\n",
    "    cv2.imshow('Detecção de Bordas (Canny)', bordas)\n",
    "    \n",
    "    # Salvar a imagem resultante\n",
    "    cv2.imwrite('imagem_resultante.jpg', bordas)\n",
    "    \n",
    "    # Aguardar o pressionamento de uma tecla e fechar as janelas\n",
    "    cv2.waitKey(0)\n",
    "    cv2.destroyAllWindows()\n"
   ]
  }
 ],
 "metadata": {
  "kernelspec": {
   "display_name": "Python 3 (ipykernel)",
   "language": "python",
   "name": "python3"
  },
  "orig_nbformat": 4
 },
 "nbformat": 4,
 "nbformat_minor": 2
}
