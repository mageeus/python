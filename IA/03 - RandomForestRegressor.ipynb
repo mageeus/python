{
 "cells": [
  {
   "cell_type": "code",
   "execution_count": 1,
   "id": "58de94ef",
   "metadata": {},
   "outputs": [
    {
     "ename": "ModuleNotFoundError",
     "evalue": "No module named 'sklearn'",
     "output_type": "error",
     "traceback": [
      "\u001b[1;31m---------------------------------------------------------------------------\u001b[0m",
      "\u001b[1;31mModuleNotFoundError\u001b[0m                       Traceback (most recent call last)",
      "Cell \u001b[1;32mIn[1], line 2\u001b[0m\n\u001b[0;32m      1\u001b[0m \u001b[39mimport\u001b[39;00m \u001b[39mnumpy\u001b[39;00m \u001b[39mas\u001b[39;00m \u001b[39mnp\u001b[39;00m\n\u001b[1;32m----> 2\u001b[0m \u001b[39mfrom\u001b[39;00m \u001b[39msklearn\u001b[39;00m\u001b[39m.\u001b[39;00m\u001b[39mensemble\u001b[39;00m \u001b[39mimport\u001b[39;00m RandomForestRegressor\n\u001b[0;32m      3\u001b[0m \u001b[39mfrom\u001b[39;00m \u001b[39msklearn\u001b[39;00m\u001b[39m.\u001b[39;00m\u001b[39mmodel_selection\u001b[39;00m \u001b[39mimport\u001b[39;00m train_test_split\n\u001b[0;32m      4\u001b[0m \u001b[39mfrom\u001b[39;00m \u001b[39msklearn\u001b[39;00m\u001b[39m.\u001b[39;00m\u001b[39mmetrics\u001b[39;00m \u001b[39mimport\u001b[39;00m mean_squared_error, r2_score\n",
      "\u001b[1;31mModuleNotFoundError\u001b[0m: No module named 'sklearn'"
     ]
    }
   ],
   "source": [
    "import numpy as np\n",
    "from sklearn.ensemble import RandomForestRegressor\n",
    "from sklearn.model_selection import train_test_split\n",
    "from sklearn.metrics import mean_squared_error, r2_score\n",
    "\n",
    "# Dados de exemplo: área das casas e seus preços\n",
    "areas = np.array([1400, 1600, 1700, 1875, 1100, 1550, 2350, 2450, 1425, 1700])\n",
    "precos = np.array([245000, 312000, 279000, 308000, 199000, 219000, 405000, 324000, 319000, 255000])\n",
    "\n",
    "# Dividindo os dados em conjuntos de treinamento e teste\n",
    "areas_treino, areas_teste, precos_treino, precos_teste = train_test_split(areas.reshape(-1, 1), precos, test_size=0.2, random_state=42)\n",
    "print(areas_treino)\n",
    "# Criando o modelo Random Forest\n",
    "modelo_rf = RandomForestRegressor(n_estimators=100, random_state=42)\n",
    "\n",
    "'''\n",
    "RandomForestRegressor: É a classe que representa o modelo de regressão baseado em Random Forest.\n",
    "n_estimators: É o número de árvores de decisão que serão criadas na floresta aleatória. \n",
    "Cada árvore contribuirá com uma previsão, e a média (ou votação, dependendo do problema) dessas previsões \n",
    "será a previsão final do modelo. \n",
    "No exemplo, está definido como 100, o que significa que o modelo criará 100 árvores.\n",
    "\n",
    "random_state: É uma semente (seed) para a geração de números pseudoaleatórios. \n",
    "E aqui tem a mesma função apresentada no código anterior.\n",
    "'''\n",
    "\n",
    "# Treinando o modelo\n",
    "modelo_rf.fit(areas_treino, precos_treino)\n",
    "\n",
    "# Fazendo previsões nos dados de teste\n",
    "previsoes_teste = modelo_rf.predict(areas_teste)\n",
    "print(areas_teste)\n",
    "print(previsoes_teste)\n",
    "\n",
    "# Calculando métricas de avaliação\n",
    "mse_teste = mean_squared_error(precos_teste, previsoes_teste)\n",
    "print(precos_teste)\n",
    "print(previsoes_teste)\n",
    "r2_teste = r2_score(precos_teste, previsoes_teste)\n",
    "\n",
    "print(f\"Erro Médio Quadrado nos dados de teste: {mse_teste:.2f}\")\n",
    "print(f\"Coeficiente de Determinação nos dados de teste: {r2_teste:.2f}\")"
   ]
  }
 ],
 "metadata": {
  "kernelspec": {
   "display_name": "Python 3 (ipykernel)",
   "language": "python",
   "name": "python3"
  },
  "language_info": {
   "codemirror_mode": {
    "name": "ipython",
    "version": 3
   },
   "file_extension": ".py",
   "mimetype": "text/x-python",
   "name": "python",
   "nbconvert_exporter": "python",
   "pygments_lexer": "ipython3",
   "version": "3.11.2"
  }
 },
 "nbformat": 4,
 "nbformat_minor": 5
}
