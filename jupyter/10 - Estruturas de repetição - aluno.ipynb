{
 "cells": [
  {
   "cell_type": "markdown",
   "id": "3a336085",
   "metadata": {},
   "source": [
    "# Estruturas de repetição\n",
    "\n",
    "### Estrutura de Repetição: for\n",
    "Funcionamento:"
   ]
  },
  {
   "cell_type": "raw",
   "id": "1676bae3",
   "metadata": {},
   "source": [
    "for i in range(n):\n",
    "    repetir código n vezes"
   ]
  },
  {
   "cell_type": "code",
   "execution_count": 1,
   "id": "62154abe",
   "metadata": {},
   "outputs": [
    {
     "name": "stdout",
     "output_type": "stream",
     "text": [
      "0\n",
      "1\n",
      "2\n",
      "3\n",
      "4\n"
     ]
    }
   ],
   "source": [
    "for i in range(5):\n",
    "    print(i)"
   ]
  },
  {
   "cell_type": "raw",
   "id": "79b0e854",
   "metadata": {},
   "source": [
    "Liste as quantidades produzidas de cada produto:\n",
    "\n",
    "produtos = ['coca', 'pepsi', 'guarana', 'sprite', 'fanta']\n",
    "producao = [15000, 12000, 13000, 5000, 250]"
   ]
  },
  {
   "cell_type": "code",
   "execution_count": null,
   "id": "4fea0f42",
   "metadata": {},
   "outputs": [],
   "source": []
  },
  {
   "cell_type": "markdown",
   "id": "a72aa76e",
   "metadata": {},
   "source": [
    "### For \"each\"\n",
    "Estrutura:\n",
    "O for no Python consegue percorrer uma lista e a cada \"loop\" retornar o valor do item."
   ]
  },
  {
   "cell_type": "raw",
   "id": "b2d97242",
   "metadata": {},
   "source": [
    "for i in range(5):\n",
    "    print(i)\n",
    "    \n",
    "range(5) é na verdade uma lista do tipo: [0, 1, 2, 3, 4]\n",
    "\n",
    "for item in lista:\n",
    "    print(item)\n",
    "    \n",
    "ou então para string:\n",
    "\n",
    "for ch in texto:\n",
    "    print(ch)"
   ]
  },
  {
   "cell_type": "raw",
   "id": "50667615",
   "metadata": {},
   "source": [
    "Liste os itens da lista e as letras do e-mail\n",
    "\n",
    "produtos = ['coca', 'pepsi', 'guarana', 'sprite', 'fanta']\n",
    "texto = 'saldanha@gmail.com'"
   ]
  },
  {
   "cell_type": "code",
   "execution_count": null,
   "id": "aa661402",
   "metadata": {},
   "outputs": [],
   "source": []
  },
  {
   "cell_type": "markdown",
   "id": "ed3ea464",
   "metadata": {},
   "source": [
    "# for + if\n",
    "\n",
    "### Estrutura:"
   ]
  },
  {
   "cell_type": "raw",
   "id": "4b6c9299",
   "metadata": {},
   "source": [
    "for item in lista:\n",
    "    if condicao:\n",
    "        faça alguma coisa\n",
    "    else:\n",
    "        outra coisa"
   ]
  },
  {
   "cell_type": "raw",
   "id": "51a75631",
   "metadata": {},
   "source": [
    "Digamos que a gente esteja analisando a meta de vendas de vários funcionários de uma empresa. A meta de vendas é de 1000 reais em 1 dia.\n",
    "\n",
    "Temos uma lista com as vendas de todos os funcionários e quero calcular qual o % de pessoas que bateram a meta.\n",
    "\n",
    "vendas = [1200, 300, 800, 1500, 1900, 2750, 400, 20, 23, 70, 90, 80, 1100, 999, 900, 880, 870, 50, 1111, 120, 300, 450, 800]\n",
    "meta = 1000"
   ]
  },
  {
   "cell_type": "code",
   "execution_count": null,
   "id": "4c8f2735",
   "metadata": {},
   "outputs": [],
   "source": []
  },
  {
   "cell_type": "markdown",
   "id": "c86ed01a",
   "metadata": {},
   "source": [
    "# Enumerate\n",
    "\n",
    "### Estrutura:\n",
    "\n",
    "O enumerate permite que você percorra uma lista e ao mesmo tempo tenha em uma variável o índice daquele item.\n",
    "\n",
    "- for normalmente"
   ]
  },
  {
   "cell_type": "raw",
   "id": "56e6d251",
   "metadata": {},
   "source": [
    "#normal\n",
    "for item in lista:\n",
    "    resto do código\n",
    "    \n",
    "#enumerate\n",
    "for i, item in enumerate(lista):\n",
    "    resto do código\n",
    "    \n",
    "    \n",
    " funcionarios = ['Maria', 'José', 'Antônio', 'João', 'Francisco', 'Ana', 'Luiz', 'Paulo', 'Carlos', 'Manoel', 'Pedro', 'Francisca', 'Marcos', 'Raimundo', 'Sebastião', 'Antônia', 'Marcelo', 'Jorge', 'Márcia', 'Geraldo', 'Adriana', 'Sandra', 'Luis']"
   ]
  },
  {
   "cell_type": "code",
   "execution_count": 1,
   "id": "badae241",
   "metadata": {},
   "outputs": [],
   "source": [
    "#normal\n",
    "\n",
    "    "
   ]
  },
  {
   "cell_type": "code",
   "execution_count": null,
   "id": "0eaa50c7",
   "metadata": {},
   "outputs": [],
   "source": []
  },
  {
   "cell_type": "markdown",
   "id": "8f133066",
   "metadata": {},
   "source": [
    "### Exemplo Prático\n",
    "\n",
    "Vamos pegar um exemplo de nível mínimo de estoque. Em uma fábrica você tem vários produtos e não pode deixar que os produtos fiquem em falta. Para isso, foi definido uma quantidade mínima de estoque que os produtos precisam ter:\n",
    "\n",
    "Identifique quais produtos estão abaixo do nível mínimo de estoque.\n",
    "\n"
   ]
  },
  {
   "cell_type": "raw",
   "id": "43443038",
   "metadata": {},
   "source": [
    "estoque = [1200, 300, 800, 1500, 1900, 2750, 400, 20, 23, 70, 90, 80, 1100, 999, 900, 880, 870, 50, 1111, 120, 300, 450, 800]\n",
    "produtos = ['coca', 'pepsi', 'guarana', 'skol', 'brahma', 'agua', 'del valle', 'dolly', 'red bull', 'cachaça', 'vinho tinto', 'vodka', 'vinho branco', 'tequila', 'champagne', 'gin', 'guaracamp', 'matte', 'leite de castanha', 'leite', 'jurupinga', 'sprite', 'fanta']\n",
    "nivel_minimo = 50\n"
   ]
  },
  {
   "cell_type": "code",
   "execution_count": null,
   "id": "e8d4ecd8",
   "metadata": {},
   "outputs": [],
   "source": []
  },
  {
   "cell_type": "markdown",
   "id": "461b210c",
   "metadata": {},
   "source": [
    "### Formas de interromper um for\n",
    "2 Opções:\n",
    "\n",
    "break -> interrompe e finaliza o for <br>\n",
    "continue -> interrompe e vai para o próximo item do for"
   ]
  },
  {
   "cell_type": "raw",
   "id": "c29a978c",
   "metadata": {},
   "source": [
    "- Caso 1: Se todas as vendas forem acima da meta, a loja ganha bônus\n",
    "\n",
    "vendas = [100, 150, 1500, 2000, 120]\n",
    "\n",
    "meta = 110"
   ]
  },
  {
   "cell_type": "code",
   "execution_count": null,
   "id": "7313195d",
   "metadata": {},
   "outputs": [],
   "source": [
    "\n"
   ]
  },
  {
   "cell_type": "raw",
   "id": "38ef2339",
   "metadata": {},
   "source": [
    "- Caso 2: Exiba quem bateu a meta\n",
    "\n",
    "vendedores = ['João', 'Julia', 'Ana', 'José', 'Maria']\n",
    "vendas = [100, 150, 1500, 2000, 120]\n",
    "\n",
    "meta = 130"
   ]
  },
  {
   "cell_type": "code",
   "execution_count": null,
   "id": "c1ae18ad",
   "metadata": {},
   "outputs": [],
   "source": [
    "\n"
   ]
  }
 ],
 "metadata": {
  "kernelspec": {
   "display_name": "Python 3 (ipykernel)",
   "language": "python",
   "name": "python3"
  },
  "language_info": {
   "codemirror_mode": {
    "name": "ipython",
    "version": 3
   },
   "file_extension": ".py",
   "mimetype": "text/x-python",
   "name": "python",
   "nbconvert_exporter": "python",
   "pygments_lexer": "ipython3",
   "version": "3.9.12"
  }
 },
 "nbformat": 4,
 "nbformat_minor": 5
}
