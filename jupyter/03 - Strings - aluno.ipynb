{
 "cells": [
  {
   "cell_type": "markdown",
   "id": "1a80fc4b",
   "metadata": {},
   "source": [
    "# Strings\n",
    "\n",
    "Em sua essência são vetores bidirecionais de caracteres, e é o exemplo mais básico de listas uma das estruturas de dados mais utilizadas em Python. Strings podem ser fatiadas ou acessadas por seu índice da seguinte forma:\n"
   ]
  },
  {
   "cell_type": "raw",
   "id": "a653edca",
   "metadata": {},
   "source": [
    "\n",
    "\n",
    "Índice Positivo\n",
    "\n",
    "0 1 2 3 4 5 6 7 8 9 10 11 12 13 14 15 16\n",
    "s a l d a n h a @ g m a i l  .  c  o m\n",
    "\n",
    "Pegar um item de uma string: texto[índice]\n",
    "Pegar o tamanho de um texto: len(texto)\n"
   ]
  },
  {
   "cell_type": "code",
   "execution_count": null,
   "id": "66354056",
   "metadata": {},
   "outputs": [],
   "source": []
  },
  {
   "cell_type": "raw",
   "id": "40439f23",
   "metadata": {},
   "source": [
    "Índice negativo\n",
    "\n",
    "Texto: saldanha@gmail.com\n",
    "\n",
    "-14 -13 -12 -11 -10 -9 -8 -7 -6 -5 -4 -3 -2 -1\n",
    "  s   a   l   d   @  g  m  a  i  l  .  c  o  m\n",
    "  0   1   2   3   4  5  6  7  8  9 10 11 12 13\n",
    "  \n",
    "Para pegar um texto de trás para frente: texto[índice] -> onde índice é negativo"
   ]
  },
  {
   "cell_type": "code",
   "execution_count": 28,
   "id": "fa695997",
   "metadata": {},
   "outputs": [],
   "source": [
    "#lembre-se de interpretar a celula anterior para carregar as variáveis\n",
    "\n",
    "#IMPRIMIR A ULTIMA LETRA DA VARIÁVEL nome\n",
    "\n"
   ]
  },
  {
   "attachments": {
    "image.png": {
     "image/png": "[encoded data removed]"
    }
   },
   "cell_type": "markdown",
   "id": "1d73143b",
   "metadata": {},
   "source": [
    "### Fatiamento de strings\n",
    "Um segmento de uma string é chamado de fatia. Selecionar uma fatia é como selecionar um caractere:\n",
    "\n",
    "O operador [n:m] retorna a parte da string do “enésimo” caractere ao “emésimo” caractere, incluindo o primeiro, mas excluindo o último. Este comportamento é contraintuitivo, porém pode ajudar a imaginar os índices que indicam a parte entre os caracteres, como na Figura a seguir\n",
    "\n",
    "![image.png](attachment:image.png)"
   ]
  },
  {
   "cell_type": "code",
   "execution_count": null,
   "id": "b5e3b0d4",
   "metadata": {},
   "outputs": [],
   "source": []
  },
  {
   "cell_type": "markdown",
   "id": "40fe59f8",
   "metadata": {},
   "source": [
    "Se você omitir o primeiro índice (antes dos dois pontos), a fatia começa no início da string. Se omitir o segundo índice, a fatia vai ao fim da string:"
   ]
  },
  {
   "cell_type": "code",
   "execution_count": null,
   "id": "bed2f004",
   "metadata": {},
   "outputs": [],
   "source": []
  },
  {
   "cell_type": "markdown",
   "id": "74af172c",
   "metadata": {},
   "source": [
    "Se o primeiro índice for maior ou igual ao segundo, o resultado é uma string vazia, representada por duas aspas:"
   ]
  },
  {
   "cell_type": "code",
   "execution_count": null,
   "id": "50bddcc6",
   "metadata": {},
   "outputs": [],
   "source": []
  },
  {
   "cell_type": "code",
   "execution_count": 29,
   "id": "1ea845d3",
   "metadata": {},
   "outputs": [],
   "source": [
    "#exemplo de impressão negativa\n",
    "\n"
   ]
  },
  {
   "cell_type": "markdown",
   "id": "9f7f6930",
   "metadata": {},
   "source": [
    "Uma string vazia não contém nenhum caractere e tem o comprimento 0, fora isso, é igual a qualquer outra string.\n",
    "\n",
    "Continuando este exemplo, o que você acha que fruit[:] significa? Teste e veja."
   ]
  },
  {
   "cell_type": "code",
   "execution_count": null,
   "id": "6833aff2",
   "metadata": {},
   "outputs": [],
   "source": []
  },
  {
   "cell_type": "markdown",
   "id": "ec48afb0",
   "metadata": {},
   "source": [
    "Podemos ter um terceiro parâmetro para o fatiamento: passo (string[início:fim:passo]). Ele determina o incremento entre cada índice para o fatiamento. Ele é opcional. Quando não citado, então assume-se o valor 1."
   ]
  },
  {
   "cell_type": "code",
   "execution_count": 30,
   "id": "b3e49e57",
   "metadata": {},
   "outputs": [],
   "source": [
    "#imprimindo as consoantes\n",
    "\n",
    "\n",
    "#imprimindo as vogais\n"
   ]
  },
  {
   "cell_type": "markdown",
   "id": "483a610f",
   "metadata": {},
   "source": [
    "Quando se usa valores negativos para o parâmetro passo, o fatiamento vem de forma inversa.\n",
    "Exemplos:"
   ]
  },
  {
   "cell_type": "code",
   "execution_count": 31,
   "id": "638644bf",
   "metadata": {},
   "outputs": [],
   "source": [
    "#inversão completa da string\n",
    "\n",
    "\n",
    "#inversão e impressão das vogais\n",
    "\n",
    "\n",
    "#inversão e impressão das consoantes\n",
    "\n"
   ]
  },
  {
   "cell_type": "markdown",
   "id": "a591f31f",
   "metadata": {},
   "source": [
    "### Operações com String"
   ]
  },
  {
   "cell_type": "raw",
   "id": "f61fd9f0",
   "metadata": {},
   "source": [
    "str -> transforma número em string\n",
    "in -> verifica se um texto está contido dentro do outro\n",
    "operador + -> concatenar string\n",
    "format e {} -> substitui valores\n",
    "%s -> substitui textos\n",
    "%d -> substitui números decimais"
   ]
  },
  {
   "cell_type": "code",
   "execution_count": 33,
   "id": "acc25f6a",
   "metadata": {},
   "outputs": [],
   "source": [
    "faturamento = 1000\n",
    "custo = 500\n",
    "lucro = faturamento - custo\n",
    "\n",
    "#conversão direta\n",
    "\n",
    "\n",
    "#trabalhando com a conversão do format e indices\n",
    "\n",
    "\n",
    "\n",
    "#substituindo valores decimais\n",
    "\n",
    "\n",
    "#o operador in\n"
   ]
  }
 ],
 "metadata": {
  "kernelspec": {
   "display_name": "Python 3 (ipykernel)",
   "language": "python",
   "name": "python3"
  },
  "language_info": {
   "codemirror_mode": {
    "name": "ipython",
    "version": 3
   },
   "file_extension": ".py",
   "mimetype": "text/x-python",
   "name": "python",
   "nbconvert_exporter": "python",
   "pygments_lexer": "ipython3",
   "version": "3.9.12"
  }
 },
 "nbformat": 4,
 "nbformat_minor": 5
}
