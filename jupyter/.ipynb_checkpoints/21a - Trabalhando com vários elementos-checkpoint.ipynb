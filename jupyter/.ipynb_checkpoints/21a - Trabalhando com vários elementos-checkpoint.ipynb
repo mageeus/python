{
 "cells": [
  {
   "cell_type": "markdown",
   "id": "00455530",
   "metadata": {},
   "source": [
    "# 21 - Trabalhando com vários elementos"
   ]
  },
  {
   "cell_type": "code",
   "execution_count": 28,
   "id": "e98b3d7f",
   "metadata": {},
   "outputs": [],
   "source": [
    "from selenium import webdriver\n",
    "from selenium.webdriver.chrome.service import Service \n",
    "from webdriver_manager.chrome import ChromeDriverManager\n",
    "from selenium.webdriver.common.by import By\n",
    "\n",
    "servico = Service(ChromeDriverManager().install())\n",
    "navegador = webdriver.Chrome(service=servico)"
   ]
  },
  {
   "cell_type": "code",
   "execution_count": 41,
   "id": "9acc96bc",
   "metadata": {},
   "outputs": [
    {
     "name": "stdout",
     "output_type": "stream",
     "text": [
      "[<selenium.webdriver.remote.webelement.WebElement (session=\"613cfaa97d7f58d287388fb69fea6937\", element=\"e935ec1d-0870-4157-b5e0-f87e47822b62\")>, <selenium.webdriver.remote.webelement.WebElement (session=\"613cfaa97d7f58d287388fb69fea6937\", element=\"5930f1bc-b55e-47e2-a6a3-7874119177ee\")>, <selenium.webdriver.remote.webelement.WebElement (session=\"613cfaa97d7f58d287388fb69fea6937\", element=\"a6a68a7d-5ddc-43c7-b7e4-d920be96d8b8\")>, <selenium.webdriver.remote.webelement.WebElement (session=\"613cfaa97d7f58d287388fb69fea6937\", element=\"d67d6481-d773-4425-94a0-aa0910aeed51\")>, <selenium.webdriver.remote.webelement.WebElement (session=\"613cfaa97d7f58d287388fb69fea6937\", element=\"dea61153-deef-42ed-bbe6-8ffe87aa3801\")>, <selenium.webdriver.remote.webelement.WebElement (session=\"613cfaa97d7f58d287388fb69fea6937\", element=\"c2ce92de-4213-477b-947a-6befa1422641\")>, <selenium.webdriver.remote.webelement.WebElement (session=\"613cfaa97d7f58d287388fb69fea6937\", element=\"c9766b92-4316-488a-bfd0-d29151f8ec00\")>, <selenium.webdriver.remote.webelement.WebElement (session=\"613cfaa97d7f58d287388fb69fea6937\", element=\"c0adfe34-f543-4a0e-85cb-102314292901\")>]\n"
     ]
    }
   ],
   "source": [
    "navegador.get('https://pastebin.com')\n",
    "navegador.maximize_window()\n",
    "\n",
    "lista_elementos = navegador.find_elements(By.CLASS_NAME, 'details')\n",
    "\n",
    "for itens in lista_elementos:\n",
    "   print(itens)"
   ]
  },
  {
   "cell_type": "code",
   "execution_count": 30,
   "id": "87db4a20",
   "metadata": {},
   "outputs": [
    {
     "name": "stdout",
     "output_type": "stream",
     "text": [
      "https://pastebin.com/\n",
      "https://pastebin.com/doc_api\n",
      "https://pastebin.com/tools\n",
      "https://pastebin.com/faq\n",
      "https://pastebin.com/\n",
      "https://pastebin.com/login\n",
      "https://pastebin.com/signup\n",
      "https://pastebin.com/signup\n",
      "https://pastebin.com/login\n",
      "https://pastebin.com/site/auth-facebook\n",
      "https://pastebin.com/site/auth-twitter\n",
      "https://pastebin.com/site/auth-google\n",
      "https://pastebin.com/signup\n",
      "https://pastebin.com/login\n",
      "https://pastebin.com/archive\n",
      "https://pastebin.com/aaCA6eq5\n",
      "https://pastebin.com/JWdkjN7g\n",
      "https://pastebin.com/yrj1gW7k\n",
      "https://pastebin.com/LuTKKsjV\n",
      "https://pastebin.com/qFDAJs20\n",
      "https://pastebin.com/ZQ9F1kNV\n",
      "https://pastebin.com/i8U2ZeqG\n",
      "https://pastebin.com/TuQq96V6\n",
      "https://pastebin.com/tools#chrome\n",
      "https://pastebin.com/tools#firefox\n",
      "https://pastebin.com/tools#iphone\n",
      "https://pastebin.com/tools#windows\n",
      "https://pastebin.com/tools#android\n",
      "https://pastebin.com/tools#macos\n",
      "https://pastebin.com/tools#opera\n",
      "https://pastebin.com/tools#pastebincl\n",
      "https://pastebin.com/\n",
      "https://pastebin.com/languages\n",
      "https://pastebin.com/archive\n",
      "https://pastebin.com/faq\n",
      "https://pastebin.com/tools\n",
      "https://pastebin.com/night_mode\n",
      "https://pastebin.com/doc_api\n",
      "https://pastebin.com/doc_scraping_api\n",
      "https://pastebin.com/news\n",
      "https://pastebin.com/pro\n",
      "https://pastebin.com/doc_privacy_statement\n",
      "https://pastebin.com/doc_cookies_policy\n",
      "https://pastebin.com/doc_terms_of_service\n",
      "https://pastebin.com/doc_security_disclosure\n",
      "https://pastebin.com/dmca\n",
      "https://pastebin.com/report-abuse\n",
      "https://pastebin.com/contact\n",
      "https://pastebin.com/doc_cookies_policy\n",
      "https://facebook.com/pastebin\n",
      "https://twitter.com/pastebin\n",
      "https://pastebin.com/doc_cookies_policy\n",
      "https://pastebin.com/signup\n",
      "https://pastebin.com/signup\n",
      "\n",
      "\n",
      "None\n",
      "None\n"
     ]
    }
   ],
   "source": [
    "links = navegador.find_elements(By.CSS_SELECTOR, 'a')\n",
    "#len(links)\n",
    "\n",
    "for item in links:\n",
    "    print(item.get_attribute('href'))"
   ]
  },
  {
   "cell_type": "code",
   "execution_count": null,
   "id": "eb68d90f",
   "metadata": {},
   "outputs": [],
   "source": []
  }
 ],
 "metadata": {
  "kernelspec": {
   "display_name": "Python 3",
   "language": "python",
   "name": "python3"
  },
  "language_info": {
   "codemirror_mode": {
    "name": "ipython",
    "version": 3
   },
   "file_extension": ".py",
   "mimetype": "text/x-python",
   "name": "python",
   "nbconvert_exporter": "python",
   "pygments_lexer": "ipython3",
   "version": "3.8.8"
  }
 },
 "nbformat": 4,
 "nbformat_minor": 5
}
