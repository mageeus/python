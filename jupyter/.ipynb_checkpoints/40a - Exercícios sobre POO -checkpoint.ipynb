{
 "cells": [
  {
   "cell_type": "markdown",
   "id": "1dce681b",
   "metadata": {},
   "source": [
    "1.Crie uma função que receba dois parâmetros. Essa função receberá o nome e a nacionalidade de uma pessoa e retornará uma string com o seguinte texto. “A pessoa de nome xxxxxxxx possui nacionalidade xxxxxxxxxxx”. A função deve ter como valor padrão a nacionalidade brasileira na respectiva propriedade."
   ]
  },
  {
   "cell_type": "code",
   "execution_count": 16,
   "id": "c200d823",
   "metadata": {},
   "outputs": [
    {
     "name": "stdout",
     "output_type": "stream",
     "text": [
      "A pessoa de nome mateus possui nacionalidade brasileiro.\n"
     ]
    }
   ],
   "source": [
    "#Exemplo de solução 1\n",
    "\n",
    "def nomeNacionalidade(nome, nacionalidade='brasileiro'):\n",
    "    return(f\"A pessoa de nome {nome} possui nacionalidade {nacionalidade}.\");\n",
    "    \n",
    "print(nomeNacionalidade('mateus'));\n",
    "\n",
    "# #Exemplo de solução 2\n",
    "def nomeNacionalidade2(nome, nacionalidade='brasileiro'):\n",
    "    texto = (f\"A pessoa de nome {nome} possui nacionalidade {nacionalidade}.\");\n",
    "    return texto\n",
    "\n",
    "#print(nomeNacionalidade('mateus'));\n",
    "nomeNacionalidade2('mateus');\n",
    "\n"
   ]
  },
  {
   "cell_type": "markdown",
   "id": "052e07d6",
   "metadata": {},
   "source": [
    "2. Crie uma função que receba o nome, a idade e a profissão de uma pessoa. A idade e a profissão devem ter valores padrão. Chame a função passando somente os valores para os atributos nome e profissão. Lembre-se do conceito de passagem de valor por keyword ou nome do atributo."
   ]
  },
  {
   "cell_type": "code",
   "execution_count": 21,
   "id": "96bd8d41",
   "metadata": {},
   "outputs": [
    {
     "name": "stdout",
     "output_type": "stream",
     "text": [
      "o nome dessa pessoa é rodrigo, tem 21 e trabalha como nenhum\n"
     ]
    }
   ],
   "source": [
    "def pessoa(nome, idade=20, profissao='estagiario'):\n",
    "    texto = f\"o nome dessa pessoa é {nome}, tem {idade} e trabalha como {profissao}\";\n",
    "    return texto;\n",
    "\n",
    "#print(pessoa('mateus'));\n",
    "print(pessoa('rodrigo', idade=21, profissao='nenhum'));"
   ]
  },
  {
   "cell_type": "raw",
   "id": "cc333054",
   "metadata": {},
   "source": [
    "3. Crie uma classe chamada OperacoedMatematicas. Essa classe deve ter as seguintes características:\n",
    "     a. Uma método chamado soma pode receber um número ilimitado de valores e deve retornar o valor deles.\n",
    "     b. Um método chamado diferenca que pode receber apenas dois argumentos e deve possuir valor padrão igual a zero em ambos.\n",
    "     c. Um método chamado multiplicação que pode receber apenas dois valores e retorne uma exceção do tipo TypeError se um dos argumentos for nulo.\n",
    "     d. Um método chamado divisão que execute um bloco try/except para detectar exceções do tipo ZeroDivisionError. Deve receber dois valores.\n",
    "     e. O resultado dessas operações deve ficar gravada em uma variável de classe com um nome referente a operação matematica realizada."
   ]
  },
  {
   "cell_type": "raw",
   "id": "01e4ac06",
   "metadata": {},
   "source": [
    "if MyArg2 is None:\n",
    "    raise TypeError"
   ]
  },
  {
   "cell_type": "code",
   "execution_count": 92,
   "id": "aed5fd4b",
   "metadata": {},
   "outputs": [
    {
     "name": "stdout",
     "output_type": "stream",
     "text": [
      "6\n",
      "0\n",
      "2\n",
      "0.0\n",
      "soma 6, diferenca 0, multi 2, div 0.0\n"
     ]
    }
   ],
   "source": [
    "\n",
    "#codigo de chamada aos métodos e atributo\n",
    "class operacoesMatematicas:\n",
    "    \n",
    "    vSoma = 0;\n",
    "    vSubtracao = 0;\n",
    "    vMulti = 0;\n",
    "    vDiv = 0;\n",
    "    \n",
    "    def soma(self, *numeros):\n",
    "        rSoma = 0;\n",
    "\n",
    "        for item in numeros:\n",
    "            rSoma += item;\n",
    "        \n",
    "        operacoesMatematicas.vSoma = rSoma;\n",
    "        \n",
    "        return rSoma;\n",
    "\n",
    "    def diferenca(self, minuendo=0, subtraendo=0):\n",
    "        rSubtracao = minuendo - subtraendo;\n",
    "\n",
    "        operacoesMatematicas.vSubtracao = rSubtracao;\n",
    "        \n",
    "        return rSubtracao;\n",
    "    \n",
    "    def multiplicacao(self, fator1, fator2):\n",
    "        if fator1 is None or fator2 is None:\n",
    "            raise TypeError(\"Digite um valor diferente de nulo.\")\n",
    "        \n",
    "        rMulti = fator1 * fator2;\n",
    "        \n",
    "        operacoesMatematicas.vMulti = rMulti;\n",
    "        \n",
    "        return rMulti;\n",
    "        \n",
    "    def divisao(self, dividendo, divisor):\n",
    "            \n",
    "        try:\n",
    "            rDiv = dividendo / divisor;\n",
    "        except:\n",
    "            raise ZeroDivisionError(\"Sério que você está tentando dividir por zero?\")\n",
    "        else:\n",
    "            operacoesMatematicas.vDiv = rDiv;\n",
    "            return rDiv;\n",
    "            \n",
    "operacao = operacoesMatematicas();\n",
    "\n",
    "\n",
    "print(operacao.soma(1,2,3));\n",
    "print(operacao.diferenca());\n",
    "print(operacao.multiplicacao(1,2));\n",
    "print(operacao.divisao(0,1))\n",
    "\n",
    "multiplicacao = operacao.vMulti;\n",
    "soma = operacao.vSoma;\n",
    "diferenca = operacao.vSubtracao\n",
    "divi = operacao.vDiv\n",
    "\n",
    "\n",
    "print(f\"soma {soma}, diferenca {diferenca}, multi {multiplicacao}, div {divi}\")"
   ]
  },
  {
   "cell_type": "markdown",
   "id": "8a1b3124",
   "metadata": {},
   "source": [
    "4. Crie uma classe que colete multiplas informações de usuários através da técnica de keyword usando dicionários. Essa classe deve identificar cada um dos atributos em sua inicialização e imprimir seu respectivo valor em uma função específica."
   ]
  },
  {
   "cell_type": "code",
   "execution_count": 98,
   "id": "57dcb2e9",
   "metadata": {},
   "outputs": [
    {
     "name": "stdout",
     "output_type": "stream",
     "text": [
      "Nome:  damian\n",
      "Idade:  15\n",
      "Email:  damian@gmail.com\n",
      "Endereco:  batcavena\n"
     ]
    }
   ],
   "source": [
    "#classe deve capar multiplos valores\n",
    "class Usuario:\n",
    "#deve ser identificado na inicialização\n",
    "    def __init__(self, **kwargs):\n",
    "        self.nome = kwargs.get('nome');\n",
    "        self.idade = kwargs.get('idade');\n",
    "        self.email = kwargs.get('email');\n",
    "        self.endereco = kwargs.get('endereco');\n",
    "        \n",
    "    def imprimir_informacoes(self):\n",
    "        print(\"Nome: \", self.nome);\n",
    "        print(\"Idade: \", self.idade);\n",
    "        print(\"Email: \", self.email);\n",
    "        print(\"Endereco: \", self.endereco);\n",
    "        \n",
    "usuario1 = Usuario(nome='damian',idade=15,email='damian@gmail.com',endereco='batcavena')\n",
    "\n",
    "usuario1.imprimir_informacoes()"
   ]
  },
  {
   "cell_type": "markdown",
   "id": "c24c021b",
   "metadata": {},
   "source": [
    "5.Crie uma função que receba tanto valores por posição quanto por nome (tuplas e dicionários). Conseidere as variáveis abaixo. Passe os argumentos para a função usando o desempacotamento na chamada da função."
   ]
  },
  {
   "cell_type": "code",
   "execution_count": 100,
   "id": "cb1a1d1c",
   "metadata": {},
   "outputs": [
    {
     "name": "stdout",
     "output_type": "stream",
     "text": [
      "(33, 1987, 2023)\n",
      "{'Nome': 'Engenheiro', 'Profissão': 'Engenheiro'}\n"
     ]
    }
   ],
   "source": [
    "numeros = (33, 1987, 2023)\n",
    "dados = {'Nome':'Engenheiro','Profissão':'Engenheiro'}\n",
    "\n",
    "def identificacao(*args, **kwargs):\n",
    "    print(args);\n",
    "    print(kwargs);\n",
    "    \n",
    "identificacao(*numeros, **dados)\n"
   ]
  },
  {
   "cell_type": "raw",
   "id": "05e7830f",
   "metadata": {},
   "source": [
    "6. Imagine que vamos implementar um jogo e ficou a nosso cargo criar a movimentação de um veículo. Crie uma classe chamada carro que tenha como atributos de classe velocidade,unidade de medida e aceleracao.\n",
    "    a. O atributo aceleracao deve ser definido como 1 na inicializacao(__init__), o atributo unidade de medida como km/h e o parametro de velocidade deve ser sempre positivo e definido inicialmente como 0. No método.\n",
    "    b. Você deve implementar as funções acelerar e frear. Essas funções devem aumentar e diminuir a velocidade do carro baseado no valor de aceleração. Os valares de velocidade devem ser sempre maiores ou igual a zero. O limite máximo é de 160 Km/h\n",
    "    c. Você deve implementar dois metódos para aumentar e diminuir a aceleração. A aceleração deve ir de 1 a 5.\n",
    "    d. A unidade de medida pode mudar para milhas/h e nesse caso os valores máximos devem ser atualizados para esse valor. Lembre que 1km/h equivale a 0,62 milhas/h.\n",
    "    \n",
    "    "
   ]
  },
  {
   "cell_type": "code",
   "execution_count": 117,
   "id": "42addfef",
   "metadata": {},
   "outputs": [
    {
     "name": "stdout",
     "output_type": "stream",
     "text": [
      "km/h\n",
      "0\n",
      "milhas\n",
      "0.0\n",
      "Velocidade em milhas:  1.0\n",
      "Velocidade em milhas:  2.0\n",
      "Velocidade em milhas:  3.0\n",
      "Velocidade em milhas:  4.0\n",
      "Velocidade em milhas:  5.0\n",
      "Velocidade em milhas:  6.0\n",
      "Velocidade em milhas:  7.0\n",
      "Velocidade em milhas:  8.0\n",
      "Velocidade em milhas:  9.0\n",
      "Velocidade em milhas:  10.0\n"
     ]
    }
   ],
   "source": [
    "#cada carro é único, então não faz sentido que o atributo seja de classe\n",
    "'''\n",
    "aceleracao == 1\n",
    "unidade de medida == km/h\n",
    "velociade == 0\n",
    "\n",
    "'''\n",
    "\n",
    "class Carro:\n",
    "    def __init__(self):\n",
    "        self.aceleracao = 1\n",
    "        self.unidade = 'km/h'\n",
    "        self.velocidade = 0\n",
    "\n",
    "    def acelerar(self):\n",
    "        testarVelocidade = self.velocidade + self.aceleracao;\n",
    "        \n",
    "        if testarVelocidade <= 160:\n",
    "            self.velocidade = testarVelocidade\n",
    "        else:\n",
    "            self.velocidade = 160;\n",
    "    \n",
    "    def frear(self):\n",
    "        testarVelocidade = self.velocidade - self.aceleracao;\n",
    "        \n",
    "        if testarVelocidade >= 0:\n",
    "            self.velocidade = testarVelocidade;\n",
    "        else:\n",
    "            self.velocidade = 0;\n",
    "    \n",
    "    def pisarFundo(self):\n",
    "        if self.aceleracao < 5:\n",
    "            self.aceleracao += 1\n",
    "            \n",
    "    def tirar_o_pe(self):\n",
    "        if self.aceleracao > 1:\n",
    "            self.aceleracao -= 1;\n",
    "            \n",
    "    def __converterVelocidade(self, valor, unidadeOrigem, unidadeDestino):\n",
    "        if unidadeOrigem == 'km/h':\n",
    "            return valor / 1.62;\n",
    "        elif unidadeOrigem == 'milhas':\n",
    "            return valor * 1.62;\n",
    "    \n",
    "    def mudarUnidade(self):\n",
    "        if self.unidade == 'km/h':\n",
    "            self.velocidade = self.__converterVelocidade(self.velocidade, self.unidade, 'milhas')\n",
    "            self.unidade = 'milhas'\n",
    "            \n",
    "        else:\n",
    "            self.velocidade = self.__converterVelocidade(self.velocidade, 'milhas', self.unidade)\n",
    "            self.unidade = 'km/h'\n",
    "            \n",
    "fusca = Carro()\n",
    "\n",
    "print(fusca.unidade)\n",
    "print(fusca.velocidade)\n",
    "\n",
    "fusca.mudarUnidade()\n",
    "\n",
    "print(fusca.unidade)\n",
    "print(fusca.velocidade)\n",
    "\n",
    "# for i in range(10):\n",
    "#     fusca.acelerar()\n",
    "#     print(f'Velocidade em {fusca.unidade}: ', fusca.velocidade)\n",
    "    \n",
    "# for i in range(200):\n",
    "#     fusca.frear()\n",
    "#     print(\"Velocidade: \", fusca.velocidade)\n",
    "\n"
   ]
  },
  {
   "cell_type": "markdown",
   "id": "cc15b380",
   "metadata": {},
   "source": [
    "## Herança\n",
    "\n",
    "Herança é um conceito da programação orientada a objetos em que uma classe pode herdar atributos e métodos de uma classe pai (também conhecida como classe base ou classe mãe).\n",
    "\n",
    "Ao definir uma classe filha que herda de uma classe pai, a classe filha pode ter seus próprios atributos e métodos, bem como acessar e usar os atributos e métodos herdados da classe pai. Isso pode ajudar a reduzir a duplicação de código, melhorar a organização do código e facilitar a manutenção do programa.\n",
    "\n",
    "Em Python, a herança é implementada usando a sintaxe de colchetes. Para definir uma classe filha que herda de uma classe pai, basta colocar o nome da classe pai entre colchetes após o nome da classe filha.\n",
    "\n",
    "Por exemplo, para definir uma classe Gerente que herda de uma classe Funcionario com um atributo adicional setor, você pode fazer o seguinte:\n"
   ]
  },
  {
   "cell_type": "code",
   "execution_count": 2,
   "id": "d64ca036",
   "metadata": {},
   "outputs": [],
   "source": [
    "class Funcionario:\n",
    "    def __init__(self, nome, salario):\n",
    "        self.nome = nome\n",
    "        self.salario = salario\n",
    "        \n",
    "class Gerente(Funcionario):\n",
    "    def __init__(self, nome, salario, setor):\n",
    "        super().__init__(nome, salario)\n",
    "        self.setor = setor\n"
   ]
  },
  {
   "cell_type": "raw",
   "id": "ffb6bb4b",
   "metadata": {},
   "source": [
    "Nesse exemplo, a classe Gerente herda de Funcionario usando a sintaxe class Gerente(Funcionario):. Isso significa que a classe Gerente terá acesso aos atributos e métodos da classe Funcionario.\n",
    "\n",
    "O método __init__ na classe Gerente também chama o método __init__ da classe pai usando a função super().__init__(nome, salario). Isso garante que a classe Gerente inicialize os atributos herdados da classe Funcionario.\n",
    "\n",
    "Agora, você pode criar um objeto da classe Gerente e acessar tanto os atributos da classe Gerente quanto os atributos herdados da classe Funcionario:"
   ]
  },
  {
   "cell_type": "code",
   "execution_count": 3,
   "id": "aed7cee0",
   "metadata": {},
   "outputs": [
    {
     "name": "stdout",
     "output_type": "stream",
     "text": [
      "João\n",
      "5000\n",
      "Vendas\n"
     ]
    }
   ],
   "source": [
    "gerente1 = Gerente(\"João\", 5000, \"Vendas\")\n",
    "print(gerente1.nome) # \"João\"\n",
    "print(gerente1.salario) # 5000\n",
    "print(gerente1.setor) # \"Vendas\"\n"
   ]
  }
 ],
 "metadata": {
  "kernelspec": {
   "display_name": "Python 3",
   "language": "python",
   "name": "python3"
  },
  "language_info": {
   "codemirror_mode": {
    "name": "ipython",
    "version": 3
   },
   "file_extension": ".py",
   "mimetype": "text/x-python",
   "name": "python",
   "nbconvert_exporter": "python",
   "pygments_lexer": "ipython3",
   "version": "3.8.8"
  }
 },
 "nbformat": 4,
 "nbformat_minor": 5
}
