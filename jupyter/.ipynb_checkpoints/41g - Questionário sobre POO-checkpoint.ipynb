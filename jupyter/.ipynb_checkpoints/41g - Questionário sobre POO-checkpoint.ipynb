{
 "cells": [
  {
   "cell_type": "markdown",
   "id": "ca918983",
   "metadata": {},
   "source": [
    "Olá alunos,\n",
    "\n",
    "Essa lista de exercícios tem por função aprofundar seus conhecimentos em orientação a objetos no Python. São questões que abordarão as técnicas de programação que discutimos das aulas de função até o momento atual do curso, onde estamos trabalhando com objetos. Consulte principalmente o material da aula de funções, além da introdução sobre classes, atributos e métodos. Leia atentamente o enunciado para implementar todos os passos solicitados na questão e conquistar o ponto referente a mesma. Esse trabalho valerá um ponto.\n",
    "\n",
    "\n",
    "Bom trabalho."
   ]
  },
  {
   "cell_type": "raw",
   "id": "3501c77d",
   "metadata": {},
   "source": [
    "Exercício 1:\n",
    "Crie uma classe chamada Pessoa com os atributos nome e idade. Adicione um método dados que exibe o nome e a idade da pessoa. Crie um objeto da classe Pessoa e chame o método dados."
   ]
  },
  {
   "cell_type": "code",
   "execution_count": 1,
   "id": "630bef10",
   "metadata": {},
   "outputs": [
    {
     "name": "stdout",
     "output_type": "stream",
     "text": [
      "Nome: João\n",
      "Idade: 25\n"
     ]
    }
   ],
   "source": [
    "class Pessoa:\n",
    "    def __init__(self, nome, idade):\n",
    "        self.nome = nome\n",
    "        self.idade = idade\n",
    "        \n",
    "    def dados(self):\n",
    "        print(f\"Nome: {self.nome}\\nIdade: {self.idade}\")\n",
    "        \n",
    "pessoa1 = Pessoa(\"João\", 25)\n",
    "pessoa1.dados()\n"
   ]
  },
  {
   "cell_type": "raw",
   "id": "511da4ab",
   "metadata": {},
   "source": [
    "Exercício 2:\n",
    "Crie uma classe chamada Conta com os atributos titular, saldo e limite. Adicione os métodos deposito e saque que adicionam e subtraem valores do saldo, respectivamente. Adicione um método saldo_disponivel que retorna o saldo disponível na conta (saldo + limite). Crie um objeto da classe Conta e faça alguns depósitos e saques para testar o funcionamento dos métodos."
   ]
  },
  {
   "cell_type": "code",
   "execution_count": 2,
   "id": "d9b5e25a",
   "metadata": {},
   "outputs": [
    {
     "name": "stdout",
     "output_type": "stream",
     "text": [
      "Saldo disponível: 800\n"
     ]
    }
   ],
   "source": [
    "class Conta:\n",
    "    def __init__(self, titular, saldo, limite):\n",
    "        self.titular = titular\n",
    "        self.saldo = saldo\n",
    "        self.limite = limite\n",
    "        \n",
    "    def deposito(self, valor):\n",
    "        self.saldo += valor\n",
    "        \n",
    "    def saque(self, valor):\n",
    "        if self.saldo + self.limite >= valor:\n",
    "            self.saldo -= valor\n",
    "        else:\n",
    "            print(\"Saldo insuficiente.\")\n",
    "        \n",
    "    def saldo_disponivel(self):\n",
    "        return self.saldo + self.limite\n",
    "        \n",
    "conta1 = Conta(\"João\", 1000, 500)\n",
    "conta1.deposito(500)\n",
    "conta1.saque(1200)\n",
    "print(f\"Saldo disponível: {conta1.saldo_disponivel()}\")\n"
   ]
  },
  {
   "cell_type": "raw",
   "id": "56562a1e",
   "metadata": {},
   "source": [
    "Exercício 3:\n",
    "Crie uma classe chamada Triangulo com os atributos base e altura. Adicione um método area que calcula e retorna a área do triângulo (base * altura / 2). Crie um objeto da classe Triangulo e chame o método area.'"
   ]
  },
  {
   "cell_type": "code",
   "execution_count": 3,
   "id": "b3b788e3",
   "metadata": {},
   "outputs": [
    {
     "name": "stdout",
     "output_type": "stream",
     "text": [
      "Área do triângulo: 25.0\n"
     ]
    }
   ],
   "source": [
    "class Triangulo:\n",
    "    def __init__(self, base, altura):\n",
    "        self.base = base\n",
    "        self.altura = altura\n",
    "        \n",
    "    def area(self):\n",
    "        return self.base * self.altura / 2\n",
    "        \n",
    "triangulo1 = Triangulo(10, 5)\n",
    "print(f\"Área do triângulo: {triangulo1.area()}\")\n"
   ]
  },
  {
   "cell_type": "raw",
   "id": "44257e16",
   "metadata": {},
   "source": [
    "Exercício 4:\n",
    "Crie uma classe chamada Funcionario com os atributos nome e salario. Adicione um método aumento_salario que aumenta o salário em um percentual informado como parâmetro. Crie uma classe Gerente que herda de Funcionario e adicione um atributo setor e um método dados que exibe as informações do gerente (nome, salário e setor). Crie um objeto da classe Gerente e chame os métodos aumento_salario e dados."
   ]
  },
  {
   "cell_type": "code",
   "execution_count": 4,
   "id": "9e211c1e",
   "metadata": {},
   "outputs": [
    {
     "name": "stdout",
     "output_type": "stream",
     "text": [
      "Nome: João\n",
      "Salário: 5500.0\n",
      "Setor: Vendas\n"
     ]
    }
   ],
   "source": [
    "class Funcionario:\n",
    "    def __init__(self, nome, salario):\n",
    "        self.nome = nome\n",
    "        self.salario = salario\n",
    "        \n",
    "    def aumento_salario(self, percentual):\n",
    "        self.salario += self.salario * percentual / 100\n",
    "        \n",
    "class Gerente(Funcionario):\n",
    "    def __init__(self, nome, salario, setor):\n",
    "        super().__init__(nome, salario)\n",
    "        self.setor = setor\n",
    "        \n",
    "    def dados(self):\n",
    "        print(f\"Nome: {self.nome}\\nSalário: {self.salario}\\nSetor: {self.setor}\")\n",
    "        \n",
    "gerente1 = Gerente(\"João\", 5000, \"Vendas\")\n",
    "gerente1.aumento_salario(10)\n",
    "gerente1.dados()\n"
   ]
  },
  {
   "cell_type": "raw",
   "id": "1f24f661",
   "metadata": {},
   "source": [
    "Exercício 5:\n",
    "Crie uma classe chamada Animal com os atributos nome e cor. Adicione um método andar que imprime \"O [nome do animal] está andando\". Crie uma classe Cachorro que herda de Animal e adicione um método latir que imprime \"O [nome do cachorro] está latindo\". Crie um objeto da classe Cachorro e chame os métodos andar e latir."
   ]
  },
  {
   "cell_type": "code",
   "execution_count": 5,
   "id": "45684e4a",
   "metadata": {},
   "outputs": [
    {
     "name": "stdout",
     "output_type": "stream",
     "text": [
      "O Rex está andando.\n",
      "O Rex está latindo.\n"
     ]
    }
   ],
   "source": [
    "class Animal:\n",
    "    def __init__(self, nome, cor):\n",
    "        self.nome = nome\n",
    "        self.cor = cor\n",
    "        \n",
    "    def andar(self):\n",
    "        print(f\"O {self.nome} está andando.\")\n",
    "        \n",
    "class Cachorro(Animal):\n",
    "    def latir(self):\n",
    "        print(f\"O {self.nome} está latindo.\")\n",
    "        \n",
    "cachorro1 = Cachorro(\"Rex\", \"marrom\")\n",
    "cachorro1.andar()\n",
    "cachorro1.latir()\n"
   ]
  },
  {
   "cell_type": "raw",
   "id": "bbee697b",
   "metadata": {},
   "source": [
    "Exercício 6:\n",
    "Crie uma classe chamada Veiculo com os atributos modelo, ano e preco. Adicione um método descrever que imprime as informações do veículo. Crie uma classe Carro que herda de Veiculo e adicione um atributo marca e um método descrever que imprime as informações do carro (marca, modelo, ano e preço). Crie um objeto da classe Carro e chame o método descrever."
   ]
  },
  {
   "cell_type": "code",
   "execution_count": 6,
   "id": "705c988c",
   "metadata": {},
   "outputs": [
    {
     "name": "stdout",
     "output_type": "stream",
     "text": [
      "Marca: Volkswagen\n",
      "Modelo: Gol\n",
      "Ano: 2020\n",
      "Preço: R$ 45000.00\n"
     ]
    }
   ],
   "source": [
    "class Veiculo:\n",
    "    def __init__(self, modelo, ano, preco):\n",
    "        self.modelo = modelo\n",
    "        self.ano = ano\n",
    "        self.preco = preco\n",
    "        \n",
    "    def descrever(self):\n",
    "        print(f\"Modelo: {self.modelo}\\nAno: {self.ano}\\nPreço: R$ {self.preco:.2f}\")\n",
    "        \n",
    "class Carro(Veiculo):\n",
    "    def __init__(self, modelo, ano, preco, marca):\n",
    "        super().__init__(modelo, ano, preco)\n",
    "        self.marca = marca\n",
    "        \n",
    "    def descrever(self):\n",
    "        print(f\"Marca: {self.marca}\\nModelo: {self.modelo}\\nAno: {self.ano}\\nPreço: R$ {self.preco:.2f}\")\n",
    "        \n",
    "carro1 = Carro(\"Gol\", 2020, 45000, \"Volkswagen\")\n",
    "carro1.descrever()\n"
   ]
  }
 ],
 "metadata": {
  "kernelspec": {
   "display_name": "Python 3",
   "language": "python",
   "name": "python3"
  },
  "language_info": {
   "codemirror_mode": {
    "name": "ipython",
    "version": 3
   },
   "file_extension": ".py",
   "mimetype": "text/x-python",
   "name": "python",
   "nbconvert_exporter": "python",
   "pygments_lexer": "ipython3",
   "version": "3.8.8"
  }
 },
 "nbformat": 4,
 "nbformat_minor": 5
}
