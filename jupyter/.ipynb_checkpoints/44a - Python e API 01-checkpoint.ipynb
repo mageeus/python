{
 "cells": [
  {
   "cell_type": "markdown",
   "metadata": {},
   "source": [
    "# Python e API\n",
    "\n",
    "### O que é uma API?\n",
    "\n",
    "- É um conjunto de códigos para usar um serviço/site/aplicativo específico. Cada site/ferramenta tem sua própria API. É importante que você saiba ler as APIs que precisar para saber usar\n",
    "\n",
    "- Um dos padrões mais comuns em API é pegar informações em formato json, uma espécie de dicionário que precisa ser tratada no Python para podermos analisar\n",
    "\n",
    "- As possibilidades de API são infinitas, vamos fazer 2 exemplos aqui: Cotação de Moedas e Envio de SMS.\n",
    "\n",
    "- Sites como Google, Youtube, Facebook, Twitter, ArcGis e praticamente qualquer ferramenta/site grande tem uma API.\n",
    "\n",
    "### O que precisamos:\n",
    "\n",
    "- Quase sempre você precisa de uma conta para consumir uma API. Algumas APIs são abertas, como a https://docs.awesomeapi.com.br/api-de-moedas , mas em muitos casos (como veremos no caso do SMS) vamos precisar ter uma conta ativa para consumir a API\n",
    "\n",
    "- A Documentação da API (ou exemplos da internet) é a chave para conseguir usar uma API "
   ]
  },
  {
   "cell_type": "markdown",
   "metadata": {},
   "source": [
    "#### Pegar a Cotação Atual de Todas as Moedas "
   ]
  },
  {
   "cell_type": "code",
   "execution_count": 16,
   "metadata": {},
   "outputs": [
    {
     "name": "stdout",
     "output_type": "stream",
     "text": [
      "{'USD': {'code': 'USD', 'codein': 'BRL', 'name': 'Dólar Americano/Real Brasileiro', 'high': '4.9728', 'low': '4.9707', 'varBid': '0.0013', 'pctChange': '0.03', 'bid': '4.9724', 'ask': '4.9731', 'timestamp': '1684886631', 'create_date': '2023-05-23 21:03:51'}, 'USDT': {'code': 'USD', 'codein': 'BRLT', 'name': 'Dólar Americano/Real Brasileiro Turismo', 'high': '5', 'low': '5', 'varBid': '0', 'pctChange': '0', 'bid': '4.85', 'ask': '5.15', 'timestamp': '1684870740', 'create_date': '2023-05-23 16:39:00'}, 'CAD': {'code': 'CAD', 'codein': 'BRL', 'name': 'Dólar Canadense/Real Brasileiro', 'high': '3.6842', 'low': '3.6799', 'varBid': '0.001', 'pctChange': '0.03', 'bid': '3.6807', 'ask': '3.6862', 'timestamp': '1684886623', 'create_date': '2023-05-23 21:03:43'}, 'GBP': {'code': 'GBP', 'codein': 'BRL', 'name': 'Libra Esterlina/Real Brasileiro', 'high': '6.1767', 'low': '6.17', 'varBid': '0.0037', 'pctChange': '0.06', 'bid': '6.169', 'ask': '6.1843', 'timestamp': '1684886625', 'create_date': '2023-05-23 21:03:45'}, 'ARS': {'code': 'ARS', 'codein': 'BRL', 'name': 'Peso Argentino/Real Brasileiro', 'high': '0.0212', 'low': '0.0212', 'varBid': '0', 'pctChange': '0', 'bid': '0.0212', 'ask': '0.0212', 'timestamp': '1684886618', 'create_date': '2023-05-23 21:03:38'}, 'BTC': {'code': 'BTC', 'codein': 'BRL', 'name': 'Bitcoin/Real Brasileiro', 'high': '136905', 'low': '134000', 'varBid': '1733', 'pctChange': '1.29', 'bid': '135828', 'ask': '135828', 'timestamp': '1684886446', 'create_date': '2023-05-23 21:00:46'}, 'LTC': {'code': 'LTC', 'codein': 'BRL', 'name': 'Litecoin/Real Brasileiro', 'high': '463.51', 'low': '452.5', 'varBid': '2.42', 'pctChange': '0.53', 'bid': '457.02', 'ask': '457.96', 'timestamp': '1684886460', 'create_date': '2023-05-23 21:01:00'}, 'EUR': {'code': 'EUR', 'codein': 'BRL', 'name': 'Euro/Real Brasileiro', 'high': '5.3576', 'low': '5.3524', 'varBid': '-0.0002', 'pctChange': '0', 'bid': '5.3512', 'ask': '5.3592', 'timestamp': '1684886623', 'create_date': '2023-05-23 21:03:43'}, 'JPY': {'code': 'JPY', 'codein': 'BRL', 'name': 'Iene Japonês/Real Brasileiro', 'high': '0.03589', 'low': '0.03586', 'varBid': '0', 'pctChange': '0', 'bid': '0.03587', 'ask': '0.03589', 'timestamp': '1684886610', 'create_date': '2023-05-23 21:03:30'}, 'CHF': {'code': 'CHF', 'codein': 'BRL', 'name': 'Franco Suíço/Real Brasileiro', 'high': '5.5177', 'low': '5.5125', 'varBid': '0.0002', 'pctChange': '0', 'bid': '5.5117', 'ask': '5.52', 'timestamp': '1684886612', 'create_date': '2023-05-23 21:03:32'}, 'AUD': {'code': 'AUD', 'codein': 'BRL', 'name': 'Dólar Australiano/Real Brasileiro', 'high': '3.2932', 'low': '3.2862', 'varBid': '0.0015', 'pctChange': '0.05', 'bid': '3.2853', 'ask': '3.2902', 'timestamp': '1684886619', 'create_date': '2023-05-23 21:03:39'}, 'CNY': {'code': 'CNY', 'codein': 'BRL', 'name': 'Yuan Chinês/Real Brasileiro', 'high': '0.7046', 'low': '0.7046', 'varBid': '-0.0016', 'pctChange': '-0.22', 'bid': '0.7046', 'ask': '0.7047', 'timestamp': '1684886462', 'create_date': '2023-05-23 21:01:02'}, 'ILS': {'code': 'ILS', 'codein': 'BRL', 'name': 'Novo Shekel Israelense/Real Brasileiro', 'high': '1.3437', 'low': '1.3437', 'varBid': '-0.0143', 'pctChange': '-1.05', 'bid': '1.3436', 'ask': '1.3438', 'timestamp': '1684886465', 'create_date': '2023-05-23 21:01:05'}, 'ETH': {'code': 'ETH', 'codein': 'BRL', 'name': 'Ethereum/Real Brasileiro', 'high': '9330.77', 'low': '9065.75', 'varBid': '136.71', 'pctChange': '1.5', 'bid': '9244.64', 'ask': '9277.76', 'timestamp': '1684886617', 'create_date': '2023-05-23 21:03:37'}, 'XRP': {'code': 'XRP', 'codein': 'BRL', 'name': 'XRP/Real Brasileiro', 'high': '2.33', 'low': '2.28', 'varBid': '0.01', 'pctChange': '0.64', 'bid': '2.32', 'ask': '2.32', 'timestamp': '1684886461', 'create_date': '2023-05-23 21:01:01'}, 'DOGE': {'code': 'DOGE', 'codein': 'BRL', 'name': 'Dogecoin/Real Brasileiro', 'high': '0.36953', 'low': '0.35565', 'varBid': '0.00187', 'pctChange': '0.52', 'bid': '0.36304', 'ask': '0.36304', 'timestamp': '1684800218', 'create_date': '2023-05-22 21:03:38'}}\n"
     ]
    }
   ],
   "source": [
    "import requests;\n",
    "import json;\n",
    "\n",
    "cotacoes = requests.get('http://economia.awesomeapi.com.br/json/all')\n",
    "\n",
    "cotacoes_dic = cotacoes.json()\n",
    "\n",
    "#print(cotacoes_dic)"
   ]
  },
  {
   "cell_type": "markdown",
   "metadata": {},
   "source": [
    "#### Qual foi a última cotação do Dólar, do Euro e do BitCoin? (Sua resposta vai dar diferente do gabarito, porque estamos rodando o código em momentos diferentes, mas o seu código deve ser o mesmo/parecido)"
   ]
  },
  {
   "cell_type": "code",
   "execution_count": null,
   "metadata": {},
   "outputs": [],
   "source": []
  },
  {
   "cell_type": "markdown",
   "metadata": {},
   "source": [
    "#### Pegar a cotação dos últimos 30 dias do dólar (Sua resposta vai dar diferente do gabarito, porque estamos rodando o código em momentos diferentes, mas o seu código deve ser o mesmo/parecido)"
   ]
  },
  {
   "cell_type": "code",
   "execution_count": null,
   "metadata": {},
   "outputs": [],
   "source": []
  },
  {
   "cell_type": "markdown",
   "metadata": {},
   "source": [
    "#### Pegar as cotações do BitCoin de Jan/20 a Out/20"
   ]
  },
  {
   "cell_type": "code",
   "execution_count": null,
   "metadata": {},
   "outputs": [],
   "source": []
  },
  {
   "cell_type": "markdown",
   "metadata": {},
   "source": [
    "#### Gráfico com as cotações do BitCoin"
   ]
  },
  {
   "cell_type": "code",
   "execution_count": null,
   "metadata": {},
   "outputs": [],
   "source": []
  }
 ],
 "metadata": {
  "kernelspec": {
   "display_name": "Python 3",
   "language": "python",
   "name": "python3"
  },
  "language_info": {
   "codemirror_mode": {
    "name": "ipython",
    "version": 3
   },
   "file_extension": ".py",
   "mimetype": "text/x-python",
   "name": "python",
   "nbconvert_exporter": "python",
   "pygments_lexer": "ipython3",
   "version": "3.8.8"
  }
 },
 "nbformat": 4,
 "nbformat_minor": 4
}
