{
 "cells": [
  {
   "cell_type": "markdown",
   "metadata": {},
   "source": [
    "# Python e API\n",
    "\n",
    "### O que é uma API?\n",
    "\n",
    "- É um conjunto de códigos para usar um serviço/site/aplicativo específico. Cada site/ferramenta tem sua própria API. É importante que você saiba ler as APIs que precisar para saber usar\n",
    "\n",
    "- Um dos padrões mais comuns em API é pegar informações em formato json, uma espécie de dicionário que precisa ser tratada no Python para podermos analisar\n",
    "\n",
    "- As possibilidades de API são infinitas, vamos fazer 2 exemplos aqui: Cotação de Moedas e Envio de SMS.\n",
    "\n",
    "- Sites como Google, Youtube, Facebook, Twitter, ArcGis e praticamente qualquer ferramenta/site grande tem uma API.\n",
    "\n",
    "### O que precisamos:\n",
    "\n",
    "- Quase sempre você precisa de uma conta para consumir uma API. Algumas APIs são abertas, como a https://docs.awesomeapi.com.br/api-de-moedas , mas em muitos casos (como veremos no caso do SMS) vamos precisar ter uma conta ativa para consumir a API\n",
    "\n",
    "- A Documentação da API (ou exemplos da internet) é a chave para conseguir usar uma API "
   ]
  },
  {
   "cell_type": "markdown",
   "metadata": {},
   "source": [
    "#### Pegar a Cotação Atual de Todas as Moedas "
   ]
  },
  {
   "cell_type": "code",
   "execution_count": 18,
   "metadata": {},
   "outputs": [
    {
     "name": "stdout",
     "output_type": "stream",
     "text": [
      "Dolar: 4.9724\n"
     ]
    }
   ],
   "source": [
    "import requests;\n",
    "import json;\n",
    "\n",
    "cotacoes = requests.get('http://economia.awesomeapi.com.br/json/all')\n",
    "\n",
    "cotacoes_dic = cotacoes.json()\n",
    "\n",
    "#print(cotacoes_dic)\n",
    "\n"
   ]
  },
  {
   "cell_type": "markdown",
   "metadata": {},
   "source": [
    "#### Qual foi a última cotação do Dólar, do Euro e do BitCoin? (Sua resposta vai dar diferente do gabarito, porque estamos rodando o código em momentos diferentes, mas o seu código deve ser o mesmo/parecido)"
   ]
  },
  {
   "cell_type": "code",
   "execution_count": 22,
   "metadata": {},
   "outputs": [
    {
     "name": "stdout",
     "output_type": "stream",
     "text": [
      "Dolar: 4.9724\n",
      "Euro: 5.3512\n",
      "BitCoin: 135828\n"
     ]
    }
   ],
   "source": [
    "print('Dolar: {}'.format(cotacoes_dic['USD']['bid']))\n",
    "print('Euro: {}'.format(cotacoes_dic['EUR']['bid']))\n",
    "print('BitCoin: {}'.format(cotacoes_dic['BTC']['bid']))"
   ]
  },
  {
   "cell_type": "markdown",
   "metadata": {},
   "source": [
    "#### Pegar a cotação dos últimos 30 dias do dólar (Sua resposta vai dar diferente do gabarito, porque estamos rodando o código em momentos diferentes, mas o seu código deve ser o mesmo/parecido)"
   ]
  },
  {
   "cell_type": "code",
   "execution_count": 34,
   "metadata": {},
   "outputs": [
    {
     "name": "stdout",
     "output_type": "stream",
     "text": [
      "[4.9724, 4.9669, 4.9977, 4.9976, 4.9991, 4.9657, 4.9386, 4.9407, 4.8891, 4.9199, 4.92, 4.9303, 4.9441, 4.9869, 5.0092, 4.9528, 4.9508, 4.9495, 4.9842, 4.9954, 5.0377, 4.9889, 4.9867, 4.9889, 4.9889, 4.9771, 5.044, 5.0512, 5.0343, 5.0486]\n"
     ]
    }
   ],
   "source": [
    "ultimoMes = requests.get('https://economia.awesomeapi.com.br/json/daily/USD-BRL/30')\n",
    "#print(ultimoMes)\n",
    "cotacao_dic = ultimoMes.json()\n",
    "\n",
    "valores = [];\n",
    "\n",
    "for item in cotacao_dic:\n",
    "    valores.append(float(item['bid']))\n",
    "    \n",
    "print(valores)\n",
    "#print(cotacao_dic)"
   ]
  },
  {
   "cell_type": "markdown",
   "metadata": {},
   "source": [
    "#### Pegar as cotações do BitCoin de Mai/23 a Mai/23"
   ]
  },
  {
   "cell_type": "code",
   "execution_count": 40,
   "metadata": {},
   "outputs": [
    {
     "name": "stdout",
     "output_type": "stream",
     "text": [
      "[135753.0, 135762.0, 134102.0, 134177.0, 135772.0, 134731.0, 134066.0, 135919.0, 134381.0, 133882.0, 133890.0, 132908.0, 132949.0, 134338.0, 137500.0, 138650.0, 139547.0, 142525.0, 144496.0, 147094.0, 144108.0, 145389.0, 145094.0, 141796.0]\n"
     ]
    }
   ],
   "source": [
    "cotacoes_btc = requests.get('https://economia.awesomeapi.com.br/json/daily/BTC-BRL/200?start_date=20230501&end_date=20230530');\n",
    "\n",
    "cotacoes_dic = cotacoes_btc.json();\n",
    "\n",
    "lista_btc = [];\n",
    "\n",
    "for item in cotacoes_dic:\n",
    "    lista_btc.append(float(item['bid']))\n",
    "    \n",
    "print(lista_btc)"
   ]
  },
  {
   "cell_type": "markdown",
   "metadata": {},
   "source": [
    "#### Gráfico com as cotações do BitCoin"
   ]
  },
  {
   "cell_type": "code",
   "execution_count": 45,
   "metadata": {},
   "outputs": [
    {
     "data": {
      "image/png": "[encoded data removed]",
      "text/plain": [
       "<Figure size 1080x360 with 1 Axes>"
      ]
     },
     "metadata": {
      "needs_background": "light"
     },
     "output_type": "display_data"
    }
   ],
   "source": [
    "import matplotlib.pyplot as plt\n",
    "\n",
    "plt.figure(figsize=(15,5))\n",
    "plt.plot(lista_btc);\n",
    "plt.show()"
   ]
  }
 ],
 "metadata": {
  "kernelspec": {
   "display_name": "Python 3",
   "language": "python",
   "name": "python3"
  },
  "language_info": {
   "codemirror_mode": {
    "name": "ipython",
    "version": 3
   },
   "file_extension": ".py",
   "mimetype": "text/x-python",
   "name": "python",
   "nbconvert_exporter": "python",
   "pygments_lexer": "ipython3",
   "version": "3.8.8"
  }
 },
 "nbformat": 4,
 "nbformat_minor": 4
}
