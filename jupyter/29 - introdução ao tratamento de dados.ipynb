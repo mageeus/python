{
 "cells": [
  {
   "cell_type": "markdown",
   "id": "f6c0f047",
   "metadata": {},
   "source": [
    "# Introdução ao tratamento de dados com PANDAS\n",
    "\n",
    "<p> O pandas é uma biblioteca de código aberto licenciada sob BSD que fornece estruturas de dados de alto desempenho fácil de usar e ferramentas de análise de dados para a linguagem de programação Python . </p> <br />\n",
    "\n",
    "(Documentação do Pandas)\n",
    "https://pandas.pydata.org/\n",
    "\n",
    "(em português)\n",
    "https://runebook.dev/pt/docs/pandas/\n",
    "\n",
    "\n",
    "Para usarmos a biblioteca Pandas precisaremos instalá-la no ambiente de desenvolvimento. No Jupyter Notebook(ANACONDA), por padrão, o pandas vem instalado.\n",
    "\n",
    "#pip install pandas\n",
    "\n",
    "A comunidade de desenvolvimento utilizadora do Pandas convencionou o padrão de utlização\n",
    "\n",
    "import pandas as pd\n",
    "\n",
    "Então quando for pesquisar sobre essa biblioteca você ira se deparar com a utlização baseada no exemplo\n",
    "\n",
    "pd.nomeDoMetodo()\n",
    "\n",
    "Para começar a trabalhar com o pandas, você precisará se sentir à vontade com as duas estruturas de dados que são a sua força de trabalho: Series e DataFrame. Embora não sejam uma solução universal para todos os problemas, eles oferecem uma base sólida e fácil de usar para a maioria das aplicações.\n",
    "\n",
    "## Series\n",
    "\n",
    "Uma Series é um objeto do tipo array unidimensional contendo uma\n",
    "sequência de valores e um array associado de rótulos (labels) de dados, chamado de índice.\n",
    "A Series mais simples é composta de apenas um array de dados:"
   ]
  },
  {
   "cell_type": "code",
   "execution_count": 9,
   "id": "44286786",
   "metadata": {},
   "outputs": [
    {
     "data": {
      "text/plain": [
       "0    4\n",
       "1    7\n",
       "2   -5\n",
       "3    3\n",
       "dtype: int64"
      ]
     },
     "execution_count": 9,
     "metadata": {},
     "output_type": "execute_result"
    }
   ],
   "source": [
    "import pandas as pd\n",
    "\n",
    "obj = pd.Series([4, 7, -5, 3])\n",
    "\n",
    "obj"
   ]
  },
  {
   "cell_type": "markdown",
   "id": "c1aca481",
   "metadata": {},
   "source": [
    "A representação em string de uma Series exibida interativamente\n",
    "mostra o índice à esquerda e os valores à direita. Como não\n",
    "especificamos um índice para os dados, um índice default\n",
    "constituído dos inteiros de 0 a N - 1 (em que N é o tamanho dos\n",
    "dados) é criado. Podemos obter a representação do array e o objeto\n",
    "de índice de Series por meio de seus atributos de valores (values) e\n",
    "de índice (index), respectivamente:"
   ]
  },
  {
   "cell_type": "code",
   "execution_count": 10,
   "id": "cc179a58",
   "metadata": {},
   "outputs": [
    {
     "data": {
      "text/plain": [
       "array([ 4,  7, -5,  3], dtype=int64)"
      ]
     },
     "execution_count": 10,
     "metadata": {},
     "output_type": "execute_result"
    }
   ],
   "source": [
    "obj.values"
   ]
  },
  {
   "cell_type": "code",
   "execution_count": 11,
   "id": "788ea39b",
   "metadata": {},
   "outputs": [
    {
     "data": {
      "text/plain": [
       "RangeIndex(start=0, stop=4, step=1)"
      ]
     },
     "execution_count": 11,
     "metadata": {},
     "output_type": "execute_result"
    }
   ],
   "source": [
    "obj.index # como range(4)"
   ]
  },
  {
   "cell_type": "markdown",
   "id": "d5df16c9",
   "metadata": {},
   "source": [
    "Com frequência, será desejável criar uma Series com um índice que\n",
    "identifique cada ponto de dado com um rótulo:"
   ]
  },
  {
   "cell_type": "code",
   "execution_count": 18,
   "id": "f2d76be1",
   "metadata": {},
   "outputs": [
    {
     "data": {
      "text/plain": [
       "a    4\n",
       "b    7\n",
       "c   -5\n",
       "d    3\n",
       "dtype: int64"
      ]
     },
     "execution_count": 18,
     "metadata": {},
     "output_type": "execute_result"
    }
   ],
   "source": [
    "obj2 = pd.Series([4, 7, -5, 3], index=['a', 'b', 'c', 'd'])\n",
    "\n",
    "obj2"
   ]
  },
  {
   "cell_type": "code",
   "execution_count": 20,
   "id": "e8a78761",
   "metadata": {},
   "outputs": [
    {
     "data": {
      "text/plain": [
       "Index(['a', 'b', 'c', 'd'], dtype='object')"
      ]
     },
     "execution_count": 20,
     "metadata": {},
     "output_type": "execute_result"
    }
   ],
   "source": [
    "obj2.index"
   ]
  },
  {
   "cell_type": "code",
   "execution_count": 23,
   "id": "eb3b3b66",
   "metadata": {},
   "outputs": [
    {
     "name": "stdout",
     "output_type": "stream",
     "text": [
      "-5\n",
      "4\n"
     ]
    }
   ],
   "source": [
    "print(obj2['c'])\n",
    "print(obj2[0])"
   ]
  },
  {
   "cell_type": "markdown",
   "id": "eb2bce6e",
   "metadata": {},
   "source": [
    "Você pode pensar em uma série como um dicionário, estrutura de dados também presente no Python que é representada pelo par chave : valor\n",
    "A série será ordenado de tamanho fixo, como se fosse um mapeamento entre\n",
    "valores de índices e valores de dados. Ela pode ser utilizada em\n",
    "muitos contextos em que um dicionário poderia ser usado:\n",
    "\n",
    "Exemplos:"
   ]
  },
  {
   "cell_type": "code",
   "execution_count": 27,
   "id": "831a6812",
   "metadata": {},
   "outputs": [
    {
     "data": {
      "text/plain": [
       "True"
      ]
     },
     "execution_count": 27,
     "metadata": {},
     "output_type": "execute_result"
    }
   ],
   "source": [
    "'b' in obj2"
   ]
  },
  {
   "cell_type": "code",
   "execution_count": 26,
   "id": "209cc16e",
   "metadata": {},
   "outputs": [
    {
     "data": {
      "text/plain": [
       "False"
      ]
     },
     "execution_count": 26,
     "metadata": {},
     "output_type": "execute_result"
    }
   ],
   "source": [
    "'e' in obj2"
   ]
  },
  {
   "cell_type": "markdown",
   "id": "31ed86de",
   "metadata": {},
   "source": [
    "Se você tiver dados contidos em um dicionário Python, uma Series\n",
    "poderá ser criada a partir dele, passando-lhe o dicionário:"
   ]
  },
  {
   "cell_type": "code",
   "execution_count": 30,
   "id": "8ef5b97f",
   "metadata": {},
   "outputs": [
    {
     "data": {
      "text/plain": [
       "Ohio      35000\n",
       "Texas     71000\n",
       "Oregon    16000\n",
       "Utah       5000\n",
       "dtype: int64"
      ]
     },
     "execution_count": 30,
     "metadata": {},
     "output_type": "execute_result"
    }
   ],
   "source": [
    "sdata = {'Ohio': 35000, 'Texas': 71000, 'Oregon': 16000, 'Utah': 5000}\n",
    "obj3 = pd.Series(sdata)\n",
    "obj3"
   ]
  },
  {
   "cell_type": "markdown",
   "id": "eea27bfe",
   "metadata": {},
   "source": [
    "Se você passar somente um dicionário, o índice na Series resultante\n",
    "terá as chaves do dicionário ordenadas. É possível sobrescrever\n",
    "isso passando as chaves do dicionário na ordem que você quiser\n",
    "que elas apareçam na Series resultante:"
   ]
  },
  {
   "cell_type": "code",
   "execution_count": 31,
   "id": "7c845aef",
   "metadata": {},
   "outputs": [
    {
     "data": {
      "text/plain": [
       "California        NaN\n",
       "Ohio          35000.0\n",
       "Oregon        16000.0\n",
       "Texas         71000.0\n",
       "dtype: float64"
      ]
     },
     "execution_count": 31,
     "metadata": {},
     "output_type": "execute_result"
    }
   ],
   "source": [
    "states = ['California', 'Ohio', 'Oregon', 'Texas']\n",
    "obj4 = pd.Series(sdata, index=states)\n",
    "obj4"
   ]
  },
  {
   "cell_type": "markdown",
   "id": "50359b9a",
   "metadata": {},
   "source": [
    "Nesse caso, três valores encontrados em sdata foram colocados nos\n",
    "locais apropriados, mas, como nenhum valor para 'California' foi\n",
    "encontrado, ele aparece como NaN (not a number), que é\n",
    "considerado um marcador de valores ausentes ou NA no pandas.\n",
    "Como 'Utah' não estava incluído em states, ele foi excluído do objeto\n",
    "resultante.\n",
    "Usarei os termos “ausente” ou “NA” indistintamente para me referir\n",
    "aos dados que estejam faltando. As funções isnull e notnull no pandas\n",
    "devem ser utilizadas para detectar dados ausentes:"
   ]
  },
  {
   "cell_type": "code",
   "execution_count": 33,
   "id": "2bba86fa",
   "metadata": {},
   "outputs": [
    {
     "data": {
      "text/plain": [
       "California     True\n",
       "Ohio          False\n",
       "Oregon        False\n",
       "Texas         False\n",
       "dtype: bool"
      ]
     },
     "execution_count": 33,
     "metadata": {},
     "output_type": "execute_result"
    }
   ],
   "source": [
    "pd.isnull(obj4)"
   ]
  },
  {
   "cell_type": "code",
   "execution_count": 34,
   "id": "7fc73c84",
   "metadata": {},
   "outputs": [
    {
     "data": {
      "text/plain": [
       "California    False\n",
       "Ohio           True\n",
       "Oregon         True\n",
       "Texas          True\n",
       "dtype: bool"
      ]
     },
     "execution_count": 34,
     "metadata": {},
     "output_type": "execute_result"
    }
   ],
   "source": [
    "pd.notnull(obj4)"
   ]
  },
  {
   "cell_type": "markdown",
   "id": "3e920b64",
   "metadata": {},
   "source": [
    "Tanto o próprio objeto Series quanto seu índice têm um atributo name, que se integra com outras áreas essenciais de funcionalidades do pandas:"
   ]
  },
  {
   "cell_type": "code",
   "execution_count": 35,
   "id": "f141bd57",
   "metadata": {},
   "outputs": [
    {
     "data": {
      "text/plain": [
       "state\n",
       "California        NaN\n",
       "Ohio          35000.0\n",
       "Oregon        16000.0\n",
       "Texas         71000.0\n",
       "Name: population, dtype: float64"
      ]
     },
     "execution_count": 35,
     "metadata": {},
     "output_type": "execute_result"
    }
   ],
   "source": [
    "obj4.name = 'population'\n",
    "obj4.index.name = 'state'\n",
    "\n",
    "obj4"
   ]
  },
  {
   "cell_type": "markdown",
   "id": "78e5527e",
   "metadata": {},
   "source": [
    "Um índice de Series pode ser alterado in-place por atribuição:"
   ]
  },
  {
   "cell_type": "code",
   "execution_count": 36,
   "id": "454d316c",
   "metadata": {},
   "outputs": [
    {
     "data": {
      "text/plain": [
       "0    4\n",
       "1    7\n",
       "2   -5\n",
       "3    3\n",
       "dtype: int64"
      ]
     },
     "execution_count": 36,
     "metadata": {},
     "output_type": "execute_result"
    }
   ],
   "source": [
    "obj"
   ]
  },
  {
   "cell_type": "code",
   "execution_count": 37,
   "id": "cba3607b",
   "metadata": {},
   "outputs": [
    {
     "data": {
      "text/plain": [
       "Bob      4\n",
       "Steve    7\n",
       "Jeff    -5\n",
       "Ryan     3\n",
       "dtype: int64"
      ]
     },
     "execution_count": 37,
     "metadata": {},
     "output_type": "execute_result"
    }
   ],
   "source": [
    "obj.index = ['Bob', 'Steve', 'Jeff', 'Ryan']\n",
    "obj"
   ]
  }
 ],
 "metadata": {
  "kernelspec": {
   "display_name": "Python 3 (ipykernel)",
   "language": "python",
   "name": "python3"
  },
  "language_info": {
   "codemirror_mode": {
    "name": "ipython",
    "version": 3
   },
   "file_extension": ".py",
   "mimetype": "text/x-python",
   "name": "python",
   "nbconvert_exporter": "python",
   "pygments_lexer": "ipython3",
   "version": "3.10.9"
  }
 },
 "nbformat": 4,
 "nbformat_minor": 5
}
