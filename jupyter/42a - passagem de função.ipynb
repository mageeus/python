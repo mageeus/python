{
 "cells": [
  {
   "cell_type": "markdown",
   "metadata": {},
   "source": [
    "# Iterables\n",
    "\n",
    "Em Python, um objeto iterável é aquele que pode ser percorrido em um loop. Um iterável é uma sequência de elementos que pode ser iterada um a um. Exemplos de iteráveis em Python incluem listas, tuplas, strings, dicionários e conjuntos.\n",
    "\n",
    "Um objeto iterável pode ser percorrido usando um loop for ou convertido em uma lista usando a função list(). Quando um objeto é iterado, ele retorna seus elementos um de cada vez, permitindo que você processe cada elemento conforme necessário.\n",
    "\n",
    "Aqui está um exemplo simples para percorrer uma lista usando um loop for:"
   ]
  },
  {
   "cell_type": "code",
   "execution_count": 2,
   "metadata": {},
   "outputs": [
    {
     "name": "stdout",
     "output_type": "stream",
     "text": [
      "0\n",
      "1\n",
      "2\n",
      "3\n",
      "4\n",
      "5\n",
      "6\n",
      "7\n",
      "8\n",
      "9\n"
     ]
    }
   ],
   "source": [
    "lista = [0,1,2,3,4,5,6,7,8,9];\n",
    "\n",
    "for numero in lista:\n",
    "    print(numero);"
   ]
  },
  {
   "cell_type": "markdown",
   "metadata": {},
   "source": [
    "# Function em iterables\n",
    "\n",
    "Basicamente alguns métodos e funções que já existem no Python podem rodar uma function para cada item.\n",
    "Isso pode ajudar a gente a resolver alguns desafios de forma mais simples\n",
    "\n",
    "Uma função que permite que a gente faça isso é a map function.\n",
    "\n",
    "### map function"
   ]
  },
  {
   "cell_type": "raw",
   "metadata": {},
   "source": [
    "lista = list(map(função, iterable_original))"
   ]
  },
  {
   "cell_type": "markdown",
   "metadata": {},
   "source": [
    "- Exemplo: digamos que eu tenha uma function que corrige um código de um produto (semelhante ao que fizemos na seção de function aqui do curso)"
   ]
  },
  {
   "cell_type": "code",
   "execution_count": 3,
   "metadata": {},
   "outputs": [],
   "source": [
    "def padronizarTexto(texto):\n",
    "    texto = texto.casefold();\n",
    "    texto = texto.replace(\" \",\"\");\n",
    "    \n",
    "    return texto;"
   ]
  },
  {
   "cell_type": "markdown",
   "metadata": {},
   "source": [
    "- Agora queremos padronizar uma lista de códigos:"
   ]
  },
  {
   "cell_type": "code",
   "execution_count": 15,
   "metadata": {},
   "outputs": [],
   "source": [
    "produtos = [' ABC 12 ', 'abc34', 'AbC37', 'beb12', ' BSA151', 'BEB23']"
   ]
  },
  {
   "cell_type": "markdown",
   "metadata": {},
   "source": [
    "- Usando o for, temos que percorrer a lista toda e para cada item executar a function"
   ]
  },
  {
   "cell_type": "code",
   "execution_count": 14,
   "metadata": {},
   "outputs": [
    {
     "name": "stdout",
     "output_type": "stream",
     "text": [
      "['abc12', 'abc34', 'abc37', 'beb12', 'bsa151', 'beb23']\n"
     ]
    }
   ],
   "source": [
    "for i,produto in enumerate(produtos):\n",
    "    produtos[i] = padronizarTexto(produto);\n",
    "        \n",
    "print(produtos)"
   ]
  },
  {
   "cell_type": "markdown",
   "metadata": {},
   "source": [
    "- Usando o map, apenas chamamos a função e ela já faz isso para a gente"
   ]
  },
  {
   "cell_type": "code",
   "execution_count": 16,
   "metadata": {},
   "outputs": [
    {
     "name": "stdout",
     "output_type": "stream",
     "text": [
      "[' ABC 12 ', 'abc34', 'AbC37', 'beb12', ' BSA151', 'BEB23']\n",
      "['abc12', 'abc34', 'abc37', 'beb12', 'bsa151', 'beb23']\n"
     ]
    }
   ],
   "source": [
    "print(produtos);\n",
    "\n",
    "produtos = list(map(padronizarTexto, produtos));\n",
    "\n",
    "print(produtos);"
   ]
  },
  {
   "cell_type": "markdown",
   "metadata": {},
   "source": [
    "# sort (ou sorted) com function\n",
    "\n",
    "### Descrição:\n",
    "\n",
    "Até agora no programa, usamos várias vezes o .sort() para ordenar listas\n",
    "\n",
    "Mas o método sort tem um parâmetro que nunca usamos e que agora sabemos usar."
   ]
  },
  {
   "cell_type": "code",
   "execution_count": 26,
   "metadata": {},
   "outputs": [],
   "source": [
    "produtos = ['apple tv', 'mac', 'IPhone x', 'IPhone 11', 'IPad', 'apple watch', 'mac book', 'airpods']\n"
   ]
  },
  {
   "cell_type": "markdown",
   "metadata": {},
   "source": [
    "- Como faríamos para ordenar corretamente?"
   ]
  },
  {
   "cell_type": "code",
   "execution_count": 29,
   "metadata": {},
   "outputs": [
    {
     "name": "stdout",
     "output_type": "stream",
     "text": [
      "['airpods', 'apple tv', 'apple watch', 'IPad', 'IPhone 11', 'IPhone x', 'mac', 'mac book']\n"
     ]
    }
   ],
   "source": [
    "produtos.sort(key=str.casefold)\n",
    "print(produtos)"
   ]
  },
  {
   "cell_type": "markdown",
   "metadata": {},
   "source": [
    "### Outro exemplo: como ordenar um dicionário de acordo com o valor"
   ]
  },
  {
   "cell_type": "code",
   "execution_count": 32,
   "metadata": {},
   "outputs": [],
   "source": [
    "vendas_produtos = {'vinho': 100, 'cafeiteira': 150, 'microondas': 300, 'iphone': 5500}"
   ]
  },
  {
   "cell_type": "markdown",
   "metadata": {},
   "source": [
    "- Queremos listar da maior quantidade de vendas para a menor, para enviar como report para o diretor, por exemplo"
   ]
  },
  {
   "cell_type": "code",
   "execution_count": 35,
   "metadata": {},
   "outputs": [
    {
     "name": "stdout",
     "output_type": "stream",
     "text": [
      "{'vinho': 100, 'cafeiteira': 150, 'microondas': 300, 'iphone': 5500}\n"
     ]
    }
   ],
   "source": [
    "def segundo_item(tupla):\n",
    "    return tupla[1];\n",
    "\n",
    "lista_vendas = list(vendas_produtos.items());\n",
    "\n",
    "lista_vendas.sort(key=segundo_item, reverse=True);\n",
    "\n",
    "print(dict(vendas_produtos))"
   ]
  }
 ],
 "metadata": {
  "kernelspec": {
   "display_name": "Python 3",
   "language": "python",
   "name": "python3"
  },
  "language_info": {
   "codemirror_mode": {
    "name": "ipython",
    "version": 3
   },
   "file_extension": ".py",
   "mimetype": "text/x-python",
   "name": "python",
   "nbconvert_exporter": "python",
   "pygments_lexer": "ipython3",
   "version": "3.8.8"
  }
 },
 "nbformat": 4,
 "nbformat_minor": 4
}
