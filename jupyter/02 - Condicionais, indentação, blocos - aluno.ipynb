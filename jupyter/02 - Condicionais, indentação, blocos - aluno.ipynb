{
 "cells": [
  {
   "cell_type": "markdown",
   "id": "762c43c3",
   "metadata": {},
   "source": [
    "# Condições no Python -> If\n",
    "\n",
    "## Estrutura:\n",
    "\n",
    "### Uso mais simples:\n",
    "\n",
    "\n",
    "    \n"
   ]
  },
  {
   "cell_type": "raw",
   "id": "92b4e0ef",
   "metadata": {},
   "source": [
    "if condição:\n",
    "    o que fazer caso a condição seja verdadeira\n",
    "    "
   ]
  },
  {
   "cell_type": "markdown",
   "id": "33a1cc01",
   "metadata": {},
   "source": [
    "### Exemplo:\n",
    "\n",
    "Digamos que você trabalha na Amazon (que tem centenas de milhares, se não milhões de produtos) e está analisando o resultado de vendas dos produtos.\n",
    "\n",
    "Você precisa criar um programa que vai analisar o resultado de vendas dos produtos da Amazon em um mês. Para simplificar vamos pensar em um único produto: um Iphone.\n",
    "\n",
    "Meta de Vendas do Iphone = 50.000 unidades<br>\n",
    "Quantidade vendida no Mês = 65.300 unidades\n",
    "\n",
    "O seu programa deve avisar (usaremos o print por enquanto) caso o produto tenha batido a meta do mês. Então devemos fazer:<br>\n",
    "- Caso o produto tenha batido a meta, devemos exibir a mensagem: \"Batemos a meta de vendas de Iphone, vendemos {} unidades\" \n",
    "- Se ele não bateu a meta do mês, o seu programa não deve fazer nada"
   ]
  },
  {
   "cell_type": "code",
   "execution_count": null,
   "id": "0930d8bf",
   "metadata": {},
   "outputs": [],
   "source": []
  },
  {
   "cell_type": "markdown",
   "id": "f06ccc77",
   "metadata": {},
   "source": [
    "### Tratando a condição falsa:\n",
    "Quando usamos o if, nem sempre queremos apenas analisar o caso verdadeiro, em boa parte das vezes queremos fazer alguma coisa caso a condição seja verdadeira e fazer outra coisa caso a condição seja falsa.\n",
    "\n",
    "Nesse caso usaremos:\n",
    "\n"
   ]
  },
  {
   "cell_type": "raw",
   "id": "40a014da",
   "metadata": {},
   "source": [
    "if condição:\n",
    "    o que eu quero fazer caso a condição seja verdadeira\n",
    "else:\n",
    "    o que eu quero fazer caso a condição seja falsa\n",
    "    \n",
    "    \n",
    "Voltando ao nosso exemplo da Amazon e do Iphone, agora nossa programa deve avisar nos 2 casos:\n",
    "- Caso o produto tenha batido a meta, devemos exibir a mensagem: \"Batemos a meta de vendas de Iphone, vendemos {} unidades\" \n",
    "- Se ele não bateu a meta do mês, devemos exibir a mensagem: \"Infelizmente não batemos a meta, vendemos {} unidades. A meta era de {} unidades\""
   ]
  },
  {
   "cell_type": "code",
   "execution_count": null,
   "id": "21f543d7",
   "metadata": {},
   "outputs": [],
   "source": []
  },
  {
   "cell_type": "markdown",
   "id": "ae3200cd",
   "metadata": {},
   "source": [
    "# Blocos e Identação\n",
    "\n",
    "## Estrutura\n",
    "Sempre que usamos o if ou qualquer outra estrutura no Python, devemos usar a identação para dizer para o Programa onde a estrutura começa e onde ela termina.\n",
    "\n",
    "Isso vai ajudar muito quando tivermos mais de 1 condição ao mesmo tempo e quando tivermos várias ações para fazer dentro de um if.\n",
    "\n",
    "### Várias ações em 1 if:\n",
    "\n"
   ]
  },
  {
   "cell_type": "raw",
   "id": "2c153e95",
   "metadata": {},
   "source": [
    "if condicao:\n",
    "    alguma coisa\n",
    "    outra coisa\n",
    "    outra coisa mais\n",
    "    outra coisa ainda mais\n",
    "else:\n",
    "    uma coisa\n",
    "    uma coisa mais\n",
    "    coisa final\n",
    "    \n",
    "    \n",
    "    \n"
   ]
  },
  {
   "cell_type": "markdown",
   "id": "e966dced",
   "metadata": {},
   "source": [
    "## Exemplo\n",
    "Vamos fazer um novo exemplo abaixo:\n",
    "\n",
    "Digamos que você precisa criar um programa para um fundo de investimentos conseguir avaliar o resultado de uma carteira de ações e o quanto de taxa deverá ser pago.\n",
    "\n",
    "A regra desse fundo de investimentos é:\n",
    "\n",
    "- O fundo se compromete a entregar no mínimo 5% de retorno ao ano.\n",
    "- Caso o fundo não consiga entregar os 5% de retorno, ele não pode cobrar taxa dos seus investidores.\n",
    "- Caso o fundo consiga entregar mais de 5% de retorno, ele irá cobrar 2% de taxa dos seus investidores.\n",
    "- Caso o fundo consiga mais de 20% de retorno, ele irá cobrar 4% de taxa dos seus investidores. \n"
   ]
  },
  {
   "cell_type": "code",
   "execution_count": null,
   "id": "6adf4fdf",
   "metadata": {},
   "outputs": [],
   "source": []
  },
  {
   "cell_type": "markdown",
   "id": "9bee7aa1",
   "metadata": {},
   "source": [
    "### Mais de uma condição ao mesmo tempo:\n",
    "\n",
    "\n"
   ]
  },
  {
   "cell_type": "raw",
   "id": "f9dc40dc",
   "metadata": {},
   "source": [
    "if condicao_1: \n",
    "    o que fazer se a condição 1 for verdadeira\n",
    "    if condicao_2:\n",
    "        o que fazer se a condição 1 e 2 for verdadeira\n",
    "    else:\n",
    "        o que fazer se a condição 2 for falsa (mas a condição 1 é verdadeira)\n",
    "else:\n",
    "    o que fazer se a condição 1 for falsa\n",
    "    \n",
    "    \n"
   ]
  },
  {
   "cell_type": "markdown",
   "id": "81861383",
   "metadata": {},
   "source": [
    "## Cuidado importante: repetição de código\n",
    "\n",
    "Sempre que possível, evite repetir código. De forma geral:<br>\n",
    "\"Se você está repetindo um código, existe uma forma melhor de fazer\"\n",
    "\n"
   ]
  },
  {
   "cell_type": "markdown",
   "id": "cc8fb22d",
   "metadata": {},
   "source": [
    "# elif\n",
    "\n",
    "E se temos mais do que um caso de sim e não?\n",
    "\n",
    "E se tivermos 3 casos?\n",
    "\n",
    "Usamos o elif da seguinte forma:"
   ]
  },
  {
   "cell_type": "raw",
   "id": "96eaa814",
   "metadata": {},
   "source": [
    "if condição:\n",
    "    o que fazer se a condição 1 for verdadeira\n",
    "elif condição_2:\n",
    "    o que fazer se a condição 1 for falsa e a condição 2 for verdadeira\n",
    "else:\n",
    "    o que fazer se a condição 1 e a condição 2 forem falsas"
   ]
  },
  {
   "cell_type": "markdown",
   "id": "6d2e7dec",
   "metadata": {},
   "source": [
    "### Exemplo:\n",
    "\n",
    "Vamos criar um programa para analisar o bônus dos funcionários de uma empresa \n",
    "\n",
    "Para os cargos de vendedores, a regra do bônus é de acordo com a meta de vendas da pessoa:\n",
    "\n",
    "Se ela vendeu abaixo da meta dela, ela não ganha bônus.\n",
    "\n",
    "Se ela vendeu acima da meta dela, ela ganha como bônus 3% do valor que ela vendeu.\n",
    "\n",
    "Se ela vendeu mais do que o dobro da meta dela, ela ganha como bônus 7% do valor que ela vendeu.\n",
    "\n",
    "Vamos criar um programa para avaliar uma pessoa que tinha como meta de vendas 20.000 reais e calcular o bônus dela de acordo com o valor de vendas que ela tiver."
   ]
  },
  {
   "cell_type": "code",
   "execution_count": null,
   "id": "869215d2",
   "metadata": {},
   "outputs": [],
   "source": []
  },
  {
   "cell_type": "markdown",
   "id": "da925a69",
   "metadata": {},
   "source": [
    "# Comparadores\n",
    "\n"
   ]
  },
  {
   "cell_type": "raw",
   "id": "f238ea0a",
   "metadata": {},
   "source": [
    "==    igual\n",
    "!=    diferente\n",
    ">     maior que (>= maior ou igual)\n",
    "<     menor que (<= menor ou igual)\n",
    "in    texto existe dentro de outro texto \n",
    "not   verifica o contrário da comparação\n",
    "\n",
    "Obs: Se em alguma condição você não quiser fazer nada, você pode simplesmente escrever:\n",
    "pass"
   ]
  },
  {
   "cell_type": "code",
   "execution_count": null,
   "id": "f8268227",
   "metadata": {},
   "outputs": [],
   "source": []
  },
  {
   "cell_type": "code",
   "execution_count": null,
   "id": "512fba1f",
   "metadata": {},
   "outputs": [],
   "source": []
  },
  {
   "cell_type": "code",
   "execution_count": null,
   "id": "f0db736a",
   "metadata": {},
   "outputs": [],
   "source": []
  },
  {
   "cell_type": "markdown",
   "id": "c82e5343",
   "metadata": {},
   "source": [
    "# Exercícios com if\n",
    "\n",
    "## 1. Cálculo de Bônus\n",
    "\n",
    "- Crie um programa que calcule e dê um print no bônus que os funcionários devem receber segundo a regra:\n",
    "\n",
    "A meta é 1000 vendas.<br> \n",
    "Se o valor de vendas for maior ou igual a meta, o valor do bônus do funcionário é 10% do valor de vendas.<br>\n",
    "Caso contrário o valor de bônus do funcionário é 0.<br>\n",
    "Print o bônus dos 3 funcionários"
   ]
  },
  {
   "cell_type": "code",
   "execution_count": null,
   "id": "4266eff5",
   "metadata": {},
   "outputs": [],
   "source": []
  },
  {
   "cell_type": "markdown",
   "id": "419d1edf",
   "metadata": {},
   "source": [
    "## 2. Cálculo de bônus com uma nova regra\n",
    "\n",
    "- Agora, crie um novo código que calcule e dê um print no bônus dos funcionários novamente. Porém há uma nova regra nesse 2º caso:\n",
    "\n",
    "A meta é 1000 vendas<br>\n",
    "Agora, os funcionários que venderem muito acima da meta ganham mais bônus do que os outros. Então o bônus é definido da seguinte forma:<br>\n",
    "\n",
    "- Se vendas funcionário for maior ou igual a 2000, então o bônus é de 15% sobre o valor de vendas\n",
    "- Se vendas funcionário for menor do que 2000 e maior ou igual a 1000, então o bônus é de 10% sobre o valor de vendas\n",
    "- Se vendas funcionário for menos do que 1000 então o bônus do funcionário é de 0.\n",
    "\n",
    "Use as mesmas variáveis de vendas_funcionários"
   ]
  },
  {
   "cell_type": "code",
   "execution_count": 1,
   "id": "9f571ee4",
   "metadata": {},
   "outputs": [],
   "source": [
    "#obs: há 2 formas de fazer, com if dentro de if ou então com if e elif. Escolha a que você preferir\n",
    "\n"
   ]
  },
  {
   "cell_type": "markdown",
   "id": "404d12fa",
   "metadata": {},
   "source": [
    "# Casos com várias condições/comparações\n",
    "\n",
    "### Estrutura:\n",
    "\n",
    "Quando temos várias comparações, ao invés de criar if dentro de if podemos usar os operadores \"and\" e \"or\" para tratar essas condições.\n",
    "\n",
    "Funciona assim:\n",
    "\n"
   ]
  },
  {
   "cell_type": "raw",
   "id": "c205f5fb",
   "metadata": {},
   "source": [
    "if condicao_1 and condicao_2:\n",
    "    vai ser executado se as 2 condições forem verdadeiras ao mesmo tempo\n",
    "\n",
    "outro caso:\n",
    "\n",
    "if condicao_1 or condicao_2:\n",
    "    vai ser executado se pelo menos uma das condições forem verdadeiras"
   ]
  },
  {
   "cell_type": "markdown",
   "id": "58728b83",
   "metadata": {},
   "source": [
    "### Exemplo\n",
    "\n",
    "Vamos voltar ao exemplo de cálculo de meta de vendas dos funcionários. Muitas empresas atribuem bonificação do salário dos funcionários de acordo com o resultado do funcionário e também com o resultado da empresa como um todo.\n",
    "\n",
    "Nesse caso, a regra funciona da seguinte forma:\n",
    "- Se o funcionário vendeu mais do que a meta de vendas e a loja bateu a meta de vendas da loja, o funcionário ganha 3% do que ele vendeu em forma de bônus.\n",
    "- Caso o funcionário tenha batido a meta de vendas individual dele, mas a loja não tenha batido a meta de vendas da loja como um todo, o funcionário não ganha bônus."
   ]
  },
  {
   "cell_type": "code",
   "execution_count": null,
   "id": "07ae1c5a",
   "metadata": {},
   "outputs": [],
   "source": []
  },
  {
   "cell_type": "markdown",
   "id": "cb345352",
   "metadata": {},
   "source": [
    "### Outro exemplo\n",
    "\n",
    "Agora vamos levar essa análise mais a fundo.\n",
    "\n",
    "Nessa empresa, existe um outro caso também que garante que o funcionário ganhe um bônus, independente das vendas que ele fez naquele mês.\n",
    "\n",
    "Todo mês os diretores da empresa fazem uma avaliação qualitativa de todos os funcionários. Nessa avaliação os diretores dão uma nota de 0 a 10 para cada funcionário. Se a nota do funcionário for 9 ou 10, ele também ganha o bônus de 3% do valor de vendas. (os bônus não são cumulativos)"
   ]
  },
  {
   "cell_type": "code",
   "execution_count": null,
   "id": "41b6365a",
   "metadata": {},
   "outputs": [],
   "source": []
  },
  {
   "cell_type": "markdown",
   "id": "b785800d",
   "metadata": {},
   "source": [
    "# Comparações Contraintuitivas\n",
    "\n",
    "Existem algumas comparações no Python que não são tão intuitivas quando vemos pela primeira vez, mas que são muito usadas, principalmente por programadores mais experientes.\n",
    "\n",
    "É bom sabermos alguns exemplos e buscar sempre entender o que aquela comparação está buscando verificar.\n",
    "\n",
    "### Exemplo 1:\n",
    "\n",
    "Digamos que você está construindo um sistema de controle de vendas e precisa de algumas informações para fazer o cálculo do resultado da loja no fim de um mês.\n",
    "\n",
    "\n",
    "## Resumo\n",
    "\n",
    "Algumas comparações contraintuitivas muito usadas:\n",
    "\n",
    "If 0:\n",
    "\n",
    "If '':\n",
    "\n",
    "Temos outras também, mas que são usadas para verificar listas vazias, dicionários vazios, objetos vazios e assim vai. Quando chegarmos nesses módulos vamos relembrar esse conceito, mas o importante é saber dessa possibilidade e entender seu uso."
   ]
  },
  {
   "cell_type": "code",
   "execution_count": null,
   "id": "2e80f83d",
   "metadata": {},
   "outputs": [],
   "source": [
    "\n"
   ]
  },
  {
   "cell_type": "markdown",
   "id": "6f3b6bca",
   "metadata": {},
   "source": [
    "# Exercícios\n",
    "\n",
    "## 1. Criando um mini sistema de controle de estoque\n",
    "\n",
    "- Crie um sistema para ser usado pelo time de controle de estoque de um centro de distribuição.\n",
    "- Imagine que ao fim de todo dia, o time conta quantas unidades de produto existem no estoque. Se tivermos um estoque abaixo do estoque permitido para aquela categoria do produto, o time deve ser avisado (print) para fazer um novo pedido daquele produto.\n",
    "- Cada categoria de produto tem um estoque mínimo diferente, segundo a regra abaixo:\n",
    "\n",
    "- alimentos -> Estoque mínimo: 50\n",
    "- bebidas -> Estoque mínimo: 75\n",
    "- limpeza -> Estoque mínimo: 30\n",
    "\n",
    "Para isso vamos criar um programa que pede 3 inputs do usuário: nome do produto, categoria e quantidade atual em estoque.\n",
    "\n",
    "Se o produto tiver abaixo do estoque mínimo da categoria dele, o programa deve printar a mensagem \"Solicitar {produto} à equipe de compras, temos apenas {unidades} em estoque\"\n",
    "\n",
    "Exemplo: Se o usuário preenche os inputs com: bebidas, dolly, 90, o programa não deve exibir nenhuma mensagem.<br>\n",
    "Agora, se o usuário preenche os inputs com: bebidas, guaraná, 60, o programa deve exibir a mensagem \"Solicitar guaraná à equipe de compras, temos apenas 60 unidades em estoque.\n",
    "\n",
    "Obs: lembre de usar o int() para transformar o número inserido pelo usuário no input de string para int.<br>\n",
    "Obs2: Caso o usuário não preencha alguma das 3 informações, o programa deve exibir uma mensagem para avisá-lo de preencher corretamente."
   ]
  },
  {
   "cell_type": "code",
   "execution_count": null,
   "id": "7fdffb6d",
   "metadata": {},
   "outputs": [],
   "source": [
    "\n"
   ]
  }
 ],
 "metadata": {
  "kernelspec": {
   "display_name": "Python 3 (ipykernel)",
   "language": "python",
   "name": "python3"
  },
  "language_info": {
   "codemirror_mode": {
    "name": "ipython",
    "version": 3
   },
   "file_extension": ".py",
   "mimetype": "text/x-python",
   "name": "python",
   "nbconvert_exporter": "python",
   "pygments_lexer": "ipython3",
   "version": "3.9.12"
  }
 },
 "nbformat": 4,
 "nbformat_minor": 5
}
