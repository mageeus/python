{
 "cells": [
  {
   "cell_type": "markdown",
   "id": "66ed595d",
   "metadata": {},
   "source": [
    "# Listas em Python\n",
    "\n",
    "## Estrutura:\n",
    "\n",
    "lista = [valor, valor, valor, valor, ...]\n",
    "\n",
    "- Lista é um dos objetos mais importantes de Python, por isso vamos trabalhar bastante neles\n",
    "- Quando importamos uma base de dados para o Python, normalmente ele é lido como uma \"lista\" ou como alguma \"variação de lista\"\n",
    "- Listas em Python foram feitas para serem homogêneas, apesar de aceitarem valores heterogêneos\n",
    "- Exemplos de Lista:\n",
    "\n",
    "Listas de Produtos de uma Loja:"
   ]
  },
  {
   "cell_type": "code",
   "execution_count": 3,
   "id": "59dab8c4",
   "metadata": {},
   "outputs": [
    {
     "name": "stdout",
     "output_type": "stream",
     "text": [
      "celular\n",
      "1500\n"
     ]
    }
   ],
   "source": [
    "produtos = ['tv', 'celular', 'mouse', 'teclado', 'tablet']\n",
    "vendas = [1000, 1500, 350, 270, 900]\n",
    "\n",
    "print(produtos[1])\n",
    "print(vendas[1])"
   ]
  },
  {
   "cell_type": "raw",
   "id": "c9e045e6",
   "metadata": {},
   "source": [
    "Para substituir um valor de uma lista você pode fazer:\n",
    "lista[i] = novo_valor"
   ]
  },
  {
   "cell_type": "code",
   "execution_count": 4,
   "id": "0eb7be06",
   "metadata": {},
   "outputs": [
    {
     "name": "stdout",
     "output_type": "stream",
     "text": [
      "['bazuca', 'celular', 'mouse', 'teclado', 'tablet']\n"
     ]
    }
   ],
   "source": [
    "produtos[0] = 'bazuca'\n",
    "\n",
    "print(produtos)"
   ]
  },
  {
   "cell_type": "raw",
   "id": "618825ad",
   "metadata": {},
   "source": [
    "# Como descobrir o índice de um item de uma lista?\n",
    "\n",
    "i = lista.index('item')"
   ]
  },
  {
   "cell_type": "markdown",
   "id": "f2ca44e9",
   "metadata": {},
   "source": [
    "Exemplo:\n",
    "\n",
    "Digamos que você puxou do Banco de Dados da sua empresa uma lista com todos os produtos que a empresa vende e a quantidade em estoque de todos eles."
   ]
  },
  {
   "cell_type": "code",
   "execution_count": 6,
   "id": "ae960699",
   "metadata": {},
   "outputs": [],
   "source": [
    "produtos = ['tv', 'celular', 'tablet', 'mouse', 'teclado', 'geladeira', 'forno']\n",
    "estoque = [100, 150, 100, 120, 70, 180, 80]"
   ]
  },
  {
   "cell_type": "markdown",
   "id": "45dfccf6",
   "metadata": {},
   "source": [
    "Nesse caso a lista é \"pequena\" para fins didáticos, mas essa lista poderia ter dezenas de milhares de produtos diferentes.\n",
    "\n",
    "E agora, como eu faço para descobrir a quantidade em estoque do produto geladeira?"
   ]
  },
  {
   "cell_type": "code",
   "execution_count": 7,
   "id": "3ed13e5e",
   "metadata": {},
   "outputs": [
    {
     "name": "stdout",
     "output_type": "stream",
     "text": [
      "Quantidade em estoque da geladeira é de: 180\n"
     ]
    }
   ],
   "source": [
    "i = produtos.index('geladeira')\n",
    "qtde_estoque = estoque[i]\n",
    "\n",
    "print('Quantidade em estoque da geladeira é de: {}'.format(qtde_estoque))"
   ]
  },
  {
   "cell_type": "markdown",
   "id": "ecde1e0b",
   "metadata": {},
   "source": [
    "Crie um programa para fazer uma consulta de estoque. O usuário do programa deve inserir o nome do produto e, caso ele não exista na lista, ele deve ser avisado. Caso exista, o programa deve dizer a quantidade de unidades em estoque do produto"
   ]
  },
  {
   "cell_type": "code",
   "execution_count": 8,
   "id": "39ee199b",
   "metadata": {},
   "outputs": [
    {
     "name": "stdout",
     "output_type": "stream",
     "text": [
      "Insira o nome do produto em letra minúsculageladeira\n",
      "Temos 180 unidades de geladeira no estoque\n"
     ]
    }
   ],
   "source": [
    "produto = input('Insira o nome do produto em letra minúscula')\n",
    "if produto in produtos:\n",
    "    i = produtos.index(produto)\n",
    "    qtde_estoque = estoque[i]\n",
    "    print('Temos {} unidades de {} no estoque'.format(qtde_estoque, produto))\n",
    "else:\n",
    "    print('{} não existe no estoque'.format(produto))"
   ]
  },
  {
   "cell_type": "markdown",
   "id": "cb8d3c69",
   "metadata": {},
   "source": [
    "# Adicionar e Remover itens de uma lista\n",
    "\n",
    "Adicionar:<br>\n",
    "lista.append(item)\n",
    "\n",
    "Remover:<br>\n",
    "item_removido = lista.pop(indice)<br>\n",
    "lista.remove(item)\n",
    "\n",
    "Digamos que você está construindo o controle de produtos da Apple.<br>\n",
    "E a Apple lançou o IPhone 11 e irá tirar dos seus estoques o IPhone X"
   ]
  },
  {
   "cell_type": "code",
   "execution_count": 9,
   "id": "8a056d56",
   "metadata": {},
   "outputs": [
    {
     "name": "stdout",
     "output_type": "stream",
     "text": [
      "['apple tv', 'mac', 'iphone x', 'IPad', 'apple watch', 'mac book', 'airpods']\n",
      "['apple tv', 'mac', 'iphone x', 'IPad', 'apple watch', 'mac book', 'airpods', 'iphone 11']\n",
      "iphonex não existe na lista de produtos\n"
     ]
    }
   ],
   "source": [
    "produtos = ['apple tv', 'mac', 'iphone x', 'IPad', 'apple watch', 'mac book', 'airpods']\n",
    "print(produtos)\n",
    "#adicionar o iphone 11\n",
    "produtos.append('iphone 11')\n",
    "\n",
    "print(produtos)\n",
    "\n",
    "#remover o iphone x\n",
    "produto_remover = 'iphonex'\n",
    "\n",
    "if produto_remover in produtos:\n",
    "    produtos.remove('iphonex')\n",
    "else:\n",
    "    print('{} não existe na lista de produtos'.format(produto_remover))"
   ]
  },
  {
   "cell_type": "markdown",
   "id": "9c4eee0a",
   "metadata": {},
   "source": [
    "## Existem 2 formas de tratar o erro:\n",
    "\n",
    "1. Criar um if para evitar que ele aconteça\n",
    "\n",
    "2. Esperar que ele possa acontecer e tratar caso o erro aconteça com:"
   ]
  },
  {
   "cell_type": "raw",
   "id": "08db10e2",
   "metadata": {},
   "source": [
    "try:\n",
    "    tentar fazer\n",
    "except:\n",
    "    caso dê errado"
   ]
  },
  {
   "cell_type": "code",
   "execution_count": 10,
   "id": "3e4d7d76",
   "metadata": {},
   "outputs": [],
   "source": [
    "try:\n",
    "    produtos.remove('iphox')\n",
    "    print(produtos)\n",
    "except:\n",
    "    #printar mensagem de erro\n",
    "    pass"
   ]
  },
  {
   "cell_type": "markdown",
   "id": "b69af3f8",
   "metadata": {},
   "source": [
    "# Algumas Funções Básicas de Lista\n",
    "\n",
    "## Tamanho da Lista\n",
    "\n",
    "tamanho = len(lista)"
   ]
  },
  {
   "cell_type": "code",
   "execution_count": 12,
   "id": "37da2d44",
   "metadata": {},
   "outputs": [
    {
     "name": "stdout",
     "output_type": "stream",
     "text": [
      "Temos 7 produtos\n"
     ]
    }
   ],
   "source": [
    "produtos = ['apple tv', 'mac', 'iphone x', 'IPad', 'apple watch', 'mac book', 'airpods']\n",
    "\n",
    "#Quantos produtos temos a venda?\n",
    "\n",
    "tamanho = len(produtos)\n",
    "print('Temos {} produtos'.format(tamanho))"
   ]
  },
  {
   "cell_type": "markdown",
   "id": "aa4817fb",
   "metadata": {},
   "source": [
    "## Maior e Menor Valor\n",
    "\n",
    "maior = max(lista)\n",
    "\n",
    "menor = min(lista)"
   ]
  },
  {
   "cell_type": "code",
   "execution_count": 14,
   "id": "4612dddd",
   "metadata": {},
   "outputs": [
    {
     "name": "stdout",
     "output_type": "stream",
     "text": [
      "O produto mais vendido teve 15000 unidades vendidas e o menos vendido teve 100 unidades vendidas\n"
     ]
    }
   ],
   "source": [
    "vendas = [1000, 1500, 15000, 270, 900, 100, 1200]\n",
    "\n",
    "#Qual o item mais vendido?\n",
    "\n",
    "mais_vendido = max(vendas)\n",
    "\n",
    "#Qual o item menos vendido?\n",
    "\n",
    "menos_vendido = min(vendas)\n",
    "print('O produto mais vendido teve {} unidades vendidas e o menos vendido teve {} unidades vendidas'.format(mais_vendido, menos_vendido))"
   ]
  },
  {
   "cell_type": "code",
   "execution_count": 15,
   "id": "77c67ba2",
   "metadata": {},
   "outputs": [
    {
     "name": "stdout",
     "output_type": "stream",
     "text": [
      "iphone x\n",
      "mac book\n"
     ]
    }
   ],
   "source": [
    "#usando os indices do mais e menos vendidos busque o produto na lista de produtos\n",
    "i = vendas.index(mais_vendido)\n",
    "produto_mais_vendido = produtos[i]\n",
    "\n",
    "print(produto_mais_vendido)\n",
    "\n",
    "i = vendas.index(menos_vendido)\n",
    "produto_menos_vendido = produtos[i]\n",
    "\n",
    "print(produto_menos_vendido)"
   ]
  },
  {
   "cell_type": "markdown",
   "id": "1e021997",
   "metadata": {},
   "source": [
    "# Juntar Listas, Ordenar e Cuidados Especiais\n",
    "\n",
    "### 2 formas:\n",
    "\n",
    "- lista1.extend(lista2)\n",
    "- lista_nova = lista1 + lista2\n",
    "\n",
    "Obs: o Método .append não junta listas, mas adiciona um valor no final da lista"
   ]
  },
  {
   "cell_type": "code",
   "execution_count": 17,
   "id": "033bb6c6",
   "metadata": {},
   "outputs": [
    {
     "name": "stdout",
     "output_type": "stream",
     "text": [
      "['apple tv', 'mac', 'iphone x', 'iphone 11', 'IPad', 'apple watch', 'mac book', 'airpods', 'iphone 12', 'ioculos']\n"
     ]
    }
   ],
   "source": [
    "produtos = ['apple tv', 'mac', 'iphone x', 'iphone 11', 'IPad', 'apple watch', 'mac book', 'airpods']\n",
    "novos_produtos = ['iphone 12', 'ioculos']\n",
    "\n",
    "todos_produtos = produtos + novos_produtos\n",
    "print(todos_produtos)"
   ]
  },
  {
   "cell_type": "code",
   "execution_count": 19,
   "id": "494bc9dc",
   "metadata": {},
   "outputs": [
    {
     "name": "stdout",
     "output_type": "stream",
     "text": [
      "35000\n",
      "35000\n"
     ]
    }
   ],
   "source": [
    "#exemplos de soma de valores da lista\n",
    "vendas = [1000, 1500, 15000, 20000, 270, 900, 100, 1200]\n",
    "vendas_iphonex = [15000]\n",
    "vendas_iphone11 = [20000]\n",
    "\n",
    "total_iphone = vendas[2] + vendas[3]\n",
    "total_iphone_listas = vendas_iphonex[0] + vendas_iphone11[0]\n",
    "print(total_iphone)\n",
    "print(total_iphone_listas)"
   ]
  },
  {
   "cell_type": "markdown",
   "id": "ea317e93",
   "metadata": {},
   "source": [
    "### Ordenar listas\n",
    "\n",
    "lista.sort()"
   ]
  },
  {
   "cell_type": "code",
   "execution_count": 20,
   "id": "87e3a55e",
   "metadata": {},
   "outputs": [
    {
     "name": "stdout",
     "output_type": "stream",
     "text": [
      "[100, 270, 900, 1000, 1200, 1500, 15000, 20000]\n"
     ]
    }
   ],
   "source": [
    "vendas.sort(reverse=False)\n",
    "print(vendas)"
   ]
  },
  {
   "cell_type": "markdown",
   "id": "efd49758",
   "metadata": {},
   "source": [
    "# Print de Listas\n",
    "\n",
    "2 Opções:\n",
    "- print \"normal\"\n",
    "- método join -> texto.join(lista)"
   ]
  },
  {
   "cell_type": "code",
   "execution_count": 21,
   "id": "fe680728",
   "metadata": {},
   "outputs": [
    {
     "name": "stdout",
     "output_type": "stream",
     "text": [
      "['apple tv', 'mac', 'iphone x', 'iphone 11', 'IPad', 'apple watch', 'mac book', 'airpods']\n",
      "apple tv\n",
      "mac\n",
      "iphone x\n",
      "iphone 11\n",
      "IPad\n",
      "apple watch\n",
      "mac book\n",
      "airpods\n"
     ]
    }
   ],
   "source": [
    "produtos = ['apple tv', 'mac', 'iphone x', 'iphone 11', 'IPad', 'apple watch', 'mac book', 'airpods']\n",
    "print(produtos)\n",
    "\n",
    "print('\\n'.join(produtos))"
   ]
  },
  {
   "cell_type": "markdown",
   "id": "f0bc3caf",
   "metadata": {},
   "source": [
    "Lembrando do método split de strings:\n",
    "\n",
    "lista = texto.split(separador)"
   ]
  },
  {
   "cell_type": "code",
   "execution_count": 22,
   "id": "1409c674",
   "metadata": {},
   "outputs": [
    {
     "name": "stdout",
     "output_type": "stream",
     "text": [
      "['apple tv', 'mac', 'iphone x', 'iphone 11', 'IPad', 'apple watch', 'mac book', 'airpods']\n"
     ]
    }
   ],
   "source": [
    "produtos = 'apple tv, mac, iphone x, iphone 11, IPad, apple watch, mac book, airpods'\n",
    "lista = produtos.split(', ')\n",
    "\n",
    "print(lista)"
   ]
  }
 ],
 "metadata": {
  "kernelspec": {
   "display_name": "Python 3 (ipykernel)",
   "language": "python",
   "name": "python3"
  },
  "language_info": {
   "codemirror_mode": {
    "name": "ipython",
    "version": 3
   },
   "file_extension": ".py",
   "mimetype": "text/x-python",
   "name": "python",
   "nbconvert_exporter": "python",
   "pygments_lexer": "ipython3",
   "version": "3.9.12"
  }
 },
 "nbformat": 4,
 "nbformat_minor": 5
}
