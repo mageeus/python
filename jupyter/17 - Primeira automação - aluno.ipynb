{
 "cells": [
  {
   "cell_type": "markdown",
   "id": "5d8a6682",
   "metadata": {},
   "source": [
    "#OBJETIVO: Realizar o backup dos arquivos da pasta HTML no google drive.\n",
    "\n",
    "Essa simples script serve para introduzir os assuntos relacionados a automação, e em como as bibliotecas do Python trabalham juntas.\n",
    "Existem dezenas, ou centenas de formas de se automatizar tarefas, e certamente centenas das soluções são melhores que o modelo proposto aqui, mas a intenção aqui é que você tenha um primeiro contato, e dê o primeiro passo ruma as soluções que desenvolverá profissionalmente.\n",
    "Os Pré-requisitos para o aproveitamento dessa aula é que você esteja logado no google drive, e cria a pasta 00 – teste, que deve ser listada na primeira posição para facilitar o projeto.\n",
    "\n",
    "\n",
    "1 - INSTALAR AS BIBLIOTECAS NECESSÁRIAS\n",
    "\n",
    "PyAutogui - biblioteca para automação do mouse e teclado\n",
    "!pip install pyautogui\n",
    "\n",
    "PyperClip - biblioteca para conversão de caracteres para utilização em outros métodos. Semelhante ao urlencode e urldecode do PHP\n",
    "\n",
    "Time - biblioteca que serve para obtenção e controle do tempo de execução do script (biblioteca instalada junto com o Python)\n"
   ]
  },
  {
   "cell_type": "code",
   "execution_count": 12,
   "id": "2519dc80",
   "metadata": {
    "scrolled": true
   },
   "outputs": [
    {
     "name": "stdout",
     "output_type": "stream",
     "text": [
      "Defaulting to user installation because normal site-packages is not writeable\n",
      "Requirement already satisfied: pyautogui in c:\\users\\suporte\\appdata\\roaming\\python\\python39\\site-packages (0.9.53)\n",
      "Requirement already satisfied: pygetwindow>=0.0.5 in c:\\users\\suporte\\appdata\\roaming\\python\\python39\\site-packages (from pyautogui) (0.0.9)\n",
      "Requirement already satisfied: pyscreeze>=0.1.21 in c:\\users\\suporte\\appdata\\roaming\\python\\python39\\site-packages (from pyautogui) (0.1.28)\n",
      "Requirement already satisfied: PyTweening>=1.0.1 in c:\\users\\suporte\\appdata\\roaming\\python\\python39\\site-packages (from pyautogui) (1.0.4)\n",
      "Requirement already satisfied: pymsgbox in c:\\users\\suporte\\appdata\\roaming\\python\\python39\\site-packages (from pyautogui) (1.0.9)\n",
      "Requirement already satisfied: mouseinfo in c:\\users\\suporte\\appdata\\roaming\\python\\python39\\site-packages (from pyautogui) (0.1.3)\n",
      "Requirement already satisfied: pyrect in c:\\users\\suporte\\appdata\\roaming\\python\\python39\\site-packages (from pygetwindow>=0.0.5->pyautogui) (0.2.0)\n",
      "Requirement already satisfied: pyperclip in c:\\users\\suporte\\appdata\\roaming\\python\\python39\\site-packages (from mouseinfo->pyautogui) (1.8.2)\n",
      "Defaulting to user installation because normal site-packages is not writeable\n",
      "Requirement already satisfied: pyperclip in c:\\users\\suporte\\appdata\\roaming\\python\\python39\\site-packages (1.8.2)\n"
     ]
    }
   ],
   "source": [
    "!pip install pyautogui\n",
    "\n"
   ]
  },
  {
   "cell_type": "code",
   "execution_count": 18,
   "id": "dc378113",
   "metadata": {},
   "outputs": [
    {
     "name": "stdout",
     "output_type": "stream",
     "text": [
      "Defaulting to user installation because normal site-packages is not writeable\n",
      "Requirement already satisfied: pyperclip in c:\\users\\suporte\\appdata\\roaming\\python\\python39\\site-packages (1.8.2)\n"
     ]
    }
   ],
   "source": [
    "!pip install pyperclip"
   ]
  },
  {
   "cell_type": "markdown",
   "id": "4d9a1597",
   "metadata": {},
   "source": [
    "2 - IMPORTAR AS BIBLIOTECAS INSTALADAS\n",
    "\n",
    "import nome_da_biblioteca"
   ]
  },
  {
   "cell_type": "code",
   "execution_count": 20,
   "id": "80f0a190",
   "metadata": {},
   "outputs": [
    {
     "ename": "ModuleNotFoundError",
     "evalue": "No module named 'pyperclip'",
     "output_type": "error",
     "traceback": [
      "\u001b[1;31m---------------------------------------------------------------------------\u001b[0m",
      "\u001b[1;31mModuleNotFoundError\u001b[0m                       Traceback (most recent call last)",
      "\u001b[1;32m~\\AppData\\Local\\Temp\\ipykernel_10680\\1009312856.py\u001b[0m in \u001b[0;36m<module>\u001b[1;34m\u001b[0m\n\u001b[1;32m----> 1\u001b[1;33m \u001b[1;32mimport\u001b[0m \u001b[0mpyperclip\u001b[0m\u001b[1;33m\u001b[0m\u001b[1;33m\u001b[0m\u001b[0m\n\u001b[0m",
      "\u001b[1;31mModuleNotFoundError\u001b[0m: No module named 'pyperclip'"
     ]
    }
   ],
   "source": [
    "import pyperclip"
   ]
  },
  {
   "cell_type": "markdown",
   "id": "48d123b7",
   "metadata": {},
   "source": [
    "3 - Estabelecer o tempo de execução entre cada comando do PyAutoGui"
   ]
  },
  {
   "cell_type": "code",
   "execution_count": null,
   "id": "351ecb73",
   "metadata": {},
   "outputs": [],
   "source": []
  },
  {
   "cell_type": "markdown",
   "id": "14d5d12f",
   "metadata": {},
   "source": [
    "#código para pegar a posição do mouse click\n",
    "\n",
    "time.sleep(5)\n",
    "\n",
    "pyautogui.position()\n",
    "\n",
    "Criar a pasta 00 - teste no google drive <br/>\n",
    "Ordenar por pasta"
   ]
  },
  {
   "cell_type": "code",
   "execution_count": null,
   "id": "711222a5",
   "metadata": {},
   "outputs": [],
   "source": []
  },
  {
   "cell_type": "code",
   "execution_count": null,
   "id": "57710ab9",
   "metadata": {},
   "outputs": [],
   "source": []
  },
  {
   "cell_type": "markdown",
   "id": "ce4dd657",
   "metadata": {},
   "source": [
    "# Passos para solução do problema\n",
    "\n",
    "1 - Abrir o google drive <br />\n",
    "2 - Criar nova pasta no google drive <br />\n",
    "3 - Acessar a pasta que vamos fazer o backup<br />\n",
    "4 - Acessar os comandos do google drive<br />\n",
    "5 - Escolher a opção de envio de arquivos <br />\n",
    "6 - Selecionar a pasta local a ser copiada<br />\n",
    "7 - Selecionar os arquivos <br />\n",
    "8 - Enviar os arquivos"
   ]
  },
  {
   "cell_type": "code",
   "execution_count": null,
   "id": "4320822b",
   "metadata": {},
   "outputs": [],
   "source": [
    "time.sleep(10)\n",
    "\n",
    "pyautogui.position()"
   ]
  },
  {
   "cell_type": "code",
   "execution_count": 1,
   "id": "df37e7f9",
   "metadata": {},
   "outputs": [],
   "source": [
    "#1 - Abrir o google drive\n",
    "\n",
    "#2 - Criar nova pasta no google drive\n",
    "\n",
    "#3 - Acessar a pasta que vamos fazer o backup\n",
    "\n",
    "#4 - Acessar os comandos do google drive\n",
    "\n",
    "#5 - Escolher a opção de envio de arquivos\n",
    "\n",
    "#6 - Selecionar a pasta local a ser copiada\n",
    "\n",
    "#7 - Selecionar os arquivos\n",
    "\n",
    "#8 - Enviar os arquivos\n"
   ]
  },
  {
   "cell_type": "markdown",
   "id": "db3ed12e",
   "metadata": {},
   "source": [
    "# Estudo complementar - Movendo os arquivos no SO\n",
    "\n",
    "Crie um programa que movera os arquivos de uma pasta origem para uma pasta destino.\n",
    "Use o data e a hora para criar pastas diferentes na pasta de destino.\n"
   ]
  },
  {
   "cell_type": "code",
   "execution_count": 2,
   "id": "ba831aaf",
   "metadata": {},
   "outputs": [],
   "source": [
    "import os\n",
    "import shutil\n",
    "from datetime import datetime\n",
    "\n",
    "# Define o caminho da pasta original\n",
    "\n",
    "\n",
    "# Define o nome da nova pasta com base na data e hora atual\n",
    "\n",
    "# Cria a nova pasta\n",
    "\n",
    "# Lista o conteúdo da pasta original\n",
    "\n",
    "# Copia cada arquivo da pasta original para a nova pasta\n"
   ]
  }
 ],
 "metadata": {
  "kernelspec": {
   "display_name": "Python 3 (ipykernel)",
   "language": "python",
   "name": "python3"
  },
  "language_info": {
   "codemirror_mode": {
    "name": "ipython",
    "version": 3
   },
   "file_extension": ".py",
   "mimetype": "text/x-python",
   "name": "python",
   "nbconvert_exporter": "python",
   "pygments_lexer": "ipython3",
   "version": "3.9.13"
  }
 },
 "nbformat": 4,
 "nbformat_minor": 5
}
