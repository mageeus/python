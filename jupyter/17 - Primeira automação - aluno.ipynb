{
 "cells": [
  {
   "cell_type": "markdown",
   "id": "5d8a6682",
   "metadata": {},
   "source": [
    "#OBJETIVO: Realizar o backup dos arquivos da pasta HTML no google drive.\n",
    "\n",
    "Essa simples script serve para introduzir os assuntos relacionados a automação, e em como as bibliotecas do Python trabalham juntas.\n",
    "Existem dezenas, ou centenas de formas de se automatizar tarefas, e certamente centenas das soluções são melhores que o modelo proposto aqui, mas a intenção aqui é que você tenha um primeiro contato, e dê o primeiro passo ruma as soluções que desenvolverá profissionalmente.\n",
    "Os Pré-requisitos para o aproveitamento dessa aula é que você esteja logado no google drive, e cria a pasta 00 – teste, que deve ser listada na primeira posição para facilitar o projeto.\n",
    "\n",
    "\n",
    "1 - INSTALAR AS BIBLIOTECAS NECESSÁRIAS\n",
    "\n",
    "PyAutogui - biblioteca para automação do mouse e teclado\n",
    "!pip install pyautogui\n",
    "\n",
    "PyperClip - biblioteca para conversão de caracteres para utilização em outros métodos. Semelhante ao urlencode e urldecode do PHP\n",
    "\n",
    "Time - biblioteca que serve para obtenção e controle do tempo de execução do script (biblioteca instalada junto com o Python)\n"
   ]
  },
  {
   "cell_type": "code",
   "execution_count": null,
   "id": "2519dc80",
   "metadata": {},
   "outputs": [],
   "source": [
    "\n"
   ]
  },
  {
   "cell_type": "markdown",
   "id": "4d9a1597",
   "metadata": {},
   "source": [
    "2 - IMPORTAR AS BIBLIOTECAS INSTALADAS\n",
    "\n",
    "import nome_da_biblioteca"
   ]
  },
  {
   "cell_type": "code",
   "execution_count": null,
   "id": "80f0a190",
   "metadata": {},
   "outputs": [],
   "source": []
  },
  {
   "cell_type": "markdown",
   "id": "48d123b7",
   "metadata": {},
   "source": [
    "3 - Estabelecer o tempo de execução entre cada comando do PyAutoGui"
   ]
  },
  {
   "cell_type": "code",
   "execution_count": null,
   "id": "351ecb73",
   "metadata": {},
   "outputs": [],
   "source": []
  },
  {
   "cell_type": "markdown",
   "id": "14d5d12f",
   "metadata": {},
   "source": [
    "#código para pegar a posição do mouse click\n",
    "\n",
    "time.sleep(5)\n",
    "\n",
    "pyautogui.position()\n",
    "\n",
    "Criar a pasta 00 - teste no google drive <br/>\n",
    "Ordenar por pasta"
   ]
  },
  {
   "cell_type": "code",
   "execution_count": null,
   "id": "711222a5",
   "metadata": {},
   "outputs": [],
   "source": []
  },
  {
   "cell_type": "code",
   "execution_count": null,
   "id": "57710ab9",
   "metadata": {},
   "outputs": [],
   "source": []
  },
  {
   "cell_type": "markdown",
   "id": "ce4dd657",
   "metadata": {},
   "source": [
    "# Passos para solução do problema\n",
    "\n",
    "1 - Abrir o google drive <br />\n",
    "2 - Criar nova pasta no google drive <br />\n",
    "3 - Acessar a pasta que vamos fazer o backup<br />\n",
    "4 - Acessar os comandos do google drive<br />\n",
    "5 - Escolher a opção de envio de arquivos <br />\n",
    "6 - Selecionar a pasta local a ser copiada<br />\n",
    "7 - Selecionar os arquivos <br />\n",
    "8 - Enviar os arquivos"
   ]
  },
  {
   "cell_type": "code",
   "execution_count": null,
   "id": "4320822b",
   "metadata": {},
   "outputs": [],
   "source": [
    "time.sleep(10)\n",
    "\n",
    "pyautogui.position()"
   ]
  },
  {
   "cell_type": "code",
   "execution_count": 1,
   "id": "df37e7f9",
   "metadata": {},
   "outputs": [],
   "source": [
    "#1 - Abrir o google drive\n",
    "\n",
    "#2 - Criar nova pasta no google drive\n",
    "\n",
    "#3 - Acessar a pasta que vamos fazer o backup\n",
    "\n",
    "#4 - Acessar os comandos do google drive\n",
    "\n",
    "#5 - Escolher a opção de envio de arquivos\n",
    "\n",
    "#6 - Selecionar a pasta local a ser copiada\n",
    "\n",
    "#7 - Selecionar os arquivos\n",
    "\n",
    "#8 - Enviar os arquivos\n"
   ]
  },
  {
   "cell_type": "markdown",
   "id": "db3ed12e",
   "metadata": {},
   "source": [
    "# Estudo complementar - Movendo os arquivos no SO\n",
    "\n",
    "Crie um programa que movera os arquivos de uma pasta origem para uma pasta destino.\n",
    "Use o data e a hora para criar pastas diferentes na pasta de destino.\n"
   ]
  },
  {
   "cell_type": "code",
   "execution_count": 2,
   "id": "ba831aaf",
   "metadata": {},
   "outputs": [],
   "source": [
    "import os\n",
    "import shutil\n",
    "from datetime import datetime\n",
    "\n",
    "# Define o caminho da pasta original\n",
    "\n",
    "\n",
    "# Define o nome da nova pasta com base na data e hora atual\n",
    "\n",
    "# Cria a nova pasta\n",
    "\n",
    "# Lista o conteúdo da pasta original\n",
    "\n",
    "# Copia cada arquivo da pasta original para a nova pasta\n"
   ]
  }
 ],
 "metadata": {
  "kernelspec": {
   "display_name": "Python 3 (ipykernel)",
   "language": "python",
   "name": "python3"
  },
  "language_info": {
   "codemirror_mode": {
    "name": "ipython",
    "version": 3
   },
   "file_extension": ".py",
   "mimetype": "text/x-python",
   "name": "python",
   "nbconvert_exporter": "python",
   "pygments_lexer": "ipython3",
   "version": "3.9.12"
  }
 },
 "nbformat": 4,
 "nbformat_minor": 5
}
