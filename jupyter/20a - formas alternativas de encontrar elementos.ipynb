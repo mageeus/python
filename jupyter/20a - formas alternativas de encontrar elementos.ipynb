{
 "cells": [
  {
   "cell_type": "markdown",
   "id": "57cfb210",
   "metadata": {},
   "source": [
    "# 71 - formas alternativas de encontrar elementos"
   ]
  },
  {
   "cell_type": "code",
   "execution_count": 1,
   "id": "d091b046",
   "metadata": {},
   "outputs": [],
   "source": [
    "from selenium import webdriver\n",
    "from selenium.webdriver.chrome.service import Service\n",
    "from webdriver_manager.chrome import ChromeDriverManager\n",
    "from selenium.webdriver.common.by import By\n",
    "\n",
    "servico = Service(ChromeDriverManager().install())\n",
    "navegador = webdriver.Chrome(service=servico)"
   ]
  },
  {
   "cell_type": "code",
   "execution_count": 5,
   "id": "7c717e81",
   "metadata": {},
   "outputs": [
    {
     "name": "stdout",
     "output_type": "stream",
     "text": [
      "Como Criar a Tag H1 Perfeita para SEO\n",
      "Como Criar a Tag H1 Perfeita para SEO\n"
     ]
    }
   ],
   "source": [
    "navegador.get('https://neilpatel.com/br/blog/tag-h1/')\n",
    "\n",
    "print(navegador.find_element(By.TAG_NAME, 'h1').text)\n",
    "\n",
    "print(navegador.title)"
   ]
  },
  {
   "cell_type": "code",
   "execution_count": 6,
   "id": "102b6b79",
   "metadata": {},
   "outputs": [],
   "source": [
    "navegador.get('https://pastebin.com/')\n",
    "\n",
    "#print(navegador.find_element(By.PARTIAL_LINK_TEXT, 'contact').text)\n",
    "\n",
    "navegador.find_element(By.NAME, 'PostForm[text]').send_keys(\"Outro teste\")"
   ]
  }
 ],
 "metadata": {
  "kernelspec": {
   "display_name": "Python 3 (ipykernel)",
   "language": "python",
   "name": "python3"
  },
  "language_info": {
   "codemirror_mode": {
    "name": "ipython",
    "version": 3
   },
   "file_extension": ".py",
   "mimetype": "text/x-python",
   "name": "python",
   "nbconvert_exporter": "python",
   "pygments_lexer": "ipython3",
   "version": "3.9.12"
  }
 },
 "nbformat": 4,
 "nbformat_minor": 5
}
