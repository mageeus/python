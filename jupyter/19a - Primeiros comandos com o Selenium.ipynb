{
 "cells": [
  {
   "cell_type": "markdown",
   "id": "3324cdc4",
   "metadata": {},
   "source": [
    "# 19 - Primeiros comandos com o Selenium\n",
    "\n",
    "Usaremos a forma dinâmica de administração do navegador"
   ]
  },
  {
   "cell_type": "code",
   "execution_count": 1,
   "id": "8566a525",
   "metadata": {},
   "outputs": [],
   "source": [
    "from selenium import webdriver\n",
    "from selenium.webdriver.chrome.service import Service\n",
    "from webdriver_manager.chrome import ChromeDriverManager\n",
    "# Importando as bibliotecas necessárias\n",
    "from selenium.webdriver.common.keys import Keys\n",
    "\n",
    "# #puxando o driver mais atual\n",
    "servico = Service(ChromeDriverManager().install())\n",
    "navegador = webdriver.Chrome(service=servico)"
   ]
  },
  {
   "cell_type": "markdown",
   "id": "f2999cd3",
   "metadata": {},
   "source": [
    "## Achando algo no Google"
   ]
  },
  {
   "cell_type": "code",
   "execution_count": null,
   "id": "4b04495e",
   "metadata": {},
   "outputs": [],
   "source": []
  },
  {
   "cell_type": "markdown",
   "id": "496c9b80",
   "metadata": {},
   "source": [
    "PARA PODERMOS LOCALIZAR OS ELEMENTOS NA PÁGINA HTML SERÁ NECESSÁRIO IMPORTAR A BIBLIOTECAI IDENTIFICADORA DE ELEMENTOS COM A LINHA ABAIXO\n",
    "\n",
    "from selenium.webdriver.common.by import By\n",
    "\n",
    "Os elementos podem identificados por vários elementos como:\n",
    "\n",
    "ID\n",
    "CLASS_NAME\n",
    "XPATH\n",
    "TIPO DE INFORMAÇÃO (imagens, botão, etc...)\n",
    "\n",
    "Entretanto o mais recomendado é o ID principalmente por sua característica de identificação única de um elemento dentro da página.\n"
   ]
  },
  {
   "cell_type": "code",
   "execution_count": null,
   "id": "5a490e4f",
   "metadata": {},
   "outputs": [],
   "source": []
  },
  {
   "cell_type": "code",
   "execution_count": null,
   "id": "f4b7aa0d",
   "metadata": {},
   "outputs": [],
   "source": [
    "\n"
   ]
  },
  {
   "cell_type": "markdown",
   "id": "85619bfd",
   "metadata": {},
   "source": [
    "Sintaxe direta, e sintaxe por variáveis:\n",
    "\n",
    "•\tSintaxe direta\n",
    "\n",
    "navegador.find_element(By.ID, 'postform-text').send_keys(\"Teste com o selenium\")\n",
    "\n",
    "•\tSintaxe por variáveis\n",
    "\n",
    "elemento = navegador.find_element(By.ID, 'postform-text')\n",
    "elemento.send_keys(\"Teste por variável\")\n"
   ]
  },
  {
   "cell_type": "markdown",
   "id": "54aee19c",
   "metadata": {},
   "source": [
    "Links de referência:\n",
    "\n",
    "https://selenium-python.readthedocs.io/"
   ]
  }
 ],
 "metadata": {
  "kernelspec": {
   "display_name": "Python 3 (ipykernel)",
   "language": "python",
   "name": "python3"
  },
  "language_info": {
   "codemirror_mode": {
    "name": "ipython",
    "version": 3
   },
   "file_extension": ".py",
   "mimetype": "text/x-python",
   "name": "python",
   "nbconvert_exporter": "python",
   "pygments_lexer": "ipython3",
   "version": "3.8.8"
  }
 },
 "nbformat": 4,
 "nbformat_minor": 5
}
