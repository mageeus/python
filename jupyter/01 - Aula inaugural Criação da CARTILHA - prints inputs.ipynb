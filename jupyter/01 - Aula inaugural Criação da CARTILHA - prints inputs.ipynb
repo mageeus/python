{
 "cells": [
  {
   "cell_type": "markdown",
   "id": "6356b561",
   "metadata": {},
   "source": [
    "### Aula inaugural\n",
    "\n",
    "O objetivo dessa aula é o de mostrar os primeiros comandos em PYTHON. Nós faremos pequenos exercícios para apresentara sintaxe mais básica da linguagem.\n",
    "Na prática você vai acabar naturalmente decorando esses códigos a medida que formos usando mais no curso, com a resolução dos problemas teremos uma cartilha que pode te ajudar com o básico.\n",
    "\n",
    "\n",
    "### print(texto) -> Para \"imprimir\" (exibir) um texto ou uma variável\n",
    "\n",
    "\n",
    "• O nome da variável não pode iniciar com um número. Exemplo: 1berto não \n",
    "pode ser um identificador de variável. <br> <br>\n",
    "\n",
    "• O identificador não pode fazer uso de palavras reservadas da linguagem. \n",
    "As palavras reservadas são comandos/indicações que pertencem à \n",
    "linguagem. Por isso, não podem ser utilizadas como nomes de variáveis. \n",
    "Por exemplo: if, while, for, entre tantas outras, são palavras reservadas da \n",
    "linguagem Python, não podem ser utilizadas como identificadores. <br> <br>\n",
    "\n",
    "• Cuidado na utilização de caracteres especiais como: @ # ! ? ( ) [ ] { }, \n",
    "entre tantos outros que não podem ser utilizados em nomes de variáveis, \n",
    "porque também fazem parte da linguagem de programação. O único \n",
    "caractere especial que pode ser utilizado para o identificador de uma \n",
    "variável é o underline _.\n",
    "<hr>\n",
    "Padrões: não são obrigatórios, mas são importantíssimos para que possamos \n",
    "manter um código “clean” onde qualquer programador terá facilidade em realizar a leitura do seu código e eventuais manutenções. Utilizar padrões é fazer uso de uma boa prática de programação. Vamos aos padrões: <br> <br>\n",
    "\n",
    "• O identificador de uma variável sempre deverá começar com letra \n",
    "minúscula (caixa baixa), nunca inicie o nome de uma variável com letra \n",
    "maiúscula.<br> <br>\n",
    "\n",
    "• Letras maiúsculas somente devem ser usadas quando você fizer uso de \n",
    "duas ou mais palavras para compor o identificador de uma variável. A letra \n",
    "maiúscula identifica o início de uma nova palavra, o que facilita muito para \n",
    "outras pessoas que não conhecem o idioma do código que estiver sendo \n",
    "lido/interpretado. Exemplos válidos: dataDeNascimento ou \n",
    "dataNascimento ou data_nascimento. Como você pode perceber, também \n",
    "pode utilizar o underline para separar as palavras, dispensando o uso dos \n",
    "caracteres maiúsculos no nome das variáveis. <br> <br>\n",
    "\n",
    "• Utilize nomes significativos, nada de nomes como: xpto, x, y, z, abc, entre \n",
    "tantos outros bem criativos, porém, sem qualquer significado para outros profissionais. Lembre-se que você irá precisar do nome da sua variável no \n",
    "decorrer do código.<br> <br>\n",
    "• Acrônimos (siglas que resumem palavras a fim de agilizar o processo de \n",
    "comunicação) devem ser utilizados também com letras minúsculas. \n",
    "Exemplos: cpf, cep, rg, cnpj, nasa.\n",
    "Vamos verificar alguns identificadores válidos: \n",
    "numeroElemento2 produto_alimenticio endereco\n",
    "código_do_cliente descricaoCurso qtdeDeItens"
   ]
  },
  {
   "cell_type": "markdown",
   "id": "8fc8c587",
   "metadata": {},
   "source": [
    "Exercício 1\n",
    "\n",
    "Crie três variáveis de tipos diferentes(string, int, float) imprima seus valores e uma mensagem de fim de processamento para o usuário.\n"
   ]
  },
  {
   "cell_type": "code",
   "execution_count": 1,
   "id": "94dbc89d",
   "metadata": {},
   "outputs": [
    {
     "name": "stdout",
     "output_type": "stream",
     "text": [
      "saldanha\n",
      "1998\n",
      "19.23\n",
      "Fim do processamento\n"
     ]
    }
   ],
   "source": [
    "nome = \"saldanha\"\n",
    "ano = 1998\n",
    "valor = 19.23\n",
    "\n",
    "print(nome)\n",
    "print(ano)\n",
    "print(valor)\n",
    "\n",
    "print(\"Fim do processamento\")"
   ]
  },
  {
   "cell_type": "markdown",
   "id": "2e74b9ef",
   "metadata": {},
   "source": [
    "### Textos (strings) são sempre entre aspas\n",
    "\n",
    "Uma das funções de imprimir é com o método format.\n",
    "\n",
    "Exercício 2 </br>\n",
    "Imprima os valores da questão 1 dentro de um texto a sua escolha"
   ]
  },
  {
   "cell_type": "code",
   "execution_count": 4,
   "id": "ae249581",
   "metadata": {},
   "outputs": [
    {
     "name": "stdout",
     "output_type": "stream",
     "text": [
      "Teste 19.23\n",
      "O nome é saldanha e o valor é 1998 .\n"
     ]
    }
   ],
   "source": [
    "print(\"Teste \" + str(valor))\n",
    "print(\"O nome é {} e o valor é {} .\".format(nome, ano))"
   ]
  },
  {
   "cell_type": "markdown",
   "id": "e60cdf8e",
   "metadata": {},
   "source": [
    "### Operações Básicas com String\n",
    "\n",
    "1. Concatenar -> +\n",
    "2. Verificar se um texto está contido dentro do outro -> in\n",
    "\n",
    "Exercício 3 \n",
    "Concatene frases e identifique se a string 'nha' está contida no e-mail bruno.saldanha@aedb.br"
   ]
  },
  {
   "cell_type": "code",
   "execution_count": 5,
   "id": "5fffbc96",
   "metadata": {},
   "outputs": [
    {
     "name": "stdout",
     "output_type": "stream",
     "text": [
      "True\n"
     ]
    }
   ],
   "source": [
    "print('nha' in 'bruno.saldanha@aedb.br')"
   ]
  },
  {
   "cell_type": "markdown",
   "id": "8bc1cf92",
   "metadata": {},
   "source": [
    "Exercício 4 </br>\n",
    "Crie comentários de 1 linha e várias linhas"
   ]
  },
  {
   "cell_type": "code",
   "execution_count": 6,
   "id": "d881fdbb",
   "metadata": {},
   "outputs": [
    {
     "data": {
      "text/plain": [
       "'\\nljkhfkjdshkjdshfd\\nfsdfjdklsjfldsjlf\\nfksdjfljsdlf\\n'"
      ]
     },
     "execution_count": 6,
     "metadata": {},
     "output_type": "execute_result"
    }
   ],
   "source": [
    "#sdioofodsjfoidsofdsiofhoisdh\n",
    "\n",
    "'''\n",
    "ljkhfkjdshkjdshfd\n",
    "fsdfjdklsjfldsjlf\n",
    "fksdjfljsdlf\n",
    "'''"
   ]
  },
  {
   "cell_type": "markdown",
   "id": "b450fd84",
   "metadata": {},
   "source": [
    "Exercício 5 </br>\n",
    "\n",
    "### Operações Mateméticas no Python:\n",
    "\n",
    "1. Adição -> +\n",
    "2. Subtração -> -\n",
    "3. Divisão -> /\n",
    "4. Multiplicação -> *\n",
    "5. Mod (resto da divisão) -> %\n"
   ]
  },
  {
   "cell_type": "code",
   "execution_count": 9,
   "id": "75f37f53",
   "metadata": {},
   "outputs": [
    {
     "name": "stdout",
     "output_type": "stream",
     "text": [
      "8\n",
      "-2\n",
      "0.6\n",
      "15\n",
      "3\n"
     ]
    }
   ],
   "source": [
    "print(3 + 5)\n",
    "print(3 - 5)\n",
    "print(3 / 5)\n",
    "print(3 * 5)\n",
    "print(3 % 5)"
   ]
  },
  {
   "cell_type": "markdown",
   "id": "af33200b",
   "metadata": {},
   "source": [
    "### Pegar informações do Usuário\n",
    "variavel = input('Texto para o Usuário')\n",
    "\n",
    "Exercício 6 </br>\n",
    "Escreva um programa que pergunte o nome do usuário e grave na variável nome"
   ]
  },
  {
   "cell_type": "code",
   "execution_count": 11,
   "id": "3b006635",
   "metadata": {},
   "outputs": [
    {
     "name": "stdout",
     "output_type": "stream",
     "text": [
      "Entre com seu nome: bruno\n"
     ]
    }
   ],
   "source": [
    "nome = input(\"Entre com seu nome: \")"
   ]
  },
  {
   "cell_type": "code",
   "execution_count": 12,
   "id": "7a1dfa6c",
   "metadata": {},
   "outputs": [
    {
     "name": "stdout",
     "output_type": "stream",
     "text": [
      "bruno\n"
     ]
    }
   ],
   "source": [
    "print(nome)"
   ]
  },
  {
   "cell_type": "markdown",
   "id": "c4d0a162",
   "metadata": {},
   "source": [
    "Exercício 7\n",
    "\n",
    "Peça que o usuário entre com seu nome, idade e valor de mensalidade(float) e imprima os resultados com a frase O aluno xxxxxx tem xx anos e tem um custo de xxxxxxx use o conversor str em sua frase. "
   ]
  },
  {
   "cell_type": "code",
   "execution_count": 24,
   "id": "342ede5a",
   "metadata": {},
   "outputs": [
    {
     "name": "stdout",
     "output_type": "stream",
     "text": [
      "Entre com seu nome: bruno\n",
      "Digite sua idade: 20\n",
      "Qual mensalidade: 255.55\n",
      "O aluno bruno tem a idade 20\n"
     ]
    }
   ],
   "source": [
    "nome = input(\"Entre com seu nome: \")\n",
    "idade = int(input(\"Digite sua idade: \"))\n",
    "mensalidade = float(input(\"Qual mensalidade: \"))\n",
    "\n",
    "print(\"O aluno \" + nome + \" tem a idade \" + str(idade))"
   ]
  },
  {
   "cell_type": "code",
   "execution_count": 18,
   "id": "2078fc35",
   "metadata": {},
   "outputs": [
    {
     "name": "stdout",
     "output_type": "stream",
     "text": [
      "<class 'int'>\n"
     ]
    }
   ],
   "source": [
    "print(type(idade))"
   ]
  },
  {
   "cell_type": "code",
   "execution_count": 22,
   "id": "3bcfc6a8",
   "metadata": {},
   "outputs": [
    {
     "name": "stdout",
     "output_type": "stream",
     "text": [
      "bruno\n"
     ]
    }
   ],
   "source": [
    "print(f\"{nome}\")"
   ]
  },
  {
   "cell_type": "markdown",
   "id": "683bdf5f",
   "metadata": {},
   "source": [
    "### TYPE\n",
    "Temos a função type para analisarmos os tipos de dados de um variável.\n",
    "\n",
    "Exercício 8\n",
    "\n",
    "Peça que o usuário informe o nome da empresa, a quantidade de funcionários e a média de custo. Em seguida imprima a mensagem a seguir com o tipo de variável.\n",
    "Frase:\n",
    "\n",
    "\"O tipo de dado da variavel [xxxxx] é:"
   ]
  },
  {
   "cell_type": "code",
   "execution_count": 25,
   "id": "0acf1a89",
   "metadata": {},
   "outputs": [
    {
     "name": "stdout",
     "output_type": "stream",
     "text": [
      "<class 'str'>\n",
      "<class 'int'>\n",
      "<class 'float'>\n"
     ]
    }
   ],
   "source": [
    "\n",
    "print(type(nome))\n",
    "print(type(idade))\n",
    "print(type(mensalidade))"
   ]
  },
  {
   "cell_type": "markdown",
   "id": "f2b03a08",
   "metadata": {},
   "source": [
    "Exercício 9\n",
    "\n",
    "Crie um programa que imprima (print) os principais indicadores de uma loja.\n",
    "\n",
    "Obs: faça tudo usando variáveis.\n",
    "\n",
    "Valores do último ano:\n",
    "\n",
    "Quantidade de Vendas de Coca = 150<br>\n",
    "Quantidade de Vendas de Pepsi = 130<br>\n",
    "Preço Unitário da Coca = 1,50 <br>\n",
    "Preço Unitário da Pepsi = 1,50<br>\n",
    "Custo da Loja: 2.500,00"
   ]
  },
  {
   "cell_type": "code",
   "execution_count": 26,
   "id": "5b4bc5b1",
   "metadata": {},
   "outputs": [
    {
     "name": "stdout",
     "output_type": "stream",
     "text": [
      "entre com o valor: 150\n"
     ]
    }
   ],
   "source": [
    "vlcoca = int(input(\"entre com o valor: \"))\n",
    "prcoca = 1.5\n",
    "\n",
    "resultado = vlcoca * "
   ]
  },
  {
   "cell_type": "markdown",
   "id": "2db1646f",
   "metadata": {},
   "source": [
    "1. Qual foi o faturamento de Pepsi da Loja?"
   ]
  },
  {
   "cell_type": "code",
   "execution_count": null,
   "id": "48580f0e",
   "metadata": {},
   "outputs": [],
   "source": []
  },
  {
   "cell_type": "markdown",
   "id": "c19ed0d6",
   "metadata": {},
   "source": [
    "2. Levando em consideração que o custo foi de 2500, qual foi o Lucro da loja?"
   ]
  },
  {
   "cell_type": "code",
   "execution_count": null,
   "id": "6cfde39a",
   "metadata": {},
   "outputs": [],
   "source": []
  },
  {
   "cell_type": "markdown",
   "id": "31fa4b08",
   "metadata": {},
   "source": [
    "Exercício 9\n",
    "\n",
    "Coca -> Código: BEB1300543<br>\n",
    "Pepsi -> Código: BEB1300545<br>\n",
    "Vinho Primitivo Lucarelli -> Código: BAC1546001<br>\n",
    "Vodka Smirnoff -> Código: BAC17675002<br>\n",
    "\n",
    "Repare que todas as bebidas não alcóolicas tem o início do Código \"BEB\" e todas as bebidas alcóolicas tem o início do código \"BAC\".\n",
    "\n",
    "Crie um programa de consulta de bebida que, dado um código qualquer, identifique se a bebida é alcóolica. O programa deve responder True para bebidas alcóolicas e False para bebidas não alcóolicas. Para inserir um código, use um input."
   ]
  },
  {
   "cell_type": "code",
   "execution_count": null,
   "id": "e860db1d",
   "metadata": {},
   "outputs": [],
   "source": []
  },
  {
   "cell_type": "markdown",
   "id": "1c04175c",
   "metadata": {},
   "source": [
    "o desafio final.... ....de hoje.\n",
    "\n",
    "Identifique o que pode ser variável no texto abaixo e monte um projeto no Python. No final, deverá exibir o texto completo com o valor das variáveis.\n",
    "\n",
    "“Declaro para o senhor Gonçalves Dias que o senhor Humberto Delgado esteve presente no evento SecurityCup e gastou o valor de R$ 30,00 com a entrada.”"
   ]
  },
  {
   "cell_type": "code",
   "execution_count": null,
   "id": "fd34127d",
   "metadata": {},
   "outputs": [],
   "source": []
  }
 ],
 "metadata": {
  "kernelspec": {
   "display_name": "Python 3 (ipykernel)",
   "language": "python",
   "name": "python3"
  },
  "language_info": {
   "codemirror_mode": {
    "name": "ipython",
    "version": 3
   },
   "file_extension": ".py",
   "mimetype": "text/x-python",
   "name": "python",
   "nbconvert_exporter": "python",
   "pygments_lexer": "ipython3",
   "version": "3.9.12"
  }
 },
 "nbformat": 4,
 "nbformat_minor": 5
}
