{
 "cells": [
  {
   "cell_type": "markdown",
   "id": "5ee8f16f",
   "metadata": {},
   "source": [
    "## Funções:\n",
    "\n",
    "Uma função em Python é um bloco de código reutilizável que realiza uma tarefa específica. A definição de uma função começa com a palavra-chave \"def\", seguida pelo nome da função e os parâmetros entre parênteses. O corpo da função é delimitado por uma ou mais instruções indentadas e pode incluir declarações condicionais, loops e outras operações.\n",
    "\n",
    "Aqui está um exemplo simples de definição de uma função em Python que recebe dois argumentos e retorna sua soma:"
   ]
  },
  {
   "cell_type": "code",
   "execution_count": 1,
   "id": "4b2b2ec7",
   "metadata": {},
   "outputs": [
    {
     "data": {
      "text/plain": [
       "4"
      ]
     },
     "execution_count": 1,
     "metadata": {},
     "output_type": "execute_result"
    }
   ],
   "source": [
    "def soma(a, b):\n",
    "    return a + b\n",
    "\n",
    "soma(2, 2)"
   ]
  },
  {
   "cell_type": "markdown",
   "id": "5660809b",
   "metadata": {},
   "source": [
    "Exemplo:\n",
    "\n",
    "Crie um código que transforme uma string em minúscula antes de cadastrar o produto."
   ]
  },
  {
   "cell_type": "code",
   "execution_count": 4,
   "id": "bfc1f352",
   "metadata": {},
   "outputs": [
    {
     "name": "stdout",
     "output_type": "stream",
     "text": [
      "Digite o nome do produto:Aaaaa\n",
      "o produto aaaaa foi cadastrado\n"
     ]
    }
   ],
   "source": [
    "def cadastrarProduto():\n",
    "    produto = input(\"Digite o nome do produto:\")\n",
    "    produto = produto.casefold()\n",
    "    print(f\"o produto {produto} foi cadastrado\")\n",
    "    \n",
    "#cadastrarProduto()\n",
    "\n",
    "for i in range(3):\n",
    "    cadastrarProduto()"
   ]
  },
  {
   "cell_type": "markdown",
   "id": "75bc5a95",
   "metadata": {},
   "source": [
    "### retorno de função\n"
   ]
  },
  {
   "cell_type": "code",
   "execution_count": 7,
   "id": "7e2ad98b",
   "metadata": {},
   "outputs": [
    {
     "data": {
      "text/plain": [
       "'aaaaaaaaaaaaaa'"
      ]
     },
     "execution_count": 7,
     "metadata": {},
     "output_type": "execute_result"
    }
   ],
   "source": [
    "def minha_soma(num1,num2,num3):\n",
    "    return num1+num2+num3\n",
    "def padronizarTexto(texto):\n",
    "    texto = texto.casefold()\n",
    "    texto = texto.strip()\n",
    "    \n",
    "    return texto\n",
    "padronizarTexto('AAAAAaaaaaaaAA')"
   ]
  },
  {
   "cell_type": "markdown",
   "id": "a73b193e",
   "metadata": {},
   "source": [
    "# Mais sobre o return\n",
    "\n",
    "### Pontos importantes:\n",
    "\n",
    "- Podemos usar no return praticamente qualquer tipo de objeto: (número, string, lista, tupla, dicionário, outros objetos, etc.)\n",
    "- O return, se for executado, encerra a função, mesmo que dentro dela haja um loop."
   ]
  },
  {
   "cell_type": "code",
   "execution_count": 16,
   "id": "6298f807",
   "metadata": {},
   "outputs": [
    {
     "name": "stdout",
     "output_type": "stream",
     "text": [
      "['manoel@gmail.com', 'joao@gmail.com', 'mario@gmail.com']\n"
     ]
    }
   ],
   "source": [
    "#retornar um número\n",
    "def minha_soma(num1, num2, num3):\n",
    "    return num1 + num2 + num3\n",
    "\n",
    "#retornar um texto\n",
    "def padronizar_texto(texto):\n",
    "    texto = texto.casefold()\n",
    "    texto = texto.replace(\"  \", \" \")\n",
    "    texto = texto.strip()\n",
    "    return texto\n",
    "\n",
    "#retornar um boolean\n",
    "def bateu_meta(vendas, meta):\n",
    "    if vendas >= meta:\n",
    "        return True\n",
    "    else:\n",
    "        return False\n",
    "    \n",
    "#retornar uma lista, tupla ou dicionario\n",
    "def filtrar_lista_texto(lista, pedaco_texto):\n",
    "    lista_filtrada = []\n",
    "    for item in lista:\n",
    "        if pedaco_texto in item:\n",
    "            lista_filtrada.append(item)\n",
    "    return lista_filtrada\n",
    "\n",
    "\n",
    "lista_textos = ['manoel@gmail.com', 'pedro@hotmail.com', 'joao@gmail.com', 'mario@gmail.com']\n",
    "\n",
    "lista = filtrar_lista_texto(lista_textos, 'gmail')\n",
    "print(lista)"
   ]
  },
  {
   "cell_type": "markdown",
   "id": "6c59e9fa",
   "metadata": {},
   "source": [
    "### Argumento de funções"
   ]
  },
  {
   "cell_type": "raw",
   "id": "747f1630",
   "metadata": {},
   "source": [
    "def minha_funcao(parametro1, parametro2, parametro3):\n",
    "    return parametro1 + parametro2 + parametro3"
   ]
  },
  {
   "cell_type": "code",
   "execution_count": 6,
   "id": "f039bd17",
   "metadata": {},
   "outputs": [
    {
     "name": "stdout",
     "output_type": "stream",
     "text": [
      "Produto Iphone Vendas 50\n",
      "30\n"
     ]
    }
   ],
   "source": [
    "vendas = 50\n",
    "print('Produto', 'Iphone', 'Vendas', vendas)\n",
    "\n",
    "def minha_soma(num1, num2, num3):\n",
    "    return num1 + num2 + num3\n",
    "\n",
    "\n",
    "soma = minha_soma(10, 20, 0)\n",
    "print(soma)\n",
    "\n"
   ]
  },
  {
   "cell_type": "markdown",
   "id": "0582847d",
   "metadata": {},
   "source": [
    "Exemplo:\n",
    "Crie uma função que receba uma lista de códigos de produtos e retorne somente os itens relacionados a bebidas. Iniciados por BEB"
   ]
  },
  {
   "cell_type": "code",
   "execution_count": 8,
   "id": "73f5324f",
   "metadata": {},
   "outputs": [],
   "source": [
    "\n",
    "\n",
    "\n",
    "produtos = ['beb46275','TFA23962','TFA64715','TFA69555','TFA56743','BSA45510','TFA44968','CAR75448','CAR23596','CAR13490','BEB21365','BEB31623','BSA62419','BEB73344','TFA20079','BEB80694','BSA11769','BEB19495','TFA14792','TFA78043','BSA33484','BEB97471','BEB62362','TFA27311','TFA17715','BEB85146','BEB48898','BEB79496','CAR38417','TFA19947','TFA58799','CAR94811','BSA59251','BEB15385','BEB24213','BEB56262','BSA96915','CAR53454','BEB75073']\n",
    "\n"
   ]
  },
  {
   "cell_type": "code",
   "execution_count": 15,
   "id": "33280693",
   "metadata": {},
   "outputs": [
    {
     "data": {
      "text/plain": [
       "['BEB46275',\n",
       " 'BEB21365',\n",
       " 'BEB31623',\n",
       " 'BEB73344',\n",
       " 'BEB80694',\n",
       " 'BEB19495',\n",
       " 'BEB97471',\n",
       " 'BEB62362',\n",
       " 'BEB85146',\n",
       " 'BEB48898',\n",
       " 'BEB79496',\n",
       " 'BEB15385',\n",
       " 'BEB24213',\n",
       " 'BEB56262',\n",
       " 'BEB75073']"
      ]
     },
     "execution_count": 15,
     "metadata": {},
     "output_type": "execute_result"
    }
   ],
   "source": [
    "def pesquisarBebida(itens):\n",
    "    bebidas = [];\n",
    "    \n",
    "    for item in itens:\n",
    "        \n",
    "        if 'BEB' in item.upper():\n",
    "            bebidas.append(item.upper());\n",
    "            \n",
    "    return bebidas;\n",
    "\n",
    "pesquisarBebida(produtos)\n",
    "            "
   ]
  },
  {
   "cell_type": "markdown",
   "id": "304928c0",
   "metadata": {},
   "source": [
    "### Passando vários argumentos\n",
    "\n",
    "Exemplo: Imagine que você quer melhorar a função de pesquisa e transformá-la numa função de classificação, onde você pode passar a lista e o tipo de item que deve ser retornado."
   ]
  },
  {
   "cell_type": "code",
   "execution_count": 41,
   "id": "4bb1786b",
   "metadata": {},
   "outputs": [
    {
     "name": "stdout",
     "output_type": "stream",
     "text": [
      "['TFA23962', 'TFA64715', 'TFA69555', 'TFA56743', 'TFA44968', 'TFA20079', 'TFA14792', 'TFA78043', 'TFA27311', 'TFA17715', 'TFA19947', 'TFA58799']\n"
     ]
    }
   ],
   "source": [
    "def pesquisarItem(itens, tipo):\n",
    "    listaItens=[];\n",
    "    for item in itens:\n",
    "        if tipo.upper() in item.upper():\n",
    "            listaItens.append(item)\n",
    "    return listaItens\n",
    "\n",
    "\n",
    "produtos = ['beb46275','TFA23962','TFA64715','TFA69555','TFA56743','BSA45510','TFA44968','CAR75448','CAR23596','CAR13490','BEB21365','BEB31623','BSA62419','BEB73344','TFA20079','BEB80694','BSA11769','BEB19495','TFA14792','TFA78043','BSA33484','BEB97471','BEB62362','TFA27311','TFA17715','BEB85146','BEB48898','BEB79496','CAR38417','TFA19947','TFA58799','CAR94811','BSA59251','BEB15385','BEB24213','BEB56262','BSA96915','CAR53454','BEB75073']\n",
    "\n",
    "\n",
    "\n",
    "#passando argumentos por keyword\n",
    "\n",
    "print(pesquisarItem(produtos,'tfa'))\n",
    "\n",
    "\n"
   ]
  },
  {
   "cell_type": "markdown",
   "id": "c8700d87",
   "metadata": {},
   "source": [
    "### Valores padrão em argumentos\n",
    "\n",
    "### Estrutura\n",
    "\n",
    "- Nesse caso, você não é obrigado a passar o valor para usar a função, pode usar o valor padrão."
   ]
  },
  {
   "cell_type": "raw",
   "id": "8bcedebb",
   "metadata": {},
   "source": [
    "def minha_funcao(argumento = valor_padrao):\n",
    "    ...\n",
    "    return ..."
   ]
  },
  {
   "cell_type": "markdown",
   "id": "459c2706",
   "metadata": {},
   "source": [
    "Exemplo: Vamos modificar a função do exemplo anterior para que o item do tipo BEB seja o padrão"
   ]
  },
  {
   "cell_type": "code",
   "execution_count": 44,
   "id": "8fa2224b",
   "metadata": {},
   "outputs": [
    {
     "name": "stdout",
     "output_type": "stream",
     "text": [
      "['beb46275', 'BEB21365', 'BEB31623', 'BEB73344', 'BEB80694', 'BEB19495', 'BEB97471', 'BEB62362', 'BEB85146', 'BEB48898', 'BEB79496', 'BEB15385', 'BEB24213', 'BEB56262', 'BEB75073']\n",
      "['TFA23962', 'TFA64715', 'TFA69555', 'TFA56743', 'TFA44968', 'TFA20079', 'TFA14792', 'TFA78043', 'TFA27311', 'TFA17715', 'TFA19947', 'TFA58799']\n"
     ]
    }
   ],
   "source": [
    "def pesquisarItem(itens, tipo='BEB'):\n",
    "    listaItens=[];\n",
    "    for item in itens:\n",
    "        if tipo.upper() in item.upper():\n",
    "            listaItens.append(item)\n",
    "    return listaItens\n",
    "\n",
    "produtos = ['beb46275','TFA23962','TFA64715','TFA69555','TFA56743','BSA45510','TFA44968','CAR75448','CAR23596','CAR13490','BEB21365','BEB31623','BSA62419','BEB73344','TFA20079','BEB80694','BSA11769','BEB19495','TFA14792','TFA78043','BSA33484','BEB97471','BEB62362','TFA27311','TFA17715','BEB85146','BEB48898','BEB79496','CAR38417','TFA19947','TFA58799','CAR94811','BSA59251','BEB15385','BEB24213','BEB56262','BSA96915','CAR53454','BEB75073']\n",
    "\n",
    "itens_novos = pesquisarItem(produtos)\n",
    "print(itens_novos)\n",
    "\n",
    "itens_novos = pesquisarItem(produtos, 'TFA')\n",
    "print(itens_novos)\n"
   ]
  },
  {
   "cell_type": "markdown",
   "id": "f273b325",
   "metadata": {},
   "source": [
    "### Exercício: Crie uma função para descobrir os clientes inadimplentes de uma empresa\n",
    "\n",
    "- O objetivo é identificar quem são os clientes inadimplentes e enviar essa lista de clientes para o setor de cobrança poder fazer a cobrança dos clientes.\n",
    "- Sua função deve então receber uma lista de clientes, analisar quais clientes estão inadimplentes, e retornar uma lista com os clientes inadimplentes (apenas o CPF deles já é suficiente)\n",
    "- A inadimplência nessa empresa é calculada da seguinte forma:\n",
    "    1. Se o cliente tiver devendo mais de 1.000 reais por mais de 20 dias, ele é considerado inadimplente.\n",
    "    2. Isso significa que caso ou cliente esteja devendo 2.000 reais a 10 dias, ele não é inadimplente, pois não se passaram 20 dias ainda. Da mesma forma, se ele estiver devendo 500 reais por 40 dias, ele também não é inadimplente, dado que ele deve menos de 1.000 reais.\n",
    "    3. As informações vêm no formato (cpf, valor_devido, qtde de dias)"
   ]
  },
  {
   "cell_type": "code",
   "execution_count": 58,
   "id": "d24e2d47",
   "metadata": {},
   "outputs": [
    {
     "name": "stdout",
     "output_type": "stream",
     "text": [
      "['462.286.561-65', '297.681.579-21', '810.442.219-10', '908.507.760-43', '204.169.467-27', '786.547.940-70', '540.685.100-32', '379.729.796-80', '980.173.363-94', '833.285.374-56', '588.404.964-15', '670.346.230-99', '771.352.915-13', '430.314.324-46', '406.133.151-17', '310.985.894-64', '964.317.132-30', '781.995.738-18', '921.558.128-63', '941.386.982-65', '684.995.531-65', '285.864.892-85', '143.188.958-61', '165.554.107-13', '718.225.984-87', '397.994.286-79', '967.160.575-69', '171.104.286-74', '152.817.649-24', '645.308.846-62', '201.476.809-95', '486.290.887-24', '432.376.642-62', '207.274.437-91', '346.871.172-72', '817.170.984-26', '591.397.550-29', '615.629.238-82', '240.427.458-70', '700.720.266-23', '261.974.594-90', '680.569.318-52', '556.156.341-36', '852.796.660-25', '536.714.951-95', '520.645.562-80', '913.525.896-32', '760.248.897-67', '805.469.913-50', '847.150.802-96', '539.300.108-41', '549.151.467-76', '738.451.908-29', '987.288.834-69', '169.415.202-43', '757.885.355-97', '523.895.611-54', '535.354.954-30', '209.759.133-88', '321.123.241-10', '407.342.963-78', '770.920.161-42', '815.943.237-83', '379.995.400-37', '495.461.913-57', '408.987.269-72', '761.137.848-34', '216.401.188-57', '956.318.620-43', '986.516.478-33', '327.988.845-70', '887.826.412-21', '122.975.174-32', '208.788.890-61']\n"
     ]
    }
   ],
   "source": [
    "clientes_devedores = [('462.286.561-65',14405,24),('251.569.170-81',16027,1),('297.681.579-21',8177,28),('790.223.154-40',9585,10),('810.442.219-10',18826,29),('419.210.299-79',11421,15),('908.507.760-43',12445,24),('911.238.364-17',1345,4),('131.115.339-28',11625,8),('204.169.467-27',5364,22),('470.806.376-11',932,29),('938.608.980-69',13809,19),('554.684.165-26',11227,2),('119.225.846-34',4475,9),('358.890.858-95',13932,20),('786.547.940-70',17048,25),('468.487.741-94',2902,8),('540.685.100-32',5806,21),('379.729.796-80',7622,24),('980.173.363-94',13167,24),('833.285.374-56',19581,24),('103.669.436-50',17126,4),('386.836.124-46',18825,11),('588.404.964-15',1545,30),('600.556.177-18',1921,7),('670.346.230-99',18079,28),('771.352.915-13',16581,23),('430.314.324-46',13942,24),('629.507.759-51',17951,11),('348.683.225-73',12424,10),('406.133.151-17',5888,30),('310.985.894-64',17316,30),('964.317.132-30',18818,30),('845.331.524-14',14284,13),('781.995.738-18',19369,29),('921.558.128-63',3206,27),('941.386.982-65',10228,26),('551.135.290-10',18822,18),('537.124.578-35',12670,6),('119.383.169-76',790,20),('938.473.410-98',8851,5),('279.775.182-54',5212,20),('210.872.954-53',13569,8),('684.995.531-65',8649,21),('653.886.282-57',504,28),('973.580.738-53',2533,9),('285.864.892-85',8200,21),('777.154.423-98',10336,8),('769.786.401-34',3233,12),('521.566.565-97',11882,14),('491.799.681-92',653,8),('344.357.819-36',8856,18),('265.362.581-99',8962,8),('331.410.527-56',18516,18),('143.188.958-61',7234,29),('751.630.472-61',13552,6),('714.707.807-80',2898,7),('585.584.932-83',239,25),('165.554.107-13',9572,23),('718.225.984-87',10534,25),('611.715.653-32',3210,11),('397.994.286-79',13651,24),('967.160.575-69',8997,25),('369.750.998-94',13952,2),('767.400.554-79',18320,11),('171.104.286-74',5821,21),('152.817.649-24',3358,30),('645.308.846-62',15176,25),('273.884.570-92',4436,13),('888.818.341-45',15730,3),('577.836.712-40',14670,16),('513.529.919-95',4002,1),('201.476.809-95',17442,21),('657.816.571-87',1582,2),('810.494.975-87',2157,9),('531.749.410-17',12355,18),('486.290.887-24',18576,26),('432.376.642-62',8027,23),('207.274.437-91',5125,29),('634.244.673-72',11387,15),('346.871.172-72',8105,23),('166.330.605-50',7865,11),('829.181.731-94',2425,8),('197.305.464-63',9681,8),('887.877.706-59',15681,10),('847.598.885-51',323,23),('817.170.984-26',5169,27),('591.397.550-29',13362,25),('872.733.198-95',5756,18),('615.629.238-82',11678,23),('194.782.846-77',11044,17),('146.392.158-88',6848,4),('240.427.458-70',3906,25),('583.662.427-52',3306,5),('841.627.523-64',4778,4),('985.337.216-77',15308,4),('912.410.722-57',11683,6),('700.720.266-23',12638,21),('605.405.529-53',3831,3),('383.256.402-25',2599,10),('248.103.486-68',9121,1),('261.974.594-90',2139,26),('297.126.704-91',18529,16),('680.569.318-52',10176,23),('296.334.647-38',225,13),('200.761.898-70',16244,20),('258.232.687-17',19462,18),('597.295.672-38',18840,11),('894.479.102-52',11375,12),('556.156.341-36',16269,23),('987.874.553-86',11253,17),('248.927.998-94',6510,1),('852.796.660-25',2662,23),('741.370.204-36',9303,16),('536.714.951-95',2877,23),('320.395.830-44',14554,5),('520.645.562-80',17547,24),('553.700.674-28',3147,14),('913.525.896-32',17651,28),('750.456.495-86',11524,9),('246.171.748-38',15184,4),('760.248.897-67',4953,25),('920.890.990-46',17172,20),('805.469.913-50',17500,21),('878.594.225-48',6255,3),('356.715.924-36',3454,13),('847.150.802-96',8602,22),('625.846.640-53',10888,19),('539.300.108-41',11225,21),('549.151.467-76',1286,21),('738.451.908-29',18905,22),('987.288.834-69',17533,25),('898.532.296-94',9719,11),('620.531.607-13',13584,10),('169.415.202-43',1871,29),('757.885.355-97',18150,28),('252.581.376-21',2497,3),('177.937.460-78',7178,8),('523.895.611-54',9878,26),('883.680.201-23',16761,3),('936.678.268-71',11017,9),('871.912.703-73',1754,9),('957.749.478-56',6914,9),('725.636.354-80',8605,13),('898.316.244-33',14363,12),('894.748.325-28',2764,3),('647.106.954-60',1482,6),('628.716.937-98',14107,8),('332.677.483-83',19146,15),('186.870.928-82',17050,12),('216.248.879-71',4384,16),('287.929.269-44',4894,19),('278.335.932-42',17220,13),('824.107.287-13',11797,7),('535.354.954-30',9195,22),('311.762.241-12',13871,2),('209.759.133-88',13580,21),('505.728.766-53',16950,13),('879.471.988-23',17427,14),('772.329.947-39',3462,8),('321.123.241-10',2592,22),('407.342.963-78',11435,21),('786.935.637-47',14240,9),('461.791.351-55',142,2),('770.920.161-42',1247,24),('639.870.185-59',6430,10),('815.943.237-83',19550,22),('141.774.255-61',17866,13),('379.995.400-37',9503,29),('261.103.178-64',19167,13),('495.461.913-57',12265,29),('498.848.750-79',14549,16),('578.770.731-84',1462,5),('408.987.269-72',5647,28),('191.970.336-40',6313,15),('761.137.848-34',10654,23),('810.512.154-21',14928,1),('256.371.788-38',7085,2),('216.401.188-57',1531,23),('956.318.620-43',6327,22),('986.516.478-33',3866,25),('105.665.555-60',7118,4),('259.228.430-72',1601,8),('133.627.971-58',10142,14),('327.988.845-70',14985,23),('363.167.322-63',17236,7),('189.986.406-38',16888,18),('661.194.373-45',7824,1),('805.728.877-53',514,10),('887.826.412-21',15977,24),('122.975.174-32',9409,25),('456.550.370-55',19922,18),('388.243.133-66',19785,17),('208.788.890-61',11893,22),('881.332.662-49',6344,16),('912.349.944-52',6858,15),('534.904.583-32',9559,11),('825.175.334-25',19805,15),('339.191.298-46',13325,8),('569.993.915-78',4339,15)]\n",
    "\n",
    "#função com upack indireto\n",
    "def clientes_inadimplentes(listaDevedores):\n",
    "    listaClientes = [];\n",
    "    \n",
    "    for cliente in listaDevedores:\n",
    "        cpf, valor, dias = cliente\n",
    "        \n",
    "        if valor > 1000 and dias > 20:\n",
    "            listaClientes.append(cpf)\n",
    "        \n",
    "    return listaClientes\n",
    "#print(clientes_inadimplentes(clientes_devedores))\n",
    "\n",
    "#função com unpack direto\n",
    "\n",
    "def clientes_inadimplentes2(listaDevedores):\n",
    "    listaClientes = [];\n",
    "    \n",
    "    for cpf, valor, dias in listaDevedores:\n",
    "#        cpf, valor, dias = cliente\n",
    "        \n",
    "        if valor > 1000 and dias > 20:\n",
    "            listaClientes.append(cpf)\n",
    "        \n",
    "    return listaClientes\n",
    "print(clientes_inadimplentes2(clientes_devedores))\n"
   ]
  },
  {
   "cell_type": "code",
   "execution_count": null,
   "id": "13e9a56d",
   "metadata": {},
   "outputs": [],
   "source": []
  },
  {
   "cell_type": "markdown",
   "id": "6e406530",
   "metadata": {},
   "source": [
    "# Retorno multiplo com mais de um objeto\n",
    "\n",
    "- É possível retornar 2 \"coisas\": 2 listas, 2 strings, 2 números...\n",
    "    - Basta retornar como uma tupla com 2 itens (vamos fazer um exemplo)\n",
    "    \n"
   ]
  },
  {
   "cell_type": "code",
   "execution_count": 65,
   "id": "fe2e2eff",
   "metadata": {},
   "outputs": [
    {
     "name": "stdout",
     "output_type": "stream",
     "text": [
      "(12, 8, 20, 5.0)\n"
     ]
    }
   ],
   "source": [
    "def operacoes(num1,num2):\n",
    "    soma = num1 + num2;\n",
    "    dif = num1 - num2;\n",
    "    multi = num1 * num2;\n",
    "    div = num1 / num2;\n",
    "    \n",
    "    return soma, dif, multi, div\n",
    "\n",
    "print(operacoes(10, 2))"
   ]
  },
  {
   "cell_type": "markdown",
   "id": "758feea6",
   "metadata": {},
   "source": [
    "# Docstring e Annotations\n",
    "\n",
    "### Estrutura - São ferramentas \"apenas\" para organização:\n",
    "\n",
    "Quando criamos uma função, normalmente não seremos as únicas pessoas a usarem essa função e também pode ser que a gente precise usar essa mesma função semanas, meses ou até anos depois da sua criação.\n",
    "\n",
    "Por isso é importante usarmos DocStrings e Annotations\n",
    "\n",
    "- Docstring -> diz o que a função faz, quais valores ela tem como argumento e o que significa cada valor\n",
    "- Annotation -> diz o que devem ser os argumentos e o que a função retorna\n",
    "\n",
    "### Docstring:"
   ]
  },
  {
   "cell_type": "raw",
   "id": "bbbaede1",
   "metadata": {},
   "source": [
    "def minha_funcao(arg1, arg2, ...):\n",
    "    '''O que a função faz\n",
    "    \n",
    "    Parameters:\n",
    "        arg1 (int): o que é o argumento 1\n",
    "        arg2 (str): o que é o argumento 2\n",
    "        ...\n",
    "    \n",
    "    Returns:\n",
    "        texto (str): o que a função retorna como resposta\n",
    "    '''\n",
    "    \n",
    "    ...código da função"
   ]
  },
  {
   "cell_type": "code",
   "execution_count": 67,
   "id": "663da27c",
   "metadata": {},
   "outputs": [],
   "source": [
    "def minha_soma(num1, num2, num3):\n",
    "    '''Faz a soma de 3 números inteiros e devolve como resposta um inteiro\n",
    "    \n",
    "    Parameters:\n",
    "        num1 (int): primeiro número a ser somado\n",
    "        num2 (int): segundo número a ser somado\n",
    "        num3 (int): terceiro número a ser somado\n",
    "    \n",
    "    Returns:\n",
    "        soma (int): o valor da soma dos 3 números dados como argumento\n",
    "    '''\n",
    "    return num1 + num2 + num3\n",
    "\n",
    "\n",
    "\n",
    "minha_soma() #pressionar shift + tab"
   ]
  },
  {
   "cell_type": "markdown",
   "id": "1be1b1a2",
   "metadata": {},
   "source": [
    "### Annotation:"
   ]
  },
  {
   "cell_type": "raw",
   "id": "7b75a251",
   "metadata": {},
   "source": [
    "Focado apenas nos argumentos e retorno da função\n",
    "\n",
    "def minha_funcao(arg1: isso, arg2: aquilo) -> o que a função retorna:\n",
    "    ...\n",
    "    return ..."
   ]
  },
  {
   "cell_type": "code",
   "execution_count": 71,
   "id": "b7420148",
   "metadata": {},
   "outputs": [],
   "source": [
    "def minha_soma(num1: 'primeiro número a ser somado', num2: int, num3: int) -> int:\n",
    "    return num1 + num2 + num3\n",
    "\n",
    "minha_soma() #pressionar shift + tab"
   ]
  },
  {
   "cell_type": "markdown",
   "id": "94f72137",
   "metadata": {},
   "source": [
    "# Quantidade Indefinidas de Argumentos\n",
    "\n",
    "### Utilidade:\n",
    "\n",
    "Quando você quer permitir uma quantidade indefinida de argumentos, usa o * para isso.\n",
    "\n",
    "### Estrutura:"
   ]
  },
  {
   "cell_type": "raw",
   "id": "9fbeefdc",
   "metadata": {},
   "source": [
    "*args para positional arguments -> argumentos vêm em formato de tupla\n",
    "\n",
    "def minha_funcao(*args):\n",
    "    ...\n",
    "\n",
    "\n",
    "**kwargs para keyword arguments -> argumentos vêm em formato de dicionário\n",
    "\n",
    "def minha_funcao(**kwargs):\n",
    "    ..."
   ]
  },
  {
   "cell_type": "code",
   "execution_count": 1,
   "id": "9e3bc508",
   "metadata": {},
   "outputs": [
    {
     "name": "stdout",
     "output_type": "stream",
     "text": [
      "(10, 13, 1, 10, 90, 0, 9, 8)\n",
      "141\n"
     ]
    }
   ],
   "source": [
    "def minha_soma(*numeros):\n",
    "    print(numeros)\n",
    "    soma = 0\n",
    "    for numero in numeros:\n",
    "        soma += numero\n",
    "    return soma\n",
    "\n",
    "print(minha_soma(10, 13, 1, 10, 90, 0, 9, 8))"
   ]
  },
  {
   "cell_type": "code",
   "execution_count": 2,
   "id": "668226cd",
   "metadata": {},
   "outputs": [
    {
     "name": "stdout",
     "output_type": "stream",
     "text": [
      "{'desconto': 0.1, 'garantia_extra': 100, 'imposto': 0.3}\n",
      "1300.0\n"
     ]
    }
   ],
   "source": [
    "def preco_final(preco, **adicionais):\n",
    "    print(adicionais)\n",
    "    if 'desconto' in adicionais:\n",
    "        preco *= (1 - adicionais['desconto'])\n",
    "    if 'garantia_extra' in adicionais:\n",
    "        preco += adicionais['garantia_extra'] \n",
    "    if 'imposto' in adicionais:\n",
    "        preco *= (1 + adicionais['imposto'])\n",
    "    return preco\n",
    "\n",
    "\n",
    "\n",
    "print(preco_final(1000, desconto=0.1, garantia_extra = 100, imposto=0.3))"
   ]
  },
  {
   "cell_type": "markdown",
   "id": "703ac426",
   "metadata": {},
   "source": [
    "# Ordem dos Argumentos\n",
    "\n",
    "### Estrutura:\n",
    "\n",
    "- Sempre os positional arguments vêm antes e depois os keywords arguments.\n",
    "- Sempre os argumentos individuais vêm antes e depois os \"múltiplos\"\n"
   ]
  },
  {
   "cell_type": "raw",
   "id": "dc76f6db",
   "metadata": {},
   "source": [
    "def minha_funcao(arg1, arg2, arg3, arg4, *args, k = kwarg1, k2 = kwarg2, k3 = kwarg3, **kwargs):\n",
    "    ..."
   ]
  }
 ],
 "metadata": {
  "kernelspec": {
   "display_name": "Python 3",
   "language": "python",
   "name": "python3"
  },
  "language_info": {
   "codemirror_mode": {
    "name": "ipython",
    "version": 3
   },
   "file_extension": ".py",
   "mimetype": "text/x-python",
   "name": "python",
   "nbconvert_exporter": "python",
   "pygments_lexer": "ipython3",
   "version": "3.8.8"
  }
 },
 "nbformat": 4,
 "nbformat_minor": 5
}
