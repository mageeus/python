{
 "cells": [
  {
   "cell_type": "markdown",
   "id": "3324cdc4",
   "metadata": {},
   "source": [
    "# 19 - Primeiros comandos com o Selenium\n",
    "\n",
    "Usaremos a forma dinâmica de administração do navegador"
   ]
  },
  {
   "cell_type": "code",
   "execution_count": 12,
   "id": "8566a525",
   "metadata": {},
   "outputs": [],
   "source": [
    "from selenium import webdriver\n",
    "from selenium.webdriver.chrome.service import Service\n",
    "from webdriver_manager.chrome import ChromeDriverManager\n",
    "from selenium.webdriver.common.keys import Keys\n",
    "from selenium.webdriver.common.by import By\n",
    "import time\n",
    "#servico = Service(ChromeDriverManager().install())\n",
    "#driver = webdriver.Chrome(service=servico)"
   ]
  },
  {
   "cell_type": "code",
   "execution_count": 13,
   "id": "788390e3",
   "metadata": {},
   "outputs": [
    {
     "name": "stderr",
     "output_type": "stream",
     "text": [
      "[WDM] - Downloading:  95%|█████████▍| 6.48M/6.84M [00:01<00:00, 6.18MB/s]"
     ]
    },
    {
     "ename": "NoSuchWindowException",
     "evalue": "Message: no such window: target window already closed\nfrom unknown error: web view not found\n  (Session info: chrome=112.0.5615.50)\nStacktrace:\nBacktrace:\n\tGetHandleVerifier [0x010C5E23+53059]\n\t(No symbol) [0x01054AF1]\n\t(No symbol) [0x00F4B388]\n\t(No symbol) [0x00F2E1B3]\n\t(No symbol) [0x00F9E42B]\n\t(No symbol) [0x00FAFE06]\n\t(No symbol) [0x00F9A5C6]\n\t(No symbol) [0x00F70A2C]\n\t(No symbol) [0x00F720ED]\n\tGetHandleVerifier [0x0132D3CE+2573550]\n\tGetHandleVerifier [0x01363340+2794592]\n\tGetHandleVerifier [0x0135CF1C+2768956]\n\tGetHandleVerifier [0x0115FA60+682880]\n\t(No symbol) [0x0105EE22]\n\t(No symbol) [0x0105A8B8]\n\t(No symbol) [0x0105A99B]\n\t(No symbol) [0x0104DB57]\n\tBaseThreadInitThunk [0x775600F9+25]\n\tRtlGetAppContainerNamedObjectPath [0x77DE7BBE+286]\n\tRtlGetAppContainerNamedObjectPath [0x77DE7B8E+238]\n",
     "output_type": "error",
     "traceback": [
      "\u001b[1;31m---------------------------------------------------------------------------\u001b[0m",
      "\u001b[1;31mNoSuchWindowException\u001b[0m                     Traceback (most recent call last)",
      "\u001b[1;32m<ipython-input-13-307d66a994cc>\u001b[0m in \u001b[0;36m<module>\u001b[1;34m\u001b[0m\n\u001b[0;32m      4\u001b[0m \u001b[1;33m\u001b[0m\u001b[0m\n\u001b[0;32m      5\u001b[0m \u001b[1;31m# Navegando para o Google\u001b[0m\u001b[1;33m\u001b[0m\u001b[1;33m\u001b[0m\u001b[1;33m\u001b[0m\u001b[0m\n\u001b[1;32m----> 6\u001b[1;33m \u001b[0mdriver\u001b[0m\u001b[1;33m.\u001b[0m\u001b[0mget\u001b[0m\u001b[1;33m(\u001b[0m\u001b[1;34m\"https://www.google.com/\"\u001b[0m\u001b[1;33m)\u001b[0m\u001b[1;33m\u001b[0m\u001b[1;33m\u001b[0m\u001b[0m\n\u001b[0m\u001b[0;32m      7\u001b[0m \u001b[1;31m# time.sleep(10)\u001b[0m\u001b[1;33m\u001b[0m\u001b[1;33m\u001b[0m\u001b[1;33m\u001b[0m\u001b[0m\n\u001b[0;32m      8\u001b[0m \u001b[1;33m\u001b[0m\u001b[0m\n",
      "\u001b[1;32mc:\\ProgramData\\Anaconda3\\lib\\site-packages\\selenium\\webdriver\\remote\\webdriver.py\u001b[0m in \u001b[0;36mget\u001b[1;34m(self, url)\u001b[0m\n\u001b[0;32m    453\u001b[0m         \u001b[0mLoads\u001b[0m \u001b[0ma\u001b[0m \u001b[0mweb\u001b[0m \u001b[0mpage\u001b[0m \u001b[1;32min\u001b[0m \u001b[0mthe\u001b[0m \u001b[0mcurrent\u001b[0m \u001b[0mbrowser\u001b[0m \u001b[0msession\u001b[0m\u001b[1;33m.\u001b[0m\u001b[1;33m\u001b[0m\u001b[1;33m\u001b[0m\u001b[0m\n\u001b[0;32m    454\u001b[0m         \"\"\"\n\u001b[1;32m--> 455\u001b[1;33m         \u001b[0mself\u001b[0m\u001b[1;33m.\u001b[0m\u001b[0mexecute\u001b[0m\u001b[1;33m(\u001b[0m\u001b[0mCommand\u001b[0m\u001b[1;33m.\u001b[0m\u001b[0mGET\u001b[0m\u001b[1;33m,\u001b[0m \u001b[1;33m{\u001b[0m\u001b[1;34m\"url\"\u001b[0m\u001b[1;33m:\u001b[0m \u001b[0murl\u001b[0m\u001b[1;33m}\u001b[0m\u001b[1;33m)\u001b[0m\u001b[1;33m\u001b[0m\u001b[1;33m\u001b[0m\u001b[0m\n\u001b[0m\u001b[0;32m    456\u001b[0m \u001b[1;33m\u001b[0m\u001b[0m\n\u001b[0;32m    457\u001b[0m     \u001b[1;33m@\u001b[0m\u001b[0mproperty\u001b[0m\u001b[1;33m\u001b[0m\u001b[1;33m\u001b[0m\u001b[0m\n",
      "\u001b[1;32mc:\\ProgramData\\Anaconda3\\lib\\site-packages\\selenium\\webdriver\\remote\\webdriver.py\u001b[0m in \u001b[0;36mexecute\u001b[1;34m(self, driver_command, params)\u001b[0m\n\u001b[0;32m    442\u001b[0m         \u001b[0mresponse\u001b[0m \u001b[1;33m=\u001b[0m \u001b[0mself\u001b[0m\u001b[1;33m.\u001b[0m\u001b[0mcommand_executor\u001b[0m\u001b[1;33m.\u001b[0m\u001b[0mexecute\u001b[0m\u001b[1;33m(\u001b[0m\u001b[0mdriver_command\u001b[0m\u001b[1;33m,\u001b[0m \u001b[0mparams\u001b[0m\u001b[1;33m)\u001b[0m\u001b[1;33m\u001b[0m\u001b[1;33m\u001b[0m\u001b[0m\n\u001b[0;32m    443\u001b[0m         \u001b[1;32mif\u001b[0m \u001b[0mresponse\u001b[0m\u001b[1;33m:\u001b[0m\u001b[1;33m\u001b[0m\u001b[1;33m\u001b[0m\u001b[0m\n\u001b[1;32m--> 444\u001b[1;33m             \u001b[0mself\u001b[0m\u001b[1;33m.\u001b[0m\u001b[0merror_handler\u001b[0m\u001b[1;33m.\u001b[0m\u001b[0mcheck_response\u001b[0m\u001b[1;33m(\u001b[0m\u001b[0mresponse\u001b[0m\u001b[1;33m)\u001b[0m\u001b[1;33m\u001b[0m\u001b[1;33m\u001b[0m\u001b[0m\n\u001b[0m\u001b[0;32m    445\u001b[0m             \u001b[0mresponse\u001b[0m\u001b[1;33m[\u001b[0m\u001b[1;34m\"value\"\u001b[0m\u001b[1;33m]\u001b[0m \u001b[1;33m=\u001b[0m \u001b[0mself\u001b[0m\u001b[1;33m.\u001b[0m\u001b[0m_unwrap_value\u001b[0m\u001b[1;33m(\u001b[0m\u001b[0mresponse\u001b[0m\u001b[1;33m.\u001b[0m\u001b[0mget\u001b[0m\u001b[1;33m(\u001b[0m\u001b[1;34m\"value\"\u001b[0m\u001b[1;33m,\u001b[0m \u001b[1;32mNone\u001b[0m\u001b[1;33m)\u001b[0m\u001b[1;33m)\u001b[0m\u001b[1;33m\u001b[0m\u001b[1;33m\u001b[0m\u001b[0m\n\u001b[0;32m    446\u001b[0m             \u001b[1;32mreturn\u001b[0m \u001b[0mresponse\u001b[0m\u001b[1;33m\u001b[0m\u001b[1;33m\u001b[0m\u001b[0m\n",
      "\u001b[1;32mc:\\ProgramData\\Anaconda3\\lib\\site-packages\\selenium\\webdriver\\remote\\errorhandler.py\u001b[0m in \u001b[0;36mcheck_response\u001b[1;34m(self, response)\u001b[0m\n\u001b[0;32m    247\u001b[0m                 \u001b[0malert_text\u001b[0m \u001b[1;33m=\u001b[0m \u001b[0mvalue\u001b[0m\u001b[1;33m[\u001b[0m\u001b[1;34m\"alert\"\u001b[0m\u001b[1;33m]\u001b[0m\u001b[1;33m.\u001b[0m\u001b[0mget\u001b[0m\u001b[1;33m(\u001b[0m\u001b[1;34m\"text\"\u001b[0m\u001b[1;33m)\u001b[0m\u001b[1;33m\u001b[0m\u001b[1;33m\u001b[0m\u001b[0m\n\u001b[0;32m    248\u001b[0m             \u001b[1;32mraise\u001b[0m \u001b[0mexception_class\u001b[0m\u001b[1;33m(\u001b[0m\u001b[0mmessage\u001b[0m\u001b[1;33m,\u001b[0m \u001b[0mscreen\u001b[0m\u001b[1;33m,\u001b[0m \u001b[0mstacktrace\u001b[0m\u001b[1;33m,\u001b[0m \u001b[0malert_text\u001b[0m\u001b[1;33m)\u001b[0m  \u001b[1;31m# type: ignore[call-arg]  # mypy is not smart enough here\u001b[0m\u001b[1;33m\u001b[0m\u001b[1;33m\u001b[0m\u001b[0m\n\u001b[1;32m--> 249\u001b[1;33m         \u001b[1;32mraise\u001b[0m \u001b[0mexception_class\u001b[0m\u001b[1;33m(\u001b[0m\u001b[0mmessage\u001b[0m\u001b[1;33m,\u001b[0m \u001b[0mscreen\u001b[0m\u001b[1;33m,\u001b[0m \u001b[0mstacktrace\u001b[0m\u001b[1;33m)\u001b[0m\u001b[1;33m\u001b[0m\u001b[1;33m\u001b[0m\u001b[0m\n\u001b[0m",
      "\u001b[1;31mNoSuchWindowException\u001b[0m: Message: no such window: target window already closed\nfrom unknown error: web view not found\n  (Session info: chrome=112.0.5615.50)\nStacktrace:\nBacktrace:\n\tGetHandleVerifier [0x010C5E23+53059]\n\t(No symbol) [0x01054AF1]\n\t(No symbol) [0x00F4B388]\n\t(No symbol) [0x00F2E1B3]\n\t(No symbol) [0x00F9E42B]\n\t(No symbol) [0x00FAFE06]\n\t(No symbol) [0x00F9A5C6]\n\t(No symbol) [0x00F70A2C]\n\t(No symbol) [0x00F720ED]\n\tGetHandleVerifier [0x0132D3CE+2573550]\n\tGetHandleVerifier [0x01363340+2794592]\n\tGetHandleVerifier [0x0135CF1C+2768956]\n\tGetHandleVerifier [0x0115FA60+682880]\n\t(No symbol) [0x0105EE22]\n\t(No symbol) [0x0105A8B8]\n\t(No symbol) [0x0105A99B]\n\t(No symbol) [0x0104DB57]\n\tBaseThreadInitThunk [0x775600F9+25]\n\tRtlGetAppContainerNamedObjectPath [0x77DE7BBE+286]\n\tRtlGetAppContainerNamedObjectPath [0x77DE7B8E+238]\n"
     ]
    },
    {
     "name": "stderr",
     "output_type": "stream",
     "text": [
      "[WDM] - Downloading: 100%|██████████| 6.84M/6.84M [00:20<00:00, 6.18MB/s]"
     ]
    }
   ],
   "source": [
    "\n",
    "# Instanciando o driver do navegador (neste caso, Chrome)\n",
    "servico = Service(ChromeDriverManager().install())\n",
    "driver = webdriver.Chrome(service=servico)\n",
    "\n",
    "# Navegando para o Google\n",
    "driver.get(\"https://www.google.com/\")\n",
    "# time.sleep(10)\n",
    "\n",
    "# Encontrando o campo de pesquisa e digitando o termo desejado\n",
    "#search_box = driver.find_element_by_name(\"q\")\n",
    "search_box = driver.find_element(By.NAME,\"q\")\n",
    "search_box.send_keys(\"comandos python\")\n",
    "\n",
    "# Pressionando Enter para realizar a pesquisa\n",
    "search_box.send_keys(Keys.RETURN)\n",
    "\n",
    "# Fechando o navegador\n",
    "#driver.close()\n"
   ]
  },
  {
   "cell_type": "code",
   "execution_count": 10,
   "id": "764dd4c6",
   "metadata": {},
   "outputs": [],
   "source": [
    "\n",
    "# Instanciando o driver do navegador (neste caso, Chrome)\n",
    "driver = webdriver.Chrome()\n",
    "\n",
    "# Navegando para o Google\n",
    "driver.get(\"https://www.google.com/\")\n",
    "\n",
    "# Encontrando o campo de pesquisa e digitando o termo desejado\n",
    "search_box = driver.find_element(By.NAME,\"q\")\n",
    "search_box.send_keys(\"Exemplos em python\")\n",
    "\n",
    "# Pressionando Enter para realizar a pesquisa\n",
    "search_box.send_keys(Keys.RETURN)\n",
    "\n",
    "# Fechando o navegador\n",
    "driver.close()"
   ]
  },
  {
   "cell_type": "markdown",
   "id": "496c9b80",
   "metadata": {},
   "source": [
    "PARA PODERMOS LOCALIZAR OS ELEMENTOS NA PÁGINA HTML SERÁ NECESSÁRIO IMPORTAR A BIBLIOTECAI IDENTIFICADORA DE ELEMENTOS COM A LINHA ABAIXO\n",
    "\n",
    "from selenium.webdriver.common.by import By\n",
    "\n",
    "Os elementos podem identificados por vários elementos como:\n",
    "\n",
    "ID\n",
    "CLASS_NAME\n",
    "XPATH\n",
    "TIPO DE INFORMAÇÃO (imagens, botão, etc...)\n",
    "\n",
    "Entretanto o mais recomendado é o ID principalmente por sua característica de identificação única de um elemento dentro da página.\n"
   ]
  },
  {
   "cell_type": "code",
   "execution_count": 13,
   "id": "7cbdba0a",
   "metadata": {},
   "outputs": [
    {
     "ename": "NameError",
     "evalue": "name 'navegador' is not defined",
     "output_type": "error",
     "traceback": [
      "\u001b[1;31m---------------------------------------------------------------------------\u001b[0m",
      "\u001b[1;31mNameError\u001b[0m                                 Traceback (most recent call last)",
      "\u001b[1;32m<ipython-input-13-aac05cb0468d>\u001b[0m in \u001b[0;36m<module>\u001b[1;34m\u001b[0m\n\u001b[0;32m      2\u001b[0m \u001b[1;33m\u001b[0m\u001b[0m\n\u001b[0;32m      3\u001b[0m \u001b[1;31m#vou acessar a página que desejamos manipular\u001b[0m\u001b[1;33m\u001b[0m\u001b[1;33m\u001b[0m\u001b[1;33m\u001b[0m\u001b[0m\n\u001b[1;32m----> 4\u001b[1;33m \u001b[0mnavegador\u001b[0m\u001b[1;33m.\u001b[0m\u001b[0mget\u001b[0m\u001b[1;33m(\u001b[0m\u001b[1;34m\"https://pastebin.com/\"\u001b[0m\u001b[1;33m)\u001b[0m\u001b[1;33m\u001b[0m\u001b[1;33m\u001b[0m\u001b[0m\n\u001b[0m\u001b[0;32m      5\u001b[0m \u001b[1;33m\u001b[0m\u001b[0m\n\u001b[0;32m      6\u001b[0m \u001b[1;31m#navegador.find_element\u001b[0m\u001b[1;33m\u001b[0m\u001b[1;33m\u001b[0m\u001b[1;33m\u001b[0m\u001b[0m\n",
      "\u001b[1;31mNameError\u001b[0m: name 'navegador' is not defined"
     ]
    }
   ],
   "source": [
    "from selenium.webdriver.common.by import By\n",
    "\n",
    "#vou acessar a página que desejamos manipular\n",
    "navegador.get(\"https://pastebin.com/\")\n",
    "\n",
    "#navegador.find_element\n",
    "#retorna um único elemento\n",
    "#navegador.find_elements\n",
    "#retorna uma lista de elementos\n",
    "#todos outros métodos de localização do selenium serão descontinuados\n",
    "\n",
    "#precisei usar essa linha para fechar a janela sobre cookies\n",
    "#navegador.find_element(By.XPATH, '/html/body/div[3]/div[1]/span').click()\n",
    "\n",
    "navegador.find_element(By.ID, 'postform-text').send_keys(\"Teste com o selenium\")\n",
    "\n",
    "#elemento = navegador.find_element(By.ID, 'postform-text')\n",
    "#elemento.send_keys(\"Teste por variável\")"
   ]
  },
  {
   "cell_type": "raw",
   "id": "a7ef3510",
   "metadata": {},
   "source": [
    "Sintaxe direta, e sintaxe por variáveis:\n",
    "\n",
    "•\tSintaxe direta\n",
    "\n",
    "navegador.find_element(By.ID, 'postform-text').send_keys(\"Teste com o selenium\")\n",
    "\n",
    "•\tSintaxe por variáveis\n",
    "\n",
    "elemento = navegador.find_element(By.ID, 'postform-text')\n",
    "elemento.send_keys(\"Teste por variável\")\n"
   ]
  },
  {
   "cell_type": "code",
   "execution_count": 6,
   "id": "0e9352b6",
   "metadata": {},
   "outputs": [],
   "source": [
    "#explicar as diferenças entre xpath e fullxpath\n",
    "\n",
    "navegador.find_element(By.XPATH, '/html/body/div[1]/div[2]/div[1]/div[2]/div/form/div[5]/div[1]/div[10]/button').click()\n",
    "\n"
   ]
  },
  {
   "cell_type": "code",
   "execution_count": 7,
   "id": "cdf710ba",
   "metadata": {},
   "outputs": [
    {
     "name": "stdout",
     "output_type": "stream",
     "text": [
      "https://pastebin.com/C1NrWdRu\n"
     ]
    }
   ],
   "source": [
    "print(navegador.current_url)"
   ]
  },
  {
   "cell_type": "markdown",
   "id": "54aee19c",
   "metadata": {},
   "source": [
    "Links de referência:\n",
    "\n",
    "https://selenium-python.readthedocs.io/"
   ]
  }
 ],
 "metadata": {
  "kernelspec": {
   "display_name": "Python 3",
   "language": "python",
   "name": "python3"
  },
  "language_info": {
   "codemirror_mode": {
    "name": "ipython",
    "version": 3
   },
   "file_extension": ".py",
   "mimetype": "text/x-python",
   "name": "python",
   "nbconvert_exporter": "python",
   "pygments_lexer": "ipython3",
   "version": "3.8.8"
  }
 },
 "nbformat": 4,
 "nbformat_minor": 5
}
