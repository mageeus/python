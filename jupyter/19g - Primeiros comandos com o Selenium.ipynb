{
 "cells": [
  {
   "cell_type": "markdown",
   "id": "3324cdc4",
   "metadata": {},
   "source": [
    "# 19 - Primeiros comandos com o Selenium\n",
    "\n",
    "Usaremos a forma dinâmica de administração do navegador"
   ]
  },
  {
   "cell_type": "code",
   "execution_count": 16,
   "id": "8566a525",
   "metadata": {},
   "outputs": [],
   "source": [
    "from selenium import webdriver\n",
    "from selenium.webdriver.chrome.service import Service\n",
    "from webdriver_manager.chrome import ChromeDriverManager\n",
    "from selenium.webdriver.common.keys import Keys\n",
    "from selenium.webdriver.common.by import By\n",
    "import time\n",
    "#servico = Service(ChromeDriverManager().install())\n",
    "#driver = webdriver.Chrome(service=servico)"
   ]
  },
  {
   "cell_type": "code",
   "execution_count": 18,
   "id": "788390e3",
   "metadata": {},
   "outputs": [],
   "source": [
    "\n",
    "# Instanciando o driver do navegador (neste caso, Chrome)\n",
    "servico = Service(ChromeDriverManager().install())\n",
    "driver = webdriver.Chrome(service=servico)\n",
    "\n",
    "# Navegando para o Google\n",
    "driver.get(\"https://www.google.com/\")\n",
    "# time.sleep(10)\n",
    "\n",
    "# Encontrando o campo de pesquisa e digitando o termo desejado\n",
    "#search_box = driver.find_element_by_name(\"q\")\n",
    "search_box = driver.find_element(By.NAME,\"q\")\n",
    "search_box.send_keys(\"comandos python\")\n",
    "\n",
    "# Pressionando Enter para realizar a pesquisa\n",
    "search_box.send_keys(Keys.RETURN)\n",
    "\n",
    "# Fechando o navegador\n",
    "#driver.close()\n"
   ]
  },
  {
   "cell_type": "code",
   "execution_count": 19,
   "id": "764dd4c6",
   "metadata": {},
   "outputs": [
    {
     "ename": "AttributeError",
     "evalue": "'WebDriver' object has no attribute 'find_element_by_name'",
     "output_type": "error",
     "traceback": [
      "\u001b[1;31m---------------------------------------------------------------------------\u001b[0m",
      "\u001b[1;31mAttributeError\u001b[0m                            Traceback (most recent call last)",
      "\u001b[1;32m<ipython-input-19-29251a30143f>\u001b[0m in \u001b[0;36m<module>\u001b[1;34m\u001b[0m\n\u001b[0;32m      6\u001b[0m \u001b[1;33m\u001b[0m\u001b[0m\n\u001b[0;32m      7\u001b[0m \u001b[1;31m# Encontrando o campo de pesquisa e digitando o termo desejado\u001b[0m\u001b[1;33m\u001b[0m\u001b[1;33m\u001b[0m\u001b[1;33m\u001b[0m\u001b[0m\n\u001b[1;32m----> 8\u001b[1;33m \u001b[0msearch_box\u001b[0m \u001b[1;33m=\u001b[0m \u001b[0mdriver\u001b[0m\u001b[1;33m.\u001b[0m\u001b[0mfind_element_by_name\u001b[0m\u001b[1;33m(\u001b[0m\u001b[1;34m\"q\"\u001b[0m\u001b[1;33m)\u001b[0m\u001b[1;33m\u001b[0m\u001b[1;33m\u001b[0m\u001b[0m\n\u001b[0m\u001b[0;32m      9\u001b[0m \u001b[0msearch_box\u001b[0m\u001b[1;33m.\u001b[0m\u001b[0msend_keys\u001b[0m\u001b[1;33m(\u001b[0m\u001b[1;34m\"Exemplos em python\"\u001b[0m\u001b[1;33m)\u001b[0m\u001b[1;33m\u001b[0m\u001b[1;33m\u001b[0m\u001b[0m\n\u001b[0;32m     10\u001b[0m \u001b[1;33m\u001b[0m\u001b[0m\n",
      "\u001b[1;31mAttributeError\u001b[0m: 'WebDriver' object has no attribute 'find_element_by_name'"
     ]
    }
   ],
   "source": [
    "\n",
    "# Instanciando o driver do navegador (neste caso, Chrome)\n",
    "driver = webdriver.Chrome()\n",
    "\n",
    "# Navegando para o Google\n",
    "driver.get(\"https://www.google.com/\")\n",
    "\n",
    "# Encontrando o campo de pesquisa e digitando o termo desejado\n",
    "search_box = driver.find_element_by_name(\"q\")\n",
    "search_box.send_keys(\"Exemplos em python\")\n",
    "\n",
    "# Pressionando Enter para realizar a pesquisa\n",
    "search_box.send_keys(Keys.RETURN)\n",
    "\n",
    "# Fechando o navegador\n",
    "driver.close()"
   ]
  },
  {
   "cell_type": "markdown",
   "id": "496c9b80",
   "metadata": {},
   "source": [
    "PARA PODERMOS LOCALIZAR OS ELEMENTOS NA PÁGINA HTML SERÁ NECESSÁRIO IMPORTAR A BIBLIOTECAI IDENTIFICADORA DE ELEMENTOS COM A LINHA ABAIXO\n",
    "\n",
    "from selenium.webdriver.common.by import By\n",
    "\n",
    "Os elementos podem identificados por vários elementos como:\n",
    "\n",
    "ID\n",
    "CLASS_NAME\n",
    "XPATH\n",
    "TIPO DE INFORMAÇÃO (imagens, botão, etc...)\n",
    "\n",
    "Entretanto o mais recomendado é o ID principalmente por sua característica de identificação única de um elemento dentro da página.\n"
   ]
  },
  {
   "cell_type": "code",
   "execution_count": 13,
   "id": "7cbdba0a",
   "metadata": {},
   "outputs": [
    {
     "ename": "NameError",
     "evalue": "name 'navegador' is not defined",
     "output_type": "error",
     "traceback": [
      "\u001b[1;31m---------------------------------------------------------------------------\u001b[0m",
      "\u001b[1;31mNameError\u001b[0m                                 Traceback (most recent call last)",
      "\u001b[1;32m<ipython-input-13-aac05cb0468d>\u001b[0m in \u001b[0;36m<module>\u001b[1;34m\u001b[0m\n\u001b[0;32m      2\u001b[0m \u001b[1;33m\u001b[0m\u001b[0m\n\u001b[0;32m      3\u001b[0m \u001b[1;31m#vou acessar a página que desejamos manipular\u001b[0m\u001b[1;33m\u001b[0m\u001b[1;33m\u001b[0m\u001b[1;33m\u001b[0m\u001b[0m\n\u001b[1;32m----> 4\u001b[1;33m \u001b[0mnavegador\u001b[0m\u001b[1;33m.\u001b[0m\u001b[0mget\u001b[0m\u001b[1;33m(\u001b[0m\u001b[1;34m\"https://pastebin.com/\"\u001b[0m\u001b[1;33m)\u001b[0m\u001b[1;33m\u001b[0m\u001b[1;33m\u001b[0m\u001b[0m\n\u001b[0m\u001b[0;32m      5\u001b[0m \u001b[1;33m\u001b[0m\u001b[0m\n\u001b[0;32m      6\u001b[0m \u001b[1;31m#navegador.find_element\u001b[0m\u001b[1;33m\u001b[0m\u001b[1;33m\u001b[0m\u001b[1;33m\u001b[0m\u001b[0m\n",
      "\u001b[1;31mNameError\u001b[0m: name 'navegador' is not defined"
     ]
    }
   ],
   "source": [
    "from selenium.webdriver.common.by import By\n",
    "\n",
    "#vou acessar a página que desejamos manipular\n",
    "navegador.get(\"https://pastebin.com/\")\n",
    "\n",
    "#navegador.find_element\n",
    "#retorna um único elemento\n",
    "#navegador.find_elements\n",
    "#retorna uma lista de elementos\n",
    "#todos outros métodos de localização do selenium serão descontinuados\n",
    "\n",
    "#precisei usar essa linha para fechar a janela sobre cookies\n",
    "#navegador.find_element(By.XPATH, '/html/body/div[3]/div[1]/span').click()\n",
    "\n",
    "navegador.find_element(By.ID, 'postform-text').send_keys(\"Teste com o selenium\")\n",
    "\n",
    "#elemento = navegador.find_element(By.ID, 'postform-text')\n",
    "#elemento.send_keys(\"Teste por variável\")"
   ]
  },
  {
   "cell_type": "raw",
   "id": "a7ef3510",
   "metadata": {},
   "source": [
    "Sintaxe direta, e sintaxe por variáveis:\n",
    "\n",
    "•\tSintaxe direta\n",
    "\n",
    "navegador.find_element(By.ID, 'postform-text').send_keys(\"Teste com o selenium\")\n",
    "\n",
    "•\tSintaxe por variáveis\n",
    "\n",
    "elemento = navegador.find_element(By.ID, 'postform-text')\n",
    "elemento.send_keys(\"Teste por variável\")\n"
   ]
  },
  {
   "cell_type": "code",
   "execution_count": 6,
   "id": "0e9352b6",
   "metadata": {},
   "outputs": [],
   "source": [
    "#explicar as diferenças entre xpath e fullxpath\n",
    "\n",
    "navegador.find_element(By.XPATH, '/html/body/div[1]/div[2]/div[1]/div[2]/div/form/div[5]/div[1]/div[10]/button').click()\n",
    "\n"
   ]
  },
  {
   "cell_type": "code",
   "execution_count": 7,
   "id": "cdf710ba",
   "metadata": {},
   "outputs": [
    {
     "name": "stdout",
     "output_type": "stream",
     "text": [
      "https://pastebin.com/C1NrWdRu\n"
     ]
    }
   ],
   "source": [
    "print(navegador.current_url)"
   ]
  },
  {
   "cell_type": "markdown",
   "id": "54aee19c",
   "metadata": {},
   "source": [
    "Links de referência:\n",
    "\n",
    "https://selenium-python.readthedocs.io/"
   ]
  }
 ],
 "metadata": {
  "kernelspec": {
   "display_name": "Python 3",
   "language": "python",
   "name": "python3"
  },
  "language_info": {
   "codemirror_mode": {
    "name": "ipython",
    "version": 3
   },
   "file_extension": ".py",
   "mimetype": "text/x-python",
   "name": "python",
   "nbconvert_exporter": "python",
   "pygments_lexer": "ipython3",
   "version": "3.8.8"
  }
 },
 "nbformat": 4,
 "nbformat_minor": 5
}
